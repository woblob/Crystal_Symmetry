{
 "cells": [
  {
   "cell_type": "code",
   "execution_count": 4,
   "metadata": {},
   "outputs": [],
   "source": [
    "from MMfunc import *\n",
    "import numpy as np\n",
    "p = np.array([0,1,0])\n",
    "Matrixes = generateSymetryBase()\n",
    "somelist = listadous(Matrixes[\"4\"][\"001\"],p)\n",
    "koordynaty = np.array([[0,0,0],[0,0,1],[0,1,0],[1,1,0],[1,0,0],[1,1,1],[1,0,1],[0,1,1],\n",
    "              [0.5,0.5,0],[0.5,0,0.5],[0,0.5,0.5],[0.5,0.5,1],[0.5,1,0.5],[1,0.5,0.5],\n",
    "             [0.75,0.25,0.25],[0.25,0.75,0.25],[0.25,0.25,0.75],[0.75,0.75,0.75]])\n",
    "komorka = supercell(koordynaty, size = 2)"
   ]
  },
  {
   "cell_type": "code",
   "execution_count": 36,
   "metadata": {},
   "outputs": [
    {
     "name": "stdout",
     "output_type": "stream",
     "text": [
      "317 ns ± 0.901 ns per loop (mean ± std. dev. of 7 runs, 1000000 loops each)\n",
      "322 ns ± 0.622 ns per loop (mean ± std. dev. of 7 runs, 1000000 loops each)\n",
      "299 ns ± 0.656 ns per loop (mean ± std. dev. of 7 runs, 1000000 loops each)\n"
     ]
    }
   ],
   "source": [
    "%timeit findPoints_Mixed(somelist,komorka.T)\n",
    "%timeit findPoints_Mixed_mod(somelist,komorka.T)\n",
    "%timeit findPoints_BASE_mod(somelist,komorka.T)"
   ]
  },
  {
   "cell_type": "code",
   "execution_count": 34,
   "metadata": {},
   "outputs": [],
   "source": [
    "'''def findPoints_BASE_mod(mylist,zbior2):\n",
    "    for punktprzek in mylist:  \n",
    "        indx = findindex(punktprzek,zbior2)  \n",
    "        if not indx + 1 or not np.allclose(zbior2[:,indx],punktprzek): #porownajPunkty \n",
    "#       if     indx + 1    and np.allclose(zbior2[:,indx],punktprzek): Antipoints\n",
    "            return False\n",
    "    return True\n",
    "'''\n",
    "\n",
    "n = 46\n",
    "koordynaty2 = np.array([[0,0,0],[0,0,1],[0,1,0],[1,1,0],[1,0,0],[1,1,1],[1,0,1],[0,1,1]])\n",
    "komorka = supercell(koordynaty2, size = 2)\n",
    "print(zaaplikujprzeksztalceniasymetryczne(np.append(komorka[:n],komorka[n+1:],axis = 0)))\n",
    "\n",
    "\n",
    "komorkabez = np.append(komorka[:n],komorka[n+1:],axis = 0)\n",
    "%time zaaplikujprzeksztalceniasymetryczne2(komorkabez)\n",
    "\n",
    "%timeit -r 10 -n 10  zaaplikujprzeksztalceniasymetryczne2(komorkabez,metryczne2CZYNIEMAmod(komorkabez,komorka[n]))\n",
    "\n",
    "n = 0\n",
    "while n < len(komorka):        \n",
    "    komorkaWAK = np.append(komorka[:n],komorka[n+1:],axis = 0)\n",
    "    print(n, komorka[n])\n",
    "    print(zaaplikujprzeksztalceniasymetryczne2(komorkaWAK),end='\\n\\n')\n",
    "    n+=1"
   ]
  }
 ],
 "metadata": {
  "kernelspec": {
   "display_name": "Python 3",
   "language": "python",
   "name": "python3"
  },
  "language_info": {
   "codemirror_mode": {
    "name": "ipython",
    "version": 3
   },
   "file_extension": ".py",
   "mimetype": "text/x-python",
   "name": "python",
   "nbconvert_exporter": "python",
   "pygments_lexer": "ipython3",
   "version": "3.7.2"
  }
 },
 "nbformat": 4,
 "nbformat_minor": 2
}
