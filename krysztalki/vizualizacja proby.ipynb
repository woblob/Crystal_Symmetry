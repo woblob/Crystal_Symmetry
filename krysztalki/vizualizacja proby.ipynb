{
 "cells": [
  {
   "cell_type": "code",
   "execution_count": 1,
   "metadata": {},
   "outputs": [],
   "source": [
    "# from MMfunc import *\n",
    "# Matrixes = generateSymetryBase()\n",
    "# # somelist = listadous(Matrixes[\"4\"][\"001\"],p)\n",
    "# koordynaty = np.array([[0,0,0],[0,0,1],[0,1,0],[1,1,0],[1,0,0],[1,1,1],[1,0,1],[0,1,1],\n",
    "#               [0.5,0.5,0],[0.5,0,0.5],[0,0.5,0.5],[0.5,0.5,1],[0.5,1,0.5],[1,0.5,0.5],\n",
    "#              [0.75,0.25,0.25],[0.25,0.75,0.25],[0.25,0.25,0.75],[0.75,0.75,0.75]])\n",
    "# komorka = supercell(koordynaty, size = 2)"
   ]
  },
  {
   "cell_type": "code",
   "execution_count": 42,
   "metadata": {},
   "outputs": [
    {
     "name": "stdout",
     "output_type": "stream",
     "text": [
      "[[0.   0.   0.  ]\n",
      " [0.   0.5  0.5 ]\n",
      " [0.25 0.25 0.25]\n",
      " [0.25 0.75 0.75]\n",
      " [0.5  0.   0.5 ]\n",
      " [0.5  0.5  0.  ]\n",
      " [0.75 0.25 0.75]\n",
      " [0.75 0.75 0.25]]\n"
     ]
    }
   ],
   "source": [
    "import sympy as sp\n",
    "#sp.init_printing(use_unicode=True)\n",
    "x,y,z = sp.symbols(\"x y z\")\n",
    "\n",
    "import numpy as np\n",
    "lines = [line.rstrip('\\n') for line in open('ZnS-Sfaleryt.cif')]\n",
    "\n",
    "P = 48\n",
    "K = 144\n",
    "\n",
    "SUBS = {x: 0,y:0,z:0}, {x: 0.25,y:0.25,z:0.25}\n",
    "mojekoord = []\n",
    "for SUB in SUBS:\n",
    "    for line in lines[P:K]:\n",
    "        koord = line.split(',')\n",
    "        mojalista = []\n",
    "        for i in range(3):\n",
    "            expr = float(sp.sympify(line)[i].evalf(2,subs=SUB))\n",
    "            mojalista.append(expr)\n",
    "        mojekoord.append(mojalista)\n",
    "cell = np.around(np.unique(mojekoord,axis = 0),4)\n",
    "# print(cell)    \n",
    "\n",
    "cell2 = cell.copy()\n",
    "cell2[cell2<0] += 1\n",
    "cell2 = np.unique(cell2,axis=0)\n",
    "print(cell2)"
   ]
  },
  {
   "cell_type": "code",
   "execution_count": 101,
   "metadata": {},
   "outputs": [
    {
     "name": "stdout",
     "output_type": "stream",
     "text": [
      "[[0.  0.  0. ]\n",
      " [0.  0.5 0.5]\n",
      " [0.5 0.  0.5]\n",
      " [0.5 0.5 0. ]]\n"
     ]
    }
   ],
   "source": [
    "cellwith0 = cell2[~cell2.all(axis=1)]\n",
    "print(cellwith0)"
   ]
  },
  {
   "cell_type": "code",
   "execution_count": 100,
   "metadata": {},
   "outputs": [
    {
     "name": "stdout",
     "output_type": "stream",
     "text": [
      "[[0.  0.  0. ]\n",
      " [0.  0.5 0.5]\n",
      " [0.5 0.  0.5]\n",
      " [0.5 0.5 0. ]]\n"
     ]
    }
   ],
   "source": [
    "import numpy as np\n",
    "cellasd = np.array([[0,0,0],[0,0.5,0.5],[0.5,0,0.5],[0.5,0.5,0]])\n",
    "print(cellasd)"
   ]
  },
  {
   "cell_type": "code",
   "execution_count": 104,
   "metadata": {},
   "outputs": [
    {
     "data": {
      "text/plain": [
       "array([[0, 0],\n",
       "       [0, 1],\n",
       "       [0, 2],\n",
       "       [1, 0],\n",
       "       [2, 1],\n",
       "       [3, 2]], dtype=int64)"
      ]
     },
     "execution_count": 104,
     "metadata": {},
     "output_type": "execute_result"
    }
   ],
   "source": [
    "zera = np.argwhere(cellasd==0)\n",
    "zera"
   ]
  },
  {
   "cell_type": "code",
   "execution_count": 109,
   "metadata": {},
   "outputs": [
    {
     "name": "stdout",
     "output_type": "stream",
     "text": [
      "i = 0\n",
      "[1. 0. 0.]\n",
      "i war = [[1]\n",
      " [2]]\n",
      "war.size =  2\n",
      "\n",
      "j = 0\n",
      "[1. 1. 0.]\n",
      "j war = [[2]]\n",
      "war.size =  1\n",
      "\n",
      "j = 1\n"
     ]
    },
    {
     "ename": "IndexError",
     "evalue": "index 1 is out of bounds for axis 0 with size 1",
     "output_type": "error",
     "traceback": [
      "\u001b[1;31m---------------------------------------------------------------------------\u001b[0m",
      "\u001b[1;31mIndexError\u001b[0m                                Traceback (most recent call last)",
      "\u001b[1;32m<ipython-input-109-b744af706f43>\u001b[0m in \u001b[0;36m<module>\u001b[1;34m\u001b[0m\n\u001b[0;32m     15\u001b[0m             \u001b[0mprint\u001b[0m\u001b[1;33m(\u001b[0m\u001b[1;34m'j ='\u001b[0m\u001b[1;33m,\u001b[0m\u001b[0mj\u001b[0m\u001b[1;33m)\u001b[0m\u001b[1;33m\u001b[0m\u001b[1;33m\u001b[0m\u001b[0m\n\u001b[0;32m     16\u001b[0m             \u001b[0mpomoc\u001b[0m \u001b[1;33m=\u001b[0m \u001b[0mmylist_pom\u001b[0m\u001b[1;33m[\u001b[0m\u001b[1;33m-\u001b[0m\u001b[1;36m1\u001b[0m\u001b[1;33m]\u001b[0m\u001b[1;33m.\u001b[0m\u001b[0mcopy\u001b[0m\u001b[1;33m(\u001b[0m\u001b[1;33m)\u001b[0m\u001b[1;33m\u001b[0m\u001b[1;33m\u001b[0m\u001b[0m\n\u001b[1;32m---> 17\u001b[1;33m             \u001b[0mpomoc\u001b[0m\u001b[1;33m[\u001b[0m\u001b[0mwar\u001b[0m\u001b[1;33m[\u001b[0m\u001b[0mj\u001b[0m\u001b[1;33m]\u001b[0m\u001b[1;33m]\u001b[0m \u001b[1;33m+=\u001b[0m \u001b[1;36m1\u001b[0m\u001b[1;33m\u001b[0m\u001b[1;33m\u001b[0m\u001b[0m\n\u001b[0m\u001b[0;32m     18\u001b[0m             \u001b[0mmylist_pom\u001b[0m\u001b[1;33m.\u001b[0m\u001b[0mappend\u001b[0m\u001b[1;33m(\u001b[0m\u001b[0mpomoc\u001b[0m\u001b[1;33m)\u001b[0m\u001b[1;33m\u001b[0m\u001b[1;33m\u001b[0m\u001b[0m\n\u001b[0;32m     19\u001b[0m             \u001b[0mwar\u001b[0m \u001b[1;33m=\u001b[0m \u001b[0mnp\u001b[0m\u001b[1;33m.\u001b[0m\u001b[0margwhere\u001b[0m\u001b[1;33m(\u001b[0m\u001b[0mpomoc\u001b[0m\u001b[1;33m[\u001b[0m\u001b[0mzera\u001b[0m\u001b[1;33m[\u001b[0m\u001b[0mi\u001b[0m\u001b[1;33m,\u001b[0m\u001b[1;36m1\u001b[0m\u001b[1;33m]\u001b[0m\u001b[1;33m:\u001b[0m\u001b[1;33m]\u001b[0m\u001b[1;33m==\u001b[0m\u001b[1;36m0\u001b[0m\u001b[1;33m)\u001b[0m \u001b[1;33m+\u001b[0m\u001b[0mzera\u001b[0m\u001b[1;33m[\u001b[0m\u001b[0mi\u001b[0m\u001b[1;33m,\u001b[0m\u001b[1;36m1\u001b[0m\u001b[1;33m]\u001b[0m\u001b[1;33m\u001b[0m\u001b[1;33m\u001b[0m\u001b[0m\n",
      "\u001b[1;31mIndexError\u001b[0m: index 1 is out of bounds for axis 0 with size 1"
     ]
    }
   ],
   "source": [
    "mylist_pom = []\n",
    "for i in range(zera.shape[0]):\n",
    "    print('i =',i)\n",
    "    pomoc = cellasd[zera[i,0]].copy()\n",
    "    pomoc[zera[i,1]] += 1\n",
    "    mylist_pom.append(pomoc)\n",
    "    war = np.argwhere(pomoc[zera[i,1]:]==0) + zera[i,1]\n",
    "    print(pomoc)\n",
    "    print(\"i war =\",war)\n",
    "    print(\"war.size = \",war.size)    \n",
    "    print()\n",
    "    if war.size:       \n",
    "#             j=0\n",
    "        for j in range(war.size):\n",
    "            print('j =',j)\n",
    "            pomoc = mylist_pom[-1].copy()\n",
    "            pomoc[war[j]] += 1\n",
    "            mylist_pom.append(pomoc)\n",
    "            war = np.argwhere(pomoc[zera[i,1]:]==0) + zera[i,1]\n",
    "            print(pomoc)\n",
    "            print(\"j war =\",war)\n",
    "            print(\"war.size = \",war.size)\n",
    "            print()\n",
    "#             if war.size:        \n",
    "#                     k=0\n",
    "# #                 for k in range(war.size):\n",
    "#                     print('k =',k)\n",
    "#                     pomoc = mylist_pom[-1].copy()\n",
    "#                     pomoc[war[k]] += 1\n",
    "#                     mylist_pom.append(pomoc)\n",
    "#                     war = np.argwhere(pomoc[zera[i,1]:]==0) +zera[i,1]\n",
    "#                     print(pomoc)\n",
    "#                     print(\"k war =\",war)\n",
    "#                     print(\"war.size = \",war.size)\n",
    "#                     print()\n",
    "    print()\n",
    "        \n",
    "mylist_pom = np.array(mylist_pom)\n",
    "    #if war:\n",
    " #       pass\n",
    "        #dodatek = func(pomoc,nr)\n",
    "        \n",
    "    \n",
    "print(mylist_pom)"
   ]
  },
  {
   "cell_type": "code",
   "execution_count": 99,
   "metadata": {},
   "outputs": [
    {
     "name": "stdout",
     "output_type": "stream",
     "text": [
      "17\n",
      "[[0.   0.   0.  ]\n",
      " [0.   0.   1.  ]\n",
      " [0.   0.5  0.5 ]\n",
      " [0.   1.   0.  ]\n",
      " [0.   1.   1.  ]\n",
      " [0.25 0.25 0.25]\n",
      " [0.25 0.75 0.75]\n",
      " [0.5  0.   0.5 ]\n",
      " [0.5  0.5  0.  ]\n",
      " [0.5  0.5  1.  ]\n",
      " [0.5  1.   0.5 ]\n",
      " [0.75 0.25 0.75]\n",
      " [0.75 0.75 0.25]\n",
      " [1.   0.   0.  ]\n",
      " [1.   0.5  0.5 ]\n",
      " [1.   1.   0.  ]\n",
      " [1.   1.   1.  ]]\n"
     ]
    }
   ],
   "source": [
    "CELL = np.append(cell2,mylist_pom,axis=0)\n",
    "CELL = np.unique(CELL,axis=0)\n",
    "print(len(CELL))\n",
    "print(CELL)"
   ]
  },
  {
   "cell_type": "code",
   "execution_count": 19,
   "metadata": {},
   "outputs": [
    {
     "name": "stdout",
     "output_type": "stream",
     "text": [
      "816 ns ± 5.17 ns per loop (mean ± std. dev. of 7 runs, 1000000 loops each)\n",
      "718 ns ± 3.48 ns per loop (mean ± std. dev. of 7 runs, 1000000 loops each)\n"
     ]
    }
   ],
   "source": [
    "%timeit cellasd[zera[1][0],zera[1][1]]"
   ]
  },
  {
   "cell_type": "code",
   "execution_count": 45,
   "metadata": {},
   "outputs": [
    {
     "name": "stdout",
     "output_type": "stream",
     "text": [
      "[0 0 0]\n",
      "[0 0 1]\n",
      "[0 1 0]\n",
      "[0 1 1]\n",
      "[1 0 0]\n",
      "[1 0 1]\n",
      "[1 1 0]\n",
      "[1 1 1]\n"
     ]
    }
   ],
   "source": [
    "from itertools import product\n",
    "for i in product(range(2),repeat=3):\n",
    "    print(np.array(i))"
   ]
  },
  {
   "cell_type": "code",
   "execution_count": 16,
   "metadata": {},
   "outputs": [
    {
     "name": "stdout",
     "output_type": "stream",
     "text": [
      "[(0, 1), (0, 1), (0, 1)]\n",
      "[[0], [1]]\n",
      "[[0, 0], [0, 1], [1, 0], [1, 1]]\n",
      "[[0, 0, 0], [0, 0, 1], [0, 1, 0], [0, 1, 1], [1, 0, 0], [1, 0, 1], [1, 1, 0], [1, 1, 1]]\n",
      "[[0, 0, 0], [0, 0, 1], [0, 1, 0], [0, 1, 1], [1, 0, 0], [1, 0, 1], [1, 1, 0], [1, 1, 1]]\n"
     ]
    }
   ],
   "source": [
    "def product2(*args, repeat=1):\n",
    "    # product('ABCD', 'xy') --> Ax Ay Bx By Cx Cy Dx Dy\n",
    "    # product(range(2), repeat=3) --> 000 001 010 011 100 101 110 111\n",
    "    pools = [tuple(pool) for pool in args] * repeat\n",
    "    print(pools)\n",
    "    result = [[]]\n",
    "    for pool in pools:\n",
    "        result = [x+[y] for x in result for y in pool]\n",
    "        print(result)\n",
    "    return result\n",
    "#     for prod in result:\n",
    "#         yield tuple(prod)\n",
    "# for i in product2(range(2),repeat=3):\n",
    "#     print(np.array(i))\n",
    "print(product2(range(2),repeat=3))"
   ]
  },
  {
   "cell_type": "code",
   "execution_count": 30,
   "metadata": {},
   "outputs": [
    {
     "ename": "IndexError",
     "evalue": "invalid index to scalar variable.",
     "output_type": "error",
     "traceback": [
      "\u001b[1;31m---------------------------------------------------------------------------\u001b[0m",
      "\u001b[1;31mIndexError\u001b[0m                                Traceback (most recent call last)",
      "\u001b[1;32m<ipython-input-30-5ae5a24f101d>\u001b[0m in \u001b[0;36m<module>\u001b[1;34m\u001b[0m\n\u001b[0;32m     14\u001b[0m \u001b[1;33m\u001b[0m\u001b[0m\n\u001b[0;32m     15\u001b[0m     \u001b[1;32mreturn\u001b[0m \u001b[0mmylist\u001b[0m\u001b[1;33m\u001b[0m\u001b[1;33m\u001b[0m\u001b[0m\n\u001b[1;32m---> 16\u001b[1;33m \u001b[0mpointpoint\u001b[0m\u001b[1;33m(\u001b[0m\u001b[0mcellwout0\u001b[0m\u001b[1;33m[\u001b[0m\u001b[1;36m0\u001b[0m\u001b[1;33m]\u001b[0m\u001b[1;33m)\u001b[0m\u001b[1;33m\u001b[0m\u001b[1;33m\u001b[0m\u001b[0m\n\u001b[0m",
      "\u001b[1;32m<ipython-input-30-5ae5a24f101d>\u001b[0m in \u001b[0;36mpointpoint\u001b[1;34m(POINT, nr)\u001b[0m\n\u001b[0;32m      5\u001b[0m             \u001b[0mPOINTEQ\u001b[0m \u001b[1;33m=\u001b[0m \u001b[0mPOINT\u001b[0m\u001b[1;33m.\u001b[0m\u001b[0mcopy\u001b[0m\u001b[1;33m(\u001b[0m\u001b[1;33m)\u001b[0m\u001b[1;33m[\u001b[0m\u001b[0mnr\u001b[0m\u001b[1;33m]\u001b[0m\u001b[1;33m+\u001b[0m\u001b[1;36m1\u001b[0m\u001b[1;33m\u001b[0m\u001b[1;33m\u001b[0m\u001b[0m\n\u001b[0;32m      6\u001b[0m             \u001b[0mmylist\u001b[0m\u001b[1;33m.\u001b[0m\u001b[0mappend\u001b[0m\u001b[1;33m(\u001b[0m\u001b[0mPOINTEQ\u001b[0m\u001b[1;33m)\u001b[0m\u001b[1;33m\u001b[0m\u001b[1;33m\u001b[0m\u001b[0m\n\u001b[1;32m----> 7\u001b[1;33m             \u001b[0mappender\u001b[0m \u001b[1;33m=\u001b[0m \u001b[0mpointpoint\u001b[0m\u001b[1;33m(\u001b[0m\u001b[0mPOINT\u001b[0m\u001b[1;33m[\u001b[0m\u001b[0mnr\u001b[0m\u001b[1;33m:\u001b[0m\u001b[1;33m]\u001b[0m\u001b[1;33m,\u001b[0m\u001b[0mnr\u001b[0m\u001b[1;33m+\u001b[0m\u001b[1;36m1\u001b[0m\u001b[1;33m)\u001b[0m\u001b[1;33m\u001b[0m\u001b[1;33m\u001b[0m\u001b[0m\n\u001b[0m\u001b[0;32m      8\u001b[0m             \u001b[1;32mif\u001b[0m \u001b[0mappender\u001b[0m\u001b[1;33m:\u001b[0m\u001b[1;33m\u001b[0m\u001b[1;33m\u001b[0m\u001b[0m\n\u001b[0;32m      9\u001b[0m                 \u001b[0mmylist\u001b[0m\u001b[1;33m.\u001b[0m\u001b[0mappend\u001b[0m\u001b[1;33m(\u001b[0m\u001b[0mappender\u001b[0m\u001b[1;33m)\u001b[0m\u001b[1;33m\u001b[0m\u001b[1;33m\u001b[0m\u001b[0m\n",
      "\u001b[1;32m<ipython-input-30-5ae5a24f101d>\u001b[0m in \u001b[0;36mpointpoint\u001b[1;34m(POINT, nr)\u001b[0m\n\u001b[0;32m      9\u001b[0m                 \u001b[0mmylist\u001b[0m\u001b[1;33m.\u001b[0m\u001b[0mappend\u001b[0m\u001b[1;33m(\u001b[0m\u001b[0mappender\u001b[0m\u001b[1;33m)\u001b[0m\u001b[1;33m\u001b[0m\u001b[1;33m\u001b[0m\u001b[0m\n\u001b[0;32m     10\u001b[0m \u001b[1;33m\u001b[0m\u001b[0m\n\u001b[1;32m---> 11\u001b[1;33m             \u001b[0mappender2\u001b[0m\u001b[1;33m=\u001b[0m \u001b[0mpointpoint\u001b[0m\u001b[1;33m(\u001b[0m\u001b[0mPOINTEQ\u001b[0m\u001b[1;33m[\u001b[0m\u001b[0mnr\u001b[0m\u001b[1;33m:\u001b[0m\u001b[1;33m]\u001b[0m\u001b[1;33m,\u001b[0m\u001b[0mnr\u001b[0m\u001b[1;33m+\u001b[0m\u001b[1;36m1\u001b[0m\u001b[1;33m)\u001b[0m\u001b[1;33m\u001b[0m\u001b[1;33m\u001b[0m\u001b[0m\n\u001b[0m\u001b[0;32m     12\u001b[0m             \u001b[1;32mif\u001b[0m \u001b[0mappender2\u001b[0m\u001b[1;33m:\u001b[0m\u001b[1;33m\u001b[0m\u001b[1;33m\u001b[0m\u001b[0m\n\u001b[0;32m     13\u001b[0m                 \u001b[0mmylist\u001b[0m\u001b[1;33m.\u001b[0m\u001b[0mappend\u001b[0m\u001b[1;33m(\u001b[0m\u001b[0mappender2\u001b[0m\u001b[1;33m)\u001b[0m\u001b[1;33m\u001b[0m\u001b[1;33m\u001b[0m\u001b[0m\n",
      "\u001b[1;31mIndexError\u001b[0m: invalid index to scalar variable."
     ]
    }
   ],
   "source": [
    "def pointpoint(POINT,nr=0):\n",
    "    mylist = []\n",
    "    for nrwew in range(len(POINT[nr:])):\n",
    "        if POINT[nr] == 0:\n",
    "            \n",
    "            POINTEQ = POINT.copy()[nr]+1\n",
    "            mylist.append(POINTEQ)\n",
    "            \n",
    "            appender = pointpoint(POINT,nr+1)          \n",
    "            if appender:\n",
    "                mylist.append(appender)\n",
    "                       \n",
    "            appender2= pointpoint(POINTEQ,nr+1) \n",
    "            if appender2:\n",
    "                mylist.append(appender2)\n",
    "                       \n",
    "    return mylist\n",
    "pointpoint(cellwout0[0])"
   ]
  },
  {
   "cell_type": "code",
   "execution_count": 6,
   "metadata": {},
   "outputs": [
    {
     "data": {
      "image/png": "[encoded data removed]",
      "text/plain": [
       "<Figure size 432x288 with 1 Axes>"
      ]
     },
     "metadata": {
      "needs_background": "light"
     },
     "output_type": "display_data"
    }
   ],
   "source": [
    "from mpl_toolkits.mplot3d import Axes3D  \n",
    "import matplotlib.pyplot as plt\n",
    "import numpy as np\n",
    "\n",
    "fig = plt.figure()\n",
    "ax = fig.add_subplot(111, projection='3d')\n",
    "\n",
    "#for c, m in [('r', 'o'), ('b', '^')]:\n",
    "mojalista2 = cell2.T\n",
    "xs = mojalista2[0]\n",
    "ys = mojalista2[1]\n",
    "zs = mojalista2[2]\n",
    "ax.scatter(xs, ys, zs)#, c=c, marker=m)\n",
    "\n",
    "ax.set_xlabel('X Label')\n",
    "ax.set_ylabel('Y Label')\n",
    "ax.set_zlabel('Z Label')\n",
    "\n",
    "plt.show()"
   ]
  }
 ],
 "metadata": {
  "kernelspec": {
   "display_name": "Python 3",
   "language": "python",
   "name": "python3"
  },
  "language_info": {
   "codemirror_mode": {
    "name": "ipython",
    "version": 3
   },
   "file_extension": ".py",
   "mimetype": "text/x-python",
   "name": "python",
   "nbconvert_exporter": "python",
   "pygments_lexer": "ipython3",
   "version": "3.7.2"
  }
 },
 "nbformat": 4,
 "nbformat_minor": 2
}
