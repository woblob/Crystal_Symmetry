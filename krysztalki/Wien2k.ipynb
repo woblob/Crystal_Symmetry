{
 "cells": [
  {
   "cell_type": "code",
   "execution_count": 1,
   "metadata": {
    "collapsed": true
   },
   "outputs": [],
   "source": [
    "#from WIEN2k_Functions import *\n",
    "\n",
    "import os\n",
    "from bs4 import BeautifulSoup as soup\n",
    "from selenium import webdriver\n",
    "from selenium.webdriver.common.keys import Keys\n",
    "from IPython.display import clear_output\n",
    "#from selenium.webdriver.support.ui import WebDriverWait\n",
    "#from selenium.webdriver.support import expected_conditions as EC\n",
    "#from selenium.webdriver.common.alert import Alert \n",
    "#import time\n",
    "\n",
    "#check if openvpn is running and established connection"
   ]
  },
  {
   "cell_type": "code",
   "execution_count": 2,
   "metadata": {
    "collapsed": true
   },
   "outputs": [],
   "source": [
    "def getSessionID(browser):\n",
    "    list_of_Sessions = getListOfSessions(browser)\n",
    "    printListOfSessions(list_of_Sessions)\n",
    "    number = int(input(\"Ktora sesje wybierasz? \"))\n",
    "    #os.system('cls')\n",
    "    clear_output()\n",
    "    return list_of_Sessions[number][1]\n",
    "\n",
    "def getListOfSessions(browser):\n",
    "    page_soup = soup(browser.page_source, \"html.parser\")\n",
    "    containers = page_soup.find(\"form\").next_sibling.next_sibling.findAll(\"option\")\n",
    "    return [(container.text.strip(), container[\"value\"]) for container in containers]   \n",
    "    \n",
    "def printListOfSessions(Sessions):    \n",
    "    for i, session in enumerate(Sessions):\n",
    "        print(\"nr {}: {}\".format(i, session[0]))\n",
    "\n",
    "def frameActivate(frame):\n",
    "    browser.switch_to_default_content()\n",
    "    browser.switch_to.frame(browser.find_element_by_xpath(\"//frame[@src='{}']\".format(frame)))\n",
    "\n",
    "def cmd_x_Function(command):\n",
    "    frameActivate(CMDLINE)\n",
    "    commandline = browser.find_element_by_xpath(\"//input[@value='command']\")# czy musze szukac za kazdym razem\n",
    "    commandline.clear()\n",
    "    commandline.send_keys(command)\n",
    "    commandline.submit()\n",
    "\n",
    "def initialiaze_calcClick(SID):\n",
    "    frameActivate(NAVIG)\n",
    "    browser.find_element_by_xpath(\"//a[@href='/exec/initlapw.pl?SID={}']\".format(SID)).click()\n",
    "    \n",
    "\"\"\"\n",
    "def pickSession(number):\n",
    "    tabelka = browser.find_element_by_xpath(\"//form[@action='/session/select.cgi']\")\n",
    "    lista = tabelka.find_elements_by_tag_name(\"option\")\n",
    "    lista[number].click()\n",
    "    tabelka.find_element_by_tag_name(\"input\").click()\n",
    "\"\"\"\n",
    "None"
   ]
  },
  {
   "cell_type": "code",
   "execution_count": 3,
   "metadata": {
    "collapsed": true
   },
   "outputs": [],
   "source": [
    "PROFILE, IP, HTTP, STARTPAGE, SESSIONS = \"wwal:wwal@\", \"149.156.120.11:7895\", 'http://', '/index.pl?SID=', \"/session/change.cgi\"\n",
    "serverURL, sessionsURL = HTTP + PROFILE + IP, HTTP + IP + SESSIONS\n",
    "\n",
    "browser = webdriver.Firefox()\n",
    "browser.get(serverURL)\n",
    "browser.get(sessionsURL)\n",
    "\n",
    "SID = getSessionID(browser)\n",
    "\n",
    "caseURL = HTTP + IP + STARTPAGE + SID\n",
    "\n",
    "browser.get(caseURL)\n",
    "\n",
    "#middle part\n",
    "MAIN = 'main.pl?SID=' + SID\n",
    "#side bar\n",
    "NAVIG = 'navig.pl?SID=' + SID\n",
    "#cmd line\n",
    "CMDLINE = '/exec/cmdline2.pl?SID=' + SID\n",
    "\n",
    "\n",
    "initialiaze_calcClick(SID)"
   ]
  },
  {
   "cell_type": "code",
   "execution_count": null,
   "metadata": {
    "collapsed": true
   },
   "outputs": [],
   "source": [
    "page_soup = soup(browser.page_source, \"html.parser\")\n",
    "print(page_soup)"
   ]
  },
  {
   "cell_type": "code",
   "execution_count": 60,
   "metadata": {
    "collapsed": true
   },
   "outputs": [],
   "source": [
    "cmd_x_Function(\"x \" + programs_for_initialisation[1] )"
   ]
  },
  {
   "cell_type": "code",
   "execution_count": 27,
   "metadata": {},
   "outputs": [
    {
     "name": "stdout",
     "output_type": "stream",
     "text": [
      "x nn\n",
      "x sgroup\n",
      "x symmetry\n",
      "x instgen_lapw\n",
      "x lstart\n",
      "x kgen\n",
      "x dstart\n",
      "x afminput\n"
     ]
    }
   ],
   "source": [
    "def calculateBase(operations):\n",
    "    for func in operations:\n",
    "        command = \"x \" + func\n",
    "        cmd_x_Function(command / \"x \" + func)\n",
    "        frameActivate(main)\n",
    "        if \"error\" in content and \"failed\" in content:\n",
    "            break\n",
    "        \n",
    "calculateBase(listy[0])"
   ]
  },
  {
   "cell_type": "code",
   "execution_count": null,
   "metadata": {
    "collapsed": true
   },
   "outputs": [],
   "source": [
    "gdzie jest przechowywana liczba nn \n",
    "dlaczego tylko nn = 2 \n",
    "view outputXXX nie dziala z commandline\n",
    "x dstart brakuje biblioteki/ nie dziala"
   ]
  },
  {
   "cell_type": "code",
   "execution_count": 4,
   "metadata": {
    "collapsed": true
   },
   "outputs": [],
   "source": [
    "browser.close()"
   ]
  },
  {
   "cell_type": "code",
   "execution_count": 58,
   "metadata": {
    "collapsed": true
   },
   "outputs": [],
   "source": [
    "programs_for_initialisation = ['nn','sgroup', 'symmetry', 'instgen_lapw', 'lstart', 'kgen', 'dstart', 'afminput']\n",
    "      \n",
    "#SCF_Programs = ['lapw0', 'lapw1', 'lapwso', 'lapw2', 'lapwdm', 'orb', 'lcore', 'mixer']\n",
    "\n",
    "Other_programs = ['aim', 'clmcopy', 'clminter', 'dipan', 'filtvec', 'irrep', 'joint', 'lapw3', 'lapw5', 'lapw7',\n",
    "                  'optic', 'pairhess', 'qtl', 'spaghetti', 'supercell', 'symmetso', 'telnes3', 'tetra', 'txspec', 'xspec']\n",
    "\n",
    "listy = [programs_for_initialisation, Other_programs]"
   ]
  }
 ],
 "metadata": {
  "kernelspec": {
   "display_name": "Python 3",
   "language": "python",
   "name": "python3"
  },
  "language_info": {
   "codemirror_mode": {
    "name": "ipython",
    "version": 3
   },
   "file_extension": ".py",
   "mimetype": "text/x-python",
   "name": "python",
   "nbconvert_exporter": "python",
   "pygments_lexer": "ipython3",
   "version": "3.7.2"
  }
 },
 "nbformat": 4,
 "nbformat_minor": 2
}
