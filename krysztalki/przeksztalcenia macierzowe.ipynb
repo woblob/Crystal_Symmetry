{
 "cells": [
  {
   "cell_type": "code",
   "execution_count": 1,
   "metadata": {},
   "outputs": [],
   "source": [
    "import numpy as np\n",
    "#from numba import jit\n",
    "#from fractions import Fraction"
   ]
  },
  {
   "cell_type": "code",
   "execution_count": 2,
   "metadata": {},
   "outputs": [],
   "source": [
    "def printmat(Matrixes):\n",
    "    for os in Matrixes:\n",
    "        print(os)\n",
    "        for kier in Matrixes[os]:\n",
    "            print(kier)\n",
    "            print(Matrixes[os][kier])\n",
    "#printmat(Matrixes)"
   ]
  },
  {
   "cell_type": "code",
   "execution_count": 3,
   "metadata": {},
   "outputs": [],
   "source": [
    "'''def ortogonalCheck(matrix):\n",
    "    prod = np.dot(matrix,matrix.T)\n",
    "    return np.all(abs(prod - np.eye(3)) < 10**-15)\n",
    "all(all(ortogonalCheck(Matrixes[os][kier]) for kier in Matrixes[os]) for os in Matrixes)'''\n",
    "None"
   ]
  },
  {
   "cell_type": "code",
   "execution_count": 4,
   "metadata": {},
   "outputs": [],
   "source": [
    "def supercell(matrix):\n",
    "    cell = matrix.copy()\n",
    "    lista = np.array((\":,0\", \":,1\", \":,2\", \":,1:\", \":,:2\", \":,0:3:2\", \":\"))\n",
    "    for elem in lista:\n",
    "        subcell = matrix.copy()\n",
    "        exec(f\"subcell[{elem}] +=1\")\n",
    "        cell = np.append(cell,subcell,axis =0)    \n",
    "    return np.unique(cell,axis = 0)\n",
    "#len(supercell(koordynaty))\n",
    "\n",
    "def supercell2(matrix):\n",
    "    cell = matrix.copy()\n",
    "    lista = np.array((\":,0\", \":,1\", \":,2\", \":,1:\", \":,:2\", \":,0:3:2\", \":\"))\n",
    "    for elem in lista:\n",
    "        subcell = matrix.copy()\n",
    "        exec(f\"subcell[{elem}] +=1\")\n",
    "        cell = np.append(cell,subcell,axis =0)    \n",
    "    return np.unique(cell,axis = 0) - 1\n",
    "#supercell2(koordynaty)"
   ]
  },
  {
   "cell_type": "code",
   "execution_count": 5,
   "metadata": {},
   "outputs": [],
   "source": [
    "#def sparwdzczyjestpunktwzbiorze(mylist,punkt):\n",
    " #   for el in mylist:\n",
    "  #      if el == punkt:\n",
    "   #         return True  \n",
    "    #return False\n",
    "#sparwdzczyjestpunktwzbiorze(mylista,nln[-4].tolist())"
   ]
  },
  {
   "cell_type": "code",
   "execution_count": 13,
   "metadata": {},
   "outputs": [],
   "source": [
    "#@jit(nopython = True)\n",
    "def listadous(macierz, punkt, ilepow):\n",
    "    lista = np.empty([ilepow,3])\n",
    "    for i in range(ilepow): \n",
    "        punkt = np.dot(macierz,punkt)\n",
    "        punkt = np.around(punkt,14)\n",
    "        lista[i] = punkt \n",
    "    return lista.tolist()   "
   ]
  },
  {
   "cell_type": "code",
   "execution_count": 7,
   "metadata": {},
   "outputs": [],
   "source": [
    "def myswitch(nr):\n",
    "    mydict = {\n",
    "        \"c\": 1,\n",
    "        \"m\": 1,\n",
    "        \"2\": 1,\n",
    "        \"3\": 2,\n",
    "        \"-3\": 5,\n",
    "        \"4\": 3,\n",
    "        \"-4\": 3,\n",
    "        \"6\": 5,\n",
    "        \"-6\": 5\n",
    "    }\n",
    "    return mydict[nr]\n",
    "#myswitch(\"m\")"
   ]
  },
  {
   "cell_type": "code",
   "execution_count": 8,
   "metadata": {},
   "outputs": [],
   "source": [
    "\"\"\"def listadous2(macierz, trans, os, punkt):\n",
    "    lista = []# zrobic np.array stala dlugosc \n",
    "    for i in range(ilepow):\n",
    "        punkt = np.dot(macierz,punkt)        \n",
    "        while any(punkt<0):\n",
    "            punkt += 1\n",
    "        lista.append(punkt)    \n",
    "    lista = np.array(lista)\n",
    "    return lista.tolist() \"\"\"\n",
    "None"
   ]
  },
  {
   "cell_type": "code",
   "execution_count": 9,
   "metadata": {},
   "outputs": [],
   "source": [
    "s3d2 = np.sqrt(3)/2\n",
    "\n",
    "Matrixes = {\n",
    "    \"c\":{\n",
    "        \"000\":np.array([[-1,0,0],[0,-1,0],[0,0,-1]])\n",
    "    },\n",
    "    \"m\":{\n",
    "        \"100\":np.array([[-1,0,0],[0,1,0],[0,0,1]]),\n",
    "        \"010\":np.array([[1,0,0],[0,-1,0],[0,0,1]]),\n",
    "        \"001\":np.array([[1,0,0],[0,1,0],[0,0,-1]]),\n",
    "        \n",
    "        \"110\":np.array([[0,-1,0],[-1,0,0],[0,0,1]]),\n",
    "        \"-110\":np.array([[0,1,0],[1,0,0],[0,0,1]]),\n",
    "        \"011\":np.array([[1,0,0],[0,0,-1],[0,-1,0]]),\n",
    "        \n",
    "        \"101\":np.array([[-1,0,0],[0,1,0],[0,0,-1]]),\n",
    "        \"-101\":np.array([[0,0,1],[0,1,0],[1,0,0]]),\n",
    "        \"0-11\":np.array([[1,0,0],[0,0,1],[0,1,0]])\n",
    "    },\n",
    "    \"2\":{\n",
    "        \"100\":np.array([[1,0,0],[0,-1,0],[0,0,-1]]),\n",
    "        \"010\":np.array([[-1,0,0],[0,1,0],[0,0,-1]]),\n",
    "        \"001\":np.array([[-1,0,0],[0,-1,0],[0,0,1]]),\n",
    "        \n",
    "        \"110\":np.array([[0,1,0],[1,0,0],[0,0,-1]]),\n",
    "        \"101\":np.array([[1,0,0],[0,-1,0],[0,0,1]]),\n",
    "        \"011\":np.array([[-1,0,0],[0,0,1],[0,1,0]]),\n",
    "        \n",
    "        \"-110\":np.array([[0,-1,0],[-1,0,0],[0,0,-1]]),\n",
    "        \"-101\":np.array([[0,0,-1],[0,-1,0],[-1,0,0]]),\n",
    "        \"0-11\":np.array([[-1,0,0],[0,0,-1],[0,-1,0]])\n",
    "    },\n",
    "    \"3\":{\n",
    "        \"001\":np.array([[-0.5,-s3d2,0],[s3d2,-0.5,0],[0,0,1]]),\n",
    "        \"111\":np.array([[0,0,1],[1,0,0],[0,1,0]]),\n",
    "        \"-111\":np.array([[0,-1,0],[0,0,1],[-1,0,0]]),\n",
    "        \"1-11\":np.array([[0,-1,0],[0,0,-1],[1,0,0]]),\n",
    "        \"11-1\":np.array([[0,1,0],[0,0,-1],[-1,0,0]])\n",
    "    },\n",
    "    \"-3\":{\n",
    "        \"001\":np.array([[0.5,s3d2,0],[-s3d2,0.5,0],[0,0,-1]]),\n",
    "        \"111\":np.array([[0,0,-1],[-1,0,0],[0,-1,0]]),\n",
    "        \"-111\":np.array([[0,1,0],[0,0,-1],[1,0,0]]),\n",
    "        \"1-11\":np.array([[0,1,0],[0,0,1],[-1,0,0]]),\n",
    "        \"11-1\":np.array([[0,-1,0],[0,0,1],[1,0,0]])        \n",
    "    },\n",
    "    \"4\":{\n",
    "        \"100\":np.array([[1,0,0],[0,0,-1],[0,1,0]]),\n",
    "        \"010\":np.array([[0,0,1],[0,1,0],[-1,0,0]]),\n",
    "        \"001\":np.array([[0,-1,0],[1,0,0],[0,0,1]])\n",
    "    },\n",
    "    \"-4\":{\n",
    "        \"100\":np.array([[-1,0,0],[0,0,1],[0,-1,0]]),\n",
    "        \"010\":np.array([[0,0,-1],[0,-1,0],[1,0,0]]),\n",
    "        \"001\":np.array([[0,1,0],[-1,0,0],[0,0,-1]])\n",
    "    },\n",
    "    \"6\":{\n",
    "        \"001\":np.array([[0.5,-s3d2,0],[s3d2,0.5,0],[0,0,1]])\n",
    "    },\n",
    "    \"-6\":{\n",
    "        \"001\":np.array([[-0.5,s3d2,0],[-s3d2,-0.5,0],[0,0,-1]])\n",
    "    }\n",
    "}"
   ]
  },
  {
   "cell_type": "code",
   "execution_count": 10,
   "metadata": {},
   "outputs": [],
   "source": [
    "pol = 0.5\n",
    "'''Sfaleryt'''\n",
    "koordynaty = np.array([[0,0,0],[0,0,1],[0,1,0],[1,1,0],[1,0,0],[1,1,1],[1,0,1],[0,1,1],\n",
    "              [pol,pol,0],[pol,0,pol],[0,pol,pol],[pol,pol,1],[pol,1,pol],[1,pol,pol],\n",
    "             [0.75,0.25,0.25],[0.25,0.75,0.25],[0.25,0.25,0.75],[0.75,0.75,0.75]])\n",
    "#koordynaty"
   ]
  },
  {
   "cell_type": "code",
   "execution_count": 11,
   "metadata": {},
   "outputs": [],
   "source": [
    "nln = supercell2(koordynaty) #nowe\n",
    "#nln.tolist()"
   ]
  },
  {
   "cell_type": "code",
   "execution_count": 15,
   "metadata": {},
   "outputs": [
    {
     "name": "stdout",
     "output_type": "stream",
     "text": [
      "95\n",
      "95\n",
      "[[-1.   -1.   -1.  ]\n",
      " [-1.   -1.    0.  ]\n",
      " [-1.   -1.    1.  ]\n",
      " [-1.   -0.5  -0.5 ]\n",
      " [-1.   -0.5   0.5 ]\n",
      " [-1.    0.   -1.  ]\n",
      " [-1.    0.    0.  ]\n",
      " [-1.    0.    1.  ]\n",
      " [-1.    0.5  -0.5 ]\n",
      " [-1.    0.5   0.5 ]\n",
      " [-1.    1.   -1.  ]\n",
      " [-1.    1.    0.  ]\n",
      " [-1.    1.    1.  ]\n",
      " [-0.75 -0.75 -0.25]\n",
      " [-0.75 -0.75  0.75]\n",
      " [-0.75 -0.25 -0.75]\n",
      " [-0.75 -0.25  0.25]\n",
      " [-0.75  0.25 -0.25]\n",
      " [-0.75  0.25  0.75]\n",
      " [-0.75  0.75 -0.75]\n",
      " [-0.75  0.75  0.25]\n",
      " [-0.5  -1.   -0.5 ]\n",
      " [-0.5  -1.    0.5 ]\n",
      " [-0.5  -0.5  -1.  ]\n",
      " [-0.5  -0.5   0.  ]\n",
      " [-0.5  -0.5   1.  ]\n",
      " [-0.5   0.   -0.5 ]\n",
      " [-0.5   0.    0.5 ]\n",
      " [-0.5   0.5  -1.  ]\n",
      " [-0.5   0.5   0.  ]\n",
      " [-0.5   0.5   1.  ]\n",
      " [-0.5   1.   -0.5 ]\n",
      " [-0.5   1.    0.5 ]\n",
      " [-0.25 -0.75 -0.75]\n",
      " [-0.25 -0.75  0.25]\n",
      " [-0.25 -0.25 -0.25]\n",
      " [-0.25 -0.25  0.75]\n",
      " [-0.25  0.25 -0.75]\n",
      " [-0.25  0.25  0.25]\n",
      " [-0.25  0.75 -0.25]\n",
      " [-0.25  0.75  0.75]\n",
      " [ 0.   -1.   -1.  ]\n",
      " [ 0.   -1.    0.  ]\n",
      " [ 0.   -1.    1.  ]\n",
      " [ 0.   -0.5  -0.5 ]\n",
      " [ 0.   -0.5   0.5 ]\n",
      " [ 0.    0.   -1.  ]\n",
      " [ 0.    0.    0.  ]\n",
      " [ 0.    0.    1.  ]\n",
      " [ 0.    0.5  -0.5 ]\n",
      " [ 0.    0.5   0.5 ]\n",
      " [ 0.    1.   -1.  ]\n",
      " [ 0.    1.    0.  ]\n",
      " [ 0.    1.    1.  ]\n",
      " [ 0.25 -0.75 -0.25]\n",
      " [ 0.25 -0.75  0.75]\n",
      " [ 0.25 -0.25 -0.75]\n",
      " [ 0.25 -0.25  0.25]\n",
      " [ 0.25  0.25 -0.25]\n",
      " [ 0.25  0.25  0.75]\n",
      " [ 0.25  0.75 -0.75]\n",
      " [ 0.25  0.75  0.25]\n",
      " [ 0.5  -1.   -0.5 ]\n",
      " [ 0.5  -1.    0.5 ]\n",
      " [ 0.5  -0.5  -1.  ]\n",
      " [ 0.5  -0.5   0.  ]\n",
      " [ 0.5  -0.5   1.  ]\n",
      " [ 0.5   0.   -0.5 ]\n",
      " [ 0.5   0.    0.5 ]\n",
      " [ 0.5   0.5  -1.  ]\n",
      " [ 0.5   0.5   0.  ]\n",
      " [ 0.5   0.5   1.  ]\n",
      " [ 0.5   1.   -0.5 ]\n",
      " [ 0.5   1.    0.5 ]\n",
      " [ 0.75 -0.75 -0.75]\n",
      " [ 0.75 -0.75  0.25]\n",
      " [ 0.75 -0.25 -0.25]\n",
      " [ 0.75 -0.25  0.75]\n",
      " [ 0.75  0.25 -0.75]\n",
      " [ 0.75  0.25  0.25]\n",
      " [ 0.75  0.75 -0.25]\n",
      " [ 0.75  0.75  0.75]\n",
      " [ 1.   -1.   -1.  ]\n",
      " [ 1.   -1.    0.  ]\n",
      " [ 1.   -1.    1.  ]\n",
      " [ 1.   -0.5  -0.5 ]\n",
      " [ 1.   -0.5   0.5 ]\n",
      " [ 1.    0.   -1.  ]\n",
      " [ 1.    0.    0.  ]\n",
      " [ 1.    0.    1.  ]\n",
      " [ 1.    0.5  -0.5 ]\n",
      " [ 1.    0.5   0.5 ]\n",
      " [ 1.    1.   -1.  ]\n",
      " [ 1.    1.    0.  ]\n",
      " [ 1.    1.    1.  ]]\n"
     ]
    }
   ],
   "source": [
    "def usunkoor(koor):\n",
    "    koordynaty = koor.copy().tolist() # sprawdzic\n",
    "    oski = [Matrixes[\"m\"][os] for os in Matrixes[\"m\"]][3:]\n",
    "    for os in oski:\n",
    "        j = 0 \n",
    "        while j < len(koordynaty):            \n",
    "            for punktdous in listadous(os, koordynaty[j], myswitch(\"m\")):\n",
    "                try:\n",
    "                    i = koordynaty[j+1:].index(punktdous.tolist())\n",
    "                    del koordynaty[i+j+1]      \n",
    "                except:\n",
    "                    pass            \n",
    "            j += 1\n",
    "    return np.unique(koordynaty,axis = 0)\n",
    "mojalista = usunkoor(nln)\n",
    "mojalista2 = usunkoor(mojalista)\n",
    "#mojalista3 = usunkoor(mojalista2)\n",
    "#print(np.all(mojalista == mojalista2))\n",
    "print(len(mojalista))\n",
    "print(len(mojalista2))\n",
    "print(mojalista)"
   ]
  },
  {
   "cell_type": "code",
   "execution_count": 2,
   "metadata": {},
   "outputs": [],
   "source": [
    "import sympy as sp\n",
    "sp.init_printing(use_unicode=True)"
   ]
  },
  {
   "cell_type": "code",
   "execution_count": 85,
   "metadata": {},
   "outputs": [],
   "source": [
    "#x,y,z = sp.pi/6,45/180*sp.pi,sp.pi/3 \n",
    "x,y,z = sp.symbols(\"x y z\")"
   ]
  },
  {
   "cell_type": "code",
   "execution_count": 86,
   "metadata": {},
   "outputs": [
    {
     "data": {
      "text/latex": [
       "$$\\left[\\begin{matrix}\\cos{\\left (x \\right )} & \\sin{\\left (x \\right )} & 0\\\\- \\sin{\\left (x \\right )} & \\cos{\\left (x \\right )} & 0\\\\0 & 0 & 1\\end{matrix}\\right]$$"
      ],
      "text/plain": [
       "⎡cos(x)   sin(x)  0⎤\n",
       "⎢                  ⎥\n",
       "⎢-sin(x)  cos(x)  0⎥\n",
       "⎢                  ⎥\n",
       "⎣   0       0     1⎦"
      ]
     },
     "execution_count": 86,
     "metadata": {},
     "output_type": "execute_result"
    }
   ],
   "source": [
    "a = sp.Matrix([[sp.cos(x),sp.sin(x),0],[-sp.sin(x),sp.cos(x),0],[0,0,1]])\n",
    "a"
   ]
  },
  {
   "cell_type": "code",
   "execution_count": 87,
   "metadata": {},
   "outputs": [
    {
     "data": {
      "text/latex": [
       "$$\\left[\\begin{matrix}\\cos{\\left (y \\right )} & \\sin{\\left (y \\right )} & 0\\\\- \\sin{\\left (y \\right )} & \\cos{\\left (y \\right )} & 0\\\\0 & 0 & 1\\end{matrix}\\right]$$"
      ],
      "text/plain": [
       "⎡cos(y)   sin(y)  0⎤\n",
       "⎢                  ⎥\n",
       "⎢-sin(y)  cos(y)  0⎥\n",
       "⎢                  ⎥\n",
       "⎣   0       0     1⎦"
      ]
     },
     "execution_count": 87,
     "metadata": {},
     "output_type": "execute_result"
    }
   ],
   "source": [
    "b = sp.Matrix([[sp.cos(y),sp.sin(y),0],[-sp.sin(y),sp.cos(y),0],[0,0,1]])\n",
    "b"
   ]
  },
  {
   "cell_type": "code",
   "execution_count": 88,
   "metadata": {},
   "outputs": [
    {
     "data": {
      "text/latex": [
       "$$\\left[\\begin{matrix}\\cos{\\left (z \\right )} & 0 & \\sin{\\left (z \\right )}\\\\0 & 1 & 0\\\\- \\sin{\\left (z \\right )} & 0 & \\cos{\\left (z \\right )}\\end{matrix}\\right]$$"
      ],
      "text/plain": [
       "⎡cos(z)   0  sin(z)⎤\n",
       "⎢                  ⎥\n",
       "⎢   0     1    0   ⎥\n",
       "⎢                  ⎥\n",
       "⎣-sin(z)  0  cos(z)⎦"
      ]
     },
     "execution_count": 88,
     "metadata": {},
     "output_type": "execute_result"
    }
   ],
   "source": [
    "c = sp.Matrix([[sp.cos(z),0,sp.sin(z)],[0,1,0],[-sp.sin(z),0,sp.cos(z)]])\n",
    "c"
   ]
  },
  {
   "cell_type": "code",
   "execution_count": 89,
   "metadata": {},
   "outputs": [
    {
     "data": {
      "text/latex": [
       "$$\\left[\\begin{matrix}- \\sin{\\left (x \\right )} \\sin{\\left (y \\right )} + \\cos{\\left (x \\right )} \\cos{\\left (y \\right )} \\cos{\\left (z \\right )} & \\sin{\\left (x \\right )} \\cos{\\left (y \\right )} \\cos{\\left (z \\right )} + \\sin{\\left (y \\right )} \\cos{\\left (x \\right )} & \\sin{\\left (z \\right )} \\cos{\\left (y \\right )}\\\\- \\sin{\\left (x \\right )} \\cos{\\left (y \\right )} - \\sin{\\left (y \\right )} \\cos{\\left (x \\right )} \\cos{\\left (z \\right )} & - \\sin{\\left (x \\right )} \\sin{\\left (y \\right )} \\cos{\\left (z \\right )} + \\cos{\\left (x \\right )} \\cos{\\left (y \\right )} & - \\sin{\\left (y \\right )} \\sin{\\left (z \\right )}\\\\- \\sin{\\left (z \\right )} \\cos{\\left (x \\right )} & - \\sin{\\left (x \\right )} \\sin{\\left (z \\right )} & \\cos{\\left (z \\right )}\\end{matrix}\\right]$$"
      ],
      "text/plain": [
       "⎡-sin(x)⋅sin(y) + cos(x)⋅cos(y)⋅cos(z)  sin(x)⋅cos(y)⋅cos(z) + sin(y)⋅cos(x)  \n",
       "⎢                                                                             \n",
       "⎢-sin(x)⋅cos(y) - sin(y)⋅cos(x)⋅cos(z)  -sin(x)⋅sin(y)⋅cos(z) + cos(x)⋅cos(y) \n",
       "⎢                                                                             \n",
       "⎣           -sin(z)⋅cos(x)                         -sin(x)⋅sin(z)             \n",
       "\n",
       " sin(z)⋅cos(y) ⎤\n",
       "               ⎥\n",
       " -sin(y)⋅sin(z)⎥\n",
       "               ⎥\n",
       "     cos(z)    ⎦"
      ]
     },
     "execution_count": 89,
     "metadata": {},
     "output_type": "execute_result"
    }
   ],
   "source": [
    "d = b*c*a\n",
    "d#sp.trigsimp(d)"
   ]
  }
 ],
 "metadata": {
  "kernelspec": {
   "display_name": "Python 3",
   "language": "python",
   "name": "python3"
  },
  "language_info": {
   "codemirror_mode": {
    "name": "ipython",
    "version": 3
   },
   "file_extension": ".py",
   "mimetype": "text/x-python",
   "name": "python",
   "nbconvert_exporter": "python",
   "pygments_lexer": "ipython3",
   "version": "3.7.2"
  }
 },
 "nbformat": 4,
 "nbformat_minor": 2
}
