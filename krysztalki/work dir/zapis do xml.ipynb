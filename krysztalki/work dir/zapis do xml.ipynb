{
 "cells": [
  {
   "cell_type": "code",
   "execution_count": 37,
   "metadata": {},
   "outputs": [],
   "source": [
    "def printxml(x):\n",
    "    print(etree.tostring(x, pretty_print=True).decode(\"UTF-8\"))"
   ]
  },
  {
   "cell_type": "code",
   "execution_count": 1,
   "metadata": {},
   "outputs": [],
   "source": [
    "class prod():\n",
    "    def __init__(self, ident, name, href, place, price):\n",
    "        self.ID = ident\n",
    "        self.NAME = name\n",
    "        self.HREF = href\n",
    "        self.PLACE = place\n",
    "        self.PRICE = price"
   ]
  },
  {
   "cell_type": "code",
   "execution_count": null,
   "metadata": {},
   "outputs": [],
   "source": [
    "import lxml.etree as etree\n",
    "\n",
    "def makeelement(product): \n",
    "    el = etree.Element( \"element\", attrib = {\"ID\":f\"{product.ID}\"})\n",
    "    etree.SubElement(el, \"nazwa\", attrib = {\"NAME\":f\"{product.NAME}\"})\n",
    "    etree.SubElement(el, \"link\", attrib = {\"HREF\":f\"{product.HREF}\"})\n",
    "    etree.SubElement(el, \"cena\", attrib = {\"PRICE\":f\"{product.PRICE}\"})\n",
    "    etree.SubElement(el, \"miejsce\", attrib = {\"PLACE\":f\"{product.PLACE}\"})\n",
    "    return el"
   ]
  },
  {
   "cell_type": "code",
   "execution_count": null,
   "metadata": {},
   "outputs": [],
   "source": [
    "myprod = prod(1337,\"nazwawlasna\",\"www\",\"miejsce\",123)\n",
    "Ob = makeelement(myprod)\n",
    "print(type(Ob))\n",
    "printxml(Ob)"
   ]
  }
 ],
 "metadata": {
  "kernelspec": {
   "display_name": "Python 3",
   "language": "python",
   "name": "python3"
  },
  "language_info": {
   "codemirror_mode": {
    "name": "ipython",
    "version": 3
   },
   "file_extension": ".py",
   "mimetype": "text/x-python",
   "name": "python",
   "nbconvert_exporter": "python",
   "pygments_lexer": "ipython3",
   "version": "3.7.3"
  }
 },
 "nbformat": 4,
 "nbformat_minor": 4
}
