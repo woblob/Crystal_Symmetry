{
 "cells": [
  {
   "cell_type": "code",
   "execution_count": 17,
   "metadata": {},
   "outputs": [],
   "source": [
    "import numpy as np\n",
    "import cifParsing as CPRS\n",
    "from importlib import reload\n",
    "from Profiling import profiler\n",
    "import Matrixes_new as MAT\n",
    "from itertools import combinations as combinations\n",
    "from bisect import bisect_right\n"
   ]
  },
  {
   "cell_type": "code",
   "execution_count": 24,
   "metadata": {},
   "outputs": [],
   "source": [
    "def check_syms_in_cell(Cell):\n",
    "# def func(Cell: numpy2darray(float),\n",
    "#          matrixes: numpy3darray(int)) -> mask numpy1darray(bool):\n",
    "    \"\"\"\n",
    "    making all transformations of a cell\n",
    "    bringing back the order inside each transformed cell\n",
    "    checking if their are the same cells as original cell\n",
    "    \"\"\" \n",
    "    transformed_points = Cell @ MAT.all_matrixes \n",
    "    transformed_points_sorted = np.array([np.unique(points, axis=0) for points in transformed_points])\n",
    "    return np.array([np.array_equal(points, Cell) for points in transformed_points_sorted])\n"
   ]
  },
  {
   "cell_type": "code",
   "execution_count": 18,
   "metadata": {},
   "outputs": [],
   "source": [
    "class Node:\n",
    "    def __init__(self, parent):\n",
    "        self.children = []\n",
    "        self.parent = parent\n",
    "        \n",
    "    def add_child(self, child):\n",
    "        child.parent = self\n",
    "        self.children.append(child)\n",
    "\n",
    "        "
   ]
  },
  {
   "cell_type": "code",
   "execution_count": 19,
   "metadata": {},
   "outputs": [],
   "source": [
    "class ReducedCell(Node):\n",
    "    file = None\n",
    "    full_cell = np.array([])\n",
    "    base_type = ''\n",
    "    size = 0\n",
    "    vacancy_amount = 0\n",
    "    vacancies = np.array([])\n",
    "    \n",
    "    symmetry_mask_full_cell = []\n",
    "    symmetry_labels_full_cell = []\n",
    "    atoms_labels = []\n",
    "    matrixes_full_cell = []\n",
    "    \n",
    "    \n",
    "    \n",
    "    @classmethod\n",
    "    def set_parameters(cls, file, /, size, vacs):\n",
    "        cls.file = file\n",
    "        cls.size = size\n",
    "        cls.vacancy_amount = vacs\n",
    "        \n",
    "    @classmethod\n",
    "    def initialize_parameters(cls):\n",
    "        cls.full_cell, cls.base_type = CPRS.getSCell2(cls.file , cls.size)   \n",
    "        cls.full_cell_indexes = list(range(len(cls.full_cell)))\n",
    "        cls.symmetry_mask_full_cell = check_syms_in_cell(cls.full_cell)\n",
    "        cls.symmetry_labels_full_cell = output_symmetries(cls.symmetry_mask_full_cell)\n",
    "    \n",
    "    def __init__(self, parent, vacancy_index):\n",
    "        super().__init__(parent)\n",
    "        self.cell, vacs = makeCellWithVacancies(vacancy_index)\n",
    "        self.vacancies = np.append(parent.vacancies, vacs, axis=0)\n",
    "        self.parent_symmetries = parent.instance_symmetries\n",
    "        self.instance_symmetries = []\n",
    "        self.matrixes = []\n",
    "    \n",
    "    def __repr__(self):\n",
    "        return f\"\"\"{self.cell=}\\n{self.parent=}\\n{self.children=}\\n{ReducedCell.full_cell=}\\n{ReducedCell.size=}\\n\"\"\"\n",
    "    \n",
    "    @classmethod\n",
    "    def __makeCellWithVacancies(cls, index):\n",
    "        indexes = set(index)\n",
    "        cellVac = []\n",
    "        Vac = []\n",
    "        for nr, p in enumerate(cls.full_cell):\n",
    "            if nr not in indexes:\n",
    "                cellVac.append(p)\n",
    "            else:\n",
    "                Vac.append(p)\n",
    "        return np.array(cellVac), np.array(Vac)"
   ]
  },
  {
   "cell_type": "code",
   "execution_count": 26,
   "metadata": {},
   "outputs": [],
   "source": [
    "def output_symmetries(Symmerties):\n",
    "    return np.ma.masked_where(~Symmerties, MAT.all_labels).compressed().tolist()\n"
   ]
  },
  {
   "cell_type": "code",
   "execution_count": null,
   "metadata": {},
   "outputs": [],
   "source": [
    "check_antisyms_in_cell\n",
    "True_syms\n",
    "output_symmetries\n",
    "get_matrixes\n",
    "check_syms_in_cell\n",
    "check_all_cells"
   ]
  },
  {
   "cell_type": "code",
   "execution_count": 27,
   "metadata": {},
   "outputs": [],
   "source": [
    "ReducedCell.set_parameters(1000004, size = 2, vacs = 2) \n",
    "ReducedCell.initialize_parameters()\n",
    "# ReducedCell.run()"
   ]
  },
  {
   "cell_type": "code",
   "execution_count": 30,
   "metadata": {},
   "outputs": [
    {
     "name": "stdout",
     "output_type": "stream",
     "text": [
      "['c_000']\n"
     ]
    }
   ],
   "source": [
    "print(ReducedCell.symmetry_labels_full_cell)"
   ]
  },
  {
   "cell_type": "code",
   "execution_count": 29,
   "metadata": {},
   "outputs": [
    {
     "data": {
      "text/plain": [
       "['_ReducedCell__makeCellWithVacancies',\n",
       " '__class__',\n",
       " '__delattr__',\n",
       " '__dict__',\n",
       " '__dir__',\n",
       " '__doc__',\n",
       " '__eq__',\n",
       " '__format__',\n",
       " '__ge__',\n",
       " '__getattribute__',\n",
       " '__gt__',\n",
       " '__hash__',\n",
       " '__init__',\n",
       " '__init_subclass__',\n",
       " '__le__',\n",
       " '__lt__',\n",
       " '__module__',\n",
       " '__ne__',\n",
       " '__new__',\n",
       " '__reduce__',\n",
       " '__reduce_ex__',\n",
       " '__repr__',\n",
       " '__setattr__',\n",
       " '__sizeof__',\n",
       " '__str__',\n",
       " '__subclasshook__',\n",
       " '__weakref__',\n",
       " 'add_child',\n",
       " 'base_type',\n",
       " 'file',\n",
       " 'full_cell',\n",
       " 'initialize_parameters',\n",
       " 'matrixes_full_cell',\n",
       " 'set_parameters',\n",
       " 'size',\n",
       " 'symmetry_labels_full_cell',\n",
       " 'symmetry_mask_full_cell',\n",
       " 'vacancies',\n",
       " 'vacancy_amount']"
      ]
     },
     "execution_count": 29,
     "metadata": {},
     "output_type": "execute_result"
    }
   ],
   "source": [
    "dir(ReducedCell)"
   ]
  },
  {
   "cell_type": "code",
   "execution_count": 59,
   "metadata": {},
   "outputs": [
    {
     "name": "stdout",
     "output_type": "stream",
     "text": [
      "6\n"
     ]
    }
   ],
   "source": [
    "class A:\n",
    "    b = 10\n",
    "    def __init__(self, a):\n",
    "        self.a = a \n",
    "        \n",
    "obj_a = A(2)\n",
    "# obj_a.b = 3\n",
    "A.b = 6\n",
    "# A(7).b\n",
    "print(obj_a.b)"
   ]
  },
  {
   "cell_type": "code",
   "execution_count": null,
   "metadata": {},
   "outputs": [],
   "source": []
  }
 ],
 "metadata": {
  "kernelspec": {
   "display_name": "Python 3",
   "language": "python",
   "name": "python3"
  },
  "language_info": {
   "codemirror_mode": {
    "name": "ipython",
    "version": 3
   },
   "file_extension": ".py",
   "mimetype": "text/x-python",
   "name": "python",
   "nbconvert_exporter": "python",
   "pygments_lexer": "ipython3",
   "version": "3.8.1"
  }
 },
 "nbformat": 4,
 "nbformat_minor": 4
}
