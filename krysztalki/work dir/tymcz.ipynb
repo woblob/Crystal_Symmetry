{
 "cells": [
  {
   "cell_type": "code",
   "execution_count": 1,
   "metadata": {},
   "outputs": [],
   "source": [
    "import numpy as np\n",
    "import cifParsing as CPRS\n",
    "from importlib import reload\n",
    "from Profiling import profiler\n",
    "import Matrixes_new as MAT\n",
    "from itertools import combinations as combinations\n",
    "from bisect import bisect_right\n",
    "\n",
    "# CPRS = reload(CPRS)"
   ]
  },
  {
   "cell_type": "code",
   "execution_count": 12,
   "metadata": {},
   "outputs": [
    {
     "data": {
      "text/plain": [
       "array([[-1. , -1. , -1. ],\n",
       "       [-1. , -1. , -0.5]])"
      ]
     },
     "execution_count": 12,
     "metadata": {},
     "output_type": "execute_result"
    }
   ],
   "source": [
    "SUPERCELL, _ = CPRS.getSCell(1000041 , size = 2) \n",
    "# SUPERCELL, _ = CPRS.getSCell2(1100043 , size = 2) \n",
    "# SUPERCELL, _ = CPRS.getSCell2(1000004 , size = 2) \n",
    "SUPERCELL[:2]"
   ]
  },
  {
   "cell_type": "code",
   "execution_count": 3,
   "metadata": {},
   "outputs": [],
   "source": [
    "def check_antisyms_in_cell(Cell, Vacancies, matrixes):\n",
    "# def funcforsyms(Cell: numpy2darray(float), matrixes: numpy3darray(int)) -> numpy1darray(bool):\n",
    "    transformed_vacancies = Vacancies @ MAT.all_matrixes\n",
    "    mask = np.full(len(matrixes), True, dtype=bool) # matrixes.shape[0] instaed of len()\n",
    "    for i, points in enumerate(transformed_vacancies):\n",
    "        for x,y,z in points:\n",
    "            if np.any((Cell[:,0] == x) & (Cell[:,1]==y) & (Cell[:,2]==z)):\n",
    "                mask[i] = False\n",
    "                break\n",
    "    return mask"
   ]
  },
  {
   "cell_type": "code",
   "execution_count": 4,
   "metadata": {},
   "outputs": [],
   "source": [
    "def True_syms(propable_symmetries, present_symmetries):\n",
    "    true_syms = propable_symmetries.copy()\n",
    "    j = 0\n",
    "    for i, mat in enumerate(propable_symmetries):\n",
    "        if mat:\n",
    "            true_syms[i] = present_symmetries[j]\n",
    "            j += 1\n",
    "    return true_syms"
   ]
  },
  {
   "cell_type": "code",
   "execution_count": 27,
   "metadata": {},
   "outputs": [
    {
     "data": {
      "text/plain": [
       "[]"
      ]
     },
     "execution_count": 27,
     "metadata": {},
     "output_type": "execute_result"
    }
   ],
   "source": [
    "def output_symmetries(Symmerties):\n",
    "    return np.ma.masked_where(~Symmerties, MAT.all_labels).compressed().tolist()\n",
    "\n",
    "output_symmetries(np.array([False]*33))"
   ]
  },
  {
   "cell_type": "code",
   "execution_count": 6,
   "metadata": {},
   "outputs": [],
   "source": [
    "def get_matrixes(allowed_matrixes):\n",
    "    return np.array([mat for mat, mask in zip(MAT.all_matrixes, np.ma.masked_where(allowed_matrixes, MAT.all_labels).mask) if mask])"
   ]
  },
  {
   "cell_type": "code",
   "execution_count": 28,
   "metadata": {
    "scrolled": true
   },
   "outputs": [],
   "source": [
    "def makeCellWithVacancies(cell,indexes):\n",
    "    indexes = set(indexes)\n",
    "    cellVac = []\n",
    "    Vac = []\n",
    "    for nr, p in enumerate(cell):\n",
    "        if nr not in indexes:\n",
    "            cellVac.append(p)\n",
    "        else:\n",
    "            Vac.append(p)\n",
    "    return np.array(cellVac), np.array(Vac)\n",
    "\n",
    "# @profiler(\"tottime\")\n",
    "def check_syms_in_cell(Cell, matrixes):\n",
    "# def func(Cell: numpy2darray(float),\n",
    "#          matrixes: numpy3darray(int)) -> mask numpy1darray(bool):\n",
    "    \"\"\"\n",
    "    making all transformations of a cell\n",
    "    bringing back the order inside each transformed cell\n",
    "    checking if their are the same cells as original cell\n",
    "    \"\"\" \n",
    "    transformed_points = Cell @ matrixes \n",
    "    transformed_points_sorted = np.array([np.unique(points, axis=0) for points in transformed_points])\n",
    "    return np.array([np.array_equal(points, Cell) for points in transformed_points_sorted])\n",
    "\n",
    "def check_all_cells2(scell, sumVac):\n",
    "    mylist = []\n",
    "    labels_in = MAT.all_labels\n",
    "    matrixes = MAT.all_matrixes\n",
    "    for indexes in combinations(range(len(scell)), sumVac): \n",
    "        scellvac, vacancies = makeCellWithVacancies(scell, indexes)\n",
    "        allowed_matrixes = check_antisyms_in_cell(scellvac, vacancies, matrixes)\n",
    "        if np.any(allowed_matrixes):\n",
    "            SYM = check_syms_in_cell(scellvac, get_matrixes(allowed_matrixes))\n",
    "            true_syms = True_syms(allowed_matrixes, SYM)\n",
    "            output = output_symmetries(true_syms)\n",
    "        else:\n",
    "            output = []\n",
    "        mylist.append((vacancies.tolist(), output))\n",
    "    return count, count_same  #len(mylist), mylist\n",
    "\n",
    "def check_all_cells3(scell, sumVac):\n",
    "    mylist = []\n",
    "    labels_in = MAT.all_labels\n",
    "    matrixes = MAT.all_matrixes\n",
    "    for indexes in combinations(range(len(scell)), sumVac): \n",
    "        scellvac, vacancies = makeCellWithVacancies(scell, indexes)\n",
    "        allowed_matrixes = check_antisyms_in_cell(scellvac, vacancies, matrixes)\n",
    "        if np.any(allowed_matrixes):\n",
    "            output = output_symmetries(allowed_matrixes)\n",
    "        else:\n",
    "            output = []\n",
    "        mylist.append((vacancies.tolist(), output))\n",
    "    return len(mylist), mylist"
   ]
  },
  {
   "cell_type": "code",
   "execution_count": 16,
   "metadata": {},
   "outputs": [
    {
     "name": "stdout",
     "output_type": "stream",
     "text": [
      "CPU times: user 7.47 s, sys: 0 ns, total: 7.47 s\n",
      "Wall time: 7.48 s\n"
     ]
    }
   ],
   "source": [
    "def check_all_cells4(scell, sumVac):\n",
    "    mylist = []\n",
    "    labels_in = MAT.all_labels\n",
    "    matrixes = MAT.all_matrixes\n",
    "    for indexes in combinations(range(len(scell)), sumVac): \n",
    "        scellvac, vacancies = makeCellWithVacancies(scell, indexes)\n",
    "        allowed_matrixes = check_antisyms_in_cell(scellvac, vacancies, matrixes)\n",
    "        output = output_symmetries(allowed_matrixes)\n",
    "        mylist.append((vacancies.tolist(), output))\n",
    "    return len(mylist), mylist"
   ]
  },
  {
   "cell_type": "code",
   "execution_count": 16,
   "metadata": {},
   "outputs": [
    {
     "name": "stdout",
     "output_type": "stream",
     "text": [
      "CPU times: user 7.47 s, sys: 0 ns, total: 7.47 s\n",
      "Wall time: 7.48 s\n"
     ]
    }
   ],
   "source": [
    "%time out2 = check_all_cells2(SUPERCELL, 2)"
   ]
  },
  {
   "cell_type": "code",
   "execution_count": 31,
   "metadata": {},
   "outputs": [
    {
     "name": "stdout",
     "output_type": "stream",
     "text": [
      "6.99 s ± 68 ms per loop (mean ± std. dev. of 7 runs, 1 loop each)\n"
     ]
    }
   ],
   "source": [
    "%timeit out3 = check_all_cells3(SUPERCELL, 2)"
   ]
  },
  {
   "cell_type": "code",
   "execution_count": 17,
   "metadata": {
    "scrolled": true
   },
   "outputs": [
    {
     "data": {
      "text/plain": [
       "(2918, 2918)"
      ]
     },
     "execution_count": 17,
     "metadata": {},
     "output_type": "execute_result"
    }
   ],
   "source": [
    "out2"
   ]
  },
  {
   "cell_type": "code",
   "execution_count": 31,
   "metadata": {
    "collapsed": true,
    "jupyter": {
     "outputs_hidden": true
    },
    "scrolled": true
   },
   "outputs": [
    {
     "name": "stdout",
     "output_type": "stream",
     "text": [
      "CPU times: user 0 ns, sys: 7.1 ms, total: 7.1 ms\n",
      "Wall time: 5.62 ms\n"
     ]
    },
    {
     "data": {
      "text/plain": [
       "array([False, False, False, False,  True,  True,  True,  True,  True,\n",
       "        True,  True,  True,  True, False, False, False, False, False,\n",
       "       False,  True,  True,  True,  True, False, False, False, False,\n",
       "       False, False, False,  True,  True,  True])"
      ]
     },
     "execution_count": 31,
     "metadata": {},
     "output_type": "execute_result"
    }
   ],
   "source": [
    "%time check_syms_in_cell(SUPERCELL, MAT.all_matrixes)"
   ]
  },
  {
   "cell_type": "code",
   "execution_count": 10,
   "metadata": {},
   "outputs": [
    {
     "name": "stdout",
     "output_type": "stream",
     "text": [
      "CPU times: user 15.9 s, sys: 674 ms, total: 16.6 s\n",
      "Wall time: 16.7 s\n"
     ]
    }
   ],
   "source": [
    "def check_all_cells2(scell, sumVac):\n",
    "    mylist = []\n",
    "    labels_in = MAT.all_labels\n",
    "    matrixes = MAT.all_matrixes\n",
    "    for indexes in combinations(range(len(scell)), sumVac): \n",
    "        scellvac, vacancies = makeCellWithVacancies(scell, indexes)\n",
    "        allowed_matrixes = check_antisyms_in_cell(scellvac, vacancies, matrixes)\n",
    "        if np.any(allowed_matrixes):\n",
    "            SYM = check_syms_in_cell(scellvac, get_matrixes(allowed_matrixes))\n",
    "            true_syms = True_syms(allowed_matrixes, SYM)\n",
    "            output = output_symmetries(true_syms)\n",
    "        else:\n",
    "            output = []\n",
    "        mylist.append((vacancies.tolist(), output))\n",
    "    return len(mylist), mylist\n",
    "\n",
    "%time out2 = check_all_cells2(SUPERCELL, 2)"
   ]
  },
  {
   "cell_type": "code",
   "execution_count": null,
   "metadata": {},
   "outputs": [],
   "source": [
    "def check_all_cells_recursive(scell, sumVac, previous_point_index=0):\n",
    "    scellvac, vacancies = makeCellWithVacancies(scell, indexes)\n",
    "    allowed_matrixes = check_antisyms_in_cell(scellvac, vacancies, matrixes)\n",
    "    if sumVac > 0:\n",
    "        mylist = []\n",
    "        if np.any(allowed_matrixes):\n",
    "            SYM = check_syms_in_cell(scellvac, get_matrixes(allowed_matrixes))\n",
    "            true_syms = True_syms(allowed_matrixes, SYM)\n",
    "            reduced_cell, reduced_cell_indexes = reduce_cell_by_symmetry(CELL, MATRIXES)\n",
    "\n",
    "            wskaznik = bisect_right(reduced_cell_indexes, previous_point_index)\n",
    "        # dla powstalej komorki przejsc po kazdym punkcie i rekursywnie zwrocic powstaly zestaw symmetrii na dane vakancje\n",
    "        # limit sumVac\n",
    "            for indexes in reduced_cell_indexes[wskaznik:]:\n",
    "                check_all_cells_recursive(scell, sumVac-1, wskaznik)\n",
    "                    output = output_symmetries(true_syms)\n",
    "                else:\n",
    "                    output = []\n",
    "                mylist.append((vacancies.tolist(), output))\n",
    "        return mylist\n",
    "\n",
    "\n",
    "\n",
    "%time out2 = check_all_cells_recursive(SUPERCELL, 2)"
   ]
  }
 ],
 "metadata": {
  "kernelspec": {
   "display_name": "Python 3",
   "language": "python",
   "name": "python3"
  },
  "language_info": {
   "codemirror_mode": {
    "name": "ipython",
    "version": 3
   },
   "file_extension": ".py",
   "mimetype": "text/x-python",
   "name": "python",
   "nbconvert_exporter": "python",
   "pygments_lexer": "ipython3",
   "version": "3.8.1"
  }
 },
 "nbformat": 4,
 "nbformat_minor": 4
}
