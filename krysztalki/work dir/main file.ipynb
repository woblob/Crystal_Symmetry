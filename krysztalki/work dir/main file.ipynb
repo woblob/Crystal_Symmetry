{
 "cells": [
  {
   "cell_type": "code",
   "execution_count": 58,
   "metadata": {},
   "outputs": [],
   "source": [
    "from Profiling import profile\n",
    "import MMfunc as MM\n",
    "import cifParsing as CPRS\n",
    "from importlib import reload\n",
    "import sys"
   ]
  },
  {
   "cell_type": "code",
   "execution_count": 64,
   "metadata": {
    "scrolled": true
   },
   "outputs": [],
   "source": [
    "MM = reload(MM)\n",
    "CPRS = reload(CPRS)\n",
    "reload(sys.modules['Matrixes'])\n",
    "\n",
    "# filename = 'ZnS-Sfaleryt.cif'\n",
    "# SUPERCELL,BASE = CPRS.getSCell(CPRS.FROM.CIF, filename, size = 1)\n",
    "\n",
    "COD_num = 1000041 # NaCl Fm-3m\n",
    "# COD_num = 1100043 # ZnS\tF-43m\n",
    "\n",
    "SIZE = 2\n",
    "VACS = 2\n",
    "txtfile = \"output of symmetries\" #bez .txt\n",
    "\n",
    "SUPERCELL2, BASE = CPRS.getSCell(COD_num, size = SIZE)\n",
    "# myabc = profile(MM.abc_Dict2)\n",
    "# lol2 = myabc(SUPERCELL2,BASE,VACS)\n",
    "# %time lol2 = MM.abc_Dict2(SUPERCELL2,BASE,VACS)\n",
    "# %time lol3 = MM.abc_Dict3(SUPERCELL2,BASE,VACS)"
   ]
  },
  {
   "cell_type": "code",
   "execution_count": 90,
   "metadata": {},
   "outputs": [
    {
     "name": "stdout",
     "output_type": "stream",
     "text": [
      "         2120365 function calls in 12.243 seconds\n",
      "\n",
      "   Ordered by: cumulative time\n",
      "\n",
      "   ncalls  tottime  percall  cumtime  percall filename:lineno(function)\n",
      "        1    0.112    0.112   12.243   12.243 /home/roodygibon/Documents/Skrypty Python/program/python/py/krysztalki git/Crystal_Symmetry/krysztalki/workDir/MMfunc.py:146(abc_Dict2)\n",
      "     2955    0.007    0.000   11.428    0.004 /home/roodygibon/Documents/Skrypty Python/program/python/py/krysztalki git/Crystal_Symmetry/krysztalki/workDir/MMfunc.py:138(findSym_Dict2)\n",
      "   281561    0.695    0.000   11.010    0.000 /home/roodygibon/Documents/Skrypty Python/program/python/py/krysztalki git/Crystal_Symmetry/krysztalki/workDir/MMfunc.py:59(findPointsInDict)\n",
      "   532477    1.999    0.000   10.149    0.000 /home/roodygibon/Documents/Skrypty Python/program/python/py/krysztalki git/Crystal_Symmetry/krysztalki/workDir/MMfunc.py:11(listadous)\n",
      "     2955    0.051    0.000    8.654    0.003 /home/roodygibon/Documents/Skrypty Python/program/python/py/krysztalki git/Crystal_Symmetry/krysztalki/workDir/MMfunc.py:117(findAntiSym_Dict)\n",
      "    97484    0.149    0.000    8.566    0.000 /home/roodygibon/Documents/Skrypty Python/program/python/py/krysztalki git/Crystal_Symmetry/krysztalki/workDir/MMfunc.py:105(findAntiSym_Dict_InnerLoop)\n",
      "   436437    8.149    0.000    8.149    0.000 /home/roodygibon/Documents/Skrypty Python/program/python/py/krysztalki git/Crystal_Symmetry/krysztalki/workDir/MMfunc.py:24(porownajPunkty)\n",
      "     1443    0.157    0.000    2.766    0.002 /home/roodygibon/Documents/Skrypty Python/program/python/py/krysztalki git/Crystal_Symmetry/krysztalki/workDir/MMfunc.py:65(findSym_Dict_innerLoop)\n",
      "     2955    0.004    0.000    0.437    0.000 /home/roodygibon/Documents/Skrypty Python/program/python/py/krysztalki git/Crystal_Symmetry/krysztalki/workDir/MMfunc.py:47(hashingPoints)\n",
      "     2955    0.433    0.000    0.433    0.000 /home/roodygibon/Documents/Skrypty Python/program/python/py/krysztalki git/Crystal_Symmetry/krysztalki/workDir/MMfunc.py:48(<setcomp>)\n",
      "     2955    0.118    0.000    0.266    0.000 /home/roodygibon/Documents/Skrypty Python/program/python/py/krysztalki git/Crystal_Symmetry/krysztalki/workDir/MMfunc.py:184(makeCellWithVacancies)\n",
      "   250916    0.182    0.000    0.182    0.000 /home/roodygibon/Documents/Skrypty Python/program/python/py/krysztalki git/Crystal_Symmetry/krysztalki/workDir/MMfunc.py:50(searchforpoint)\n",
      "     5943    0.122    0.000    0.122    0.000 {built-in method numpy.array}\n",
      "     2955    0.028    0.000    0.037    0.000 /home/roodygibon/Documents/Skrypty Python/program/python/py/krysztalki git/Crystal_Symmetry/krysztalki/workDir/MMfunc.py:17(makelist)\n",
      "   472730    0.034    0.000    0.034    0.000 {method 'append' of 'list' objects}\n",
      "    23640    0.002    0.000    0.002    0.000 {method 'keys' of 'dict' objects}\n",
      "        1    0.000    0.000    0.000    0.000 /home/roodygibon/Documents/Skrypty Python/program/python/py/krysztalki git/Crystal_Symmetry/krysztalki/workDir/MMfunc.py:6(symmetryBase)\n",
      "        1    0.000    0.000    0.000    0.000 /home/roodygibon/Documents/Skrypty Python/program/python/py/krysztalki git/Crystal_Symmetry/krysztalki/workDir/Matrixes.py:3(generateSymetryBaseQUAD)\n",
      "        1    0.000    0.000    0.000    0.000 {built-in method builtins.len}\n",
      "\n",
      "\n",
      "\n"
     ]
    }
   ],
   "source": [
    "myabc = profile(MM.abc_Dict2)\n",
    "output = myabc(SUPERCELL2,BASE,VACS)"
   ]
  },
  {
   "cell_type": "code",
   "execution_count": null,
   "metadata": {},
   "outputs": [],
   "source": [
    "output"
   ]
  },
  {
   "cell_type": "code",
   "execution_count": null,
   "metadata": {},
   "outputs": [],
   "source": [
    "SUPERCELL2, BASE = CPRS.getSCell(filename, size = SIZE)\n",
    "%time lol2 = MM.abc(SUPERCELL2,BASE,VACS) #SC:4 VAC:2 Wall time:24min 27s"
   ]
  },
  {
   "cell_type": "code",
   "execution_count": null,
   "metadata": {},
   "outputs": [],
   "source": [
    "SUPERCELL2"
   ]
  },
  {
   "cell_type": "code",
   "execution_count": 12,
   "metadata": {},
   "outputs": [],
   "source": [
    "MM.saveOutput2(output,SIZE, txtfile)"
   ]
  },
  {
   "cell_type": "code",
   "execution_count": 9,
   "metadata": {
    "collapsed": true,
    "jupyter": {
     "outputs_hidden": true
    }
   },
   "outputs": [
    {
     "name": "stdout",
     "output_type": "stream",
     "text": [
      "1 1\n",
      "Wall time: 110 ms\n",
      "\n",
      "1 2\n",
      "Wall time: 666 ms\n",
      "\n",
      "2 1\n",
      "Wall time: 1.15 s\n",
      "\n",
      "2 2\n",
      "Wall time: 26.2 s\n",
      "\n"
     ]
    }
   ],
   "source": [
    "for SIZ in range(1,3):\n",
    "    for VA in range(1,3):\n",
    "        print(f\"size = {SIZ},vacs = {VA}\")\n",
    "        SUPERCELL = getSCell(Crystal.from_cif, filename, size = SIZ)\n",
    "        %time abcde(SUPERCELL,sumVac = VA)\n",
    "        print()"
   ]
  },
  {
   "cell_type": "code",
   "execution_count": 48,
   "metadata": {},
   "outputs": [
    {
     "name": "stdout",
     "output_type": "stream",
     "text": [
      "AVG E:0.0021\n",
      "AVG F:0.0135\n",
      "\n",
      "COUNT E:173160\n",
      "COUNT F:19350\n",
      "\n",
      "TIME E:356.6779923439026\n",
      "TIME F:260.2653772830963\n",
      "CPU times: user 16min 1s, sys: 1.63 s, total: 16min 2s\n",
      "Wall time: 16min 6s\n"
     ]
    }
   ],
   "source": [
    "%time lol2 = MM.abc_Dict(SUPERCELL2,BASE,VACS)#SC:4 VAC:2 Wall time:~16min "
   ]
  },
  {
   "cell_type": "code",
   "execution_count": 12,
   "metadata": {},
   "outputs": [],
   "source": [
    "MM.saveOutput2(lol3,SIZE, \"size=2,vacs=2\")"
   ]
  },
  {
   "cell_type": "code",
   "execution_count": 5,
   "metadata": {},
   "outputs": [
    {
     "data": {
      "text/plain": [
       "['__add__',\n",
       " '__array__',\n",
       " '__bool__',\n",
       " '__class__',\n",
       " '__contains__',\n",
       " '__delattr__',\n",
       " '__dict__',\n",
       " '__dir__',\n",
       " '__doc__',\n",
       " '__eq__',\n",
       " '__format__',\n",
       " '__ge__',\n",
       " '__getattribute__',\n",
       " '__gt__',\n",
       " '__hash__',\n",
       " '__init__',\n",
       " '__init_subclass__',\n",
       " '__iter__',\n",
       " '__le__',\n",
       " '__len__',\n",
       " '__lt__',\n",
       " '__module__',\n",
       " '__ne__',\n",
       " '__new__',\n",
       " '__reduce__',\n",
       " '__reduce_ex__',\n",
       " '__repr__',\n",
       " '__setattr__',\n",
       " '__sizeof__',\n",
       " '__str__',\n",
       " '__subclasshook__',\n",
       " '__weakref__',\n",
       " '_from_spglib_cell',\n",
       " '_spglib_cell',\n",
       " '_to_string',\n",
       " 'a1',\n",
       " 'a2',\n",
       " 'a3',\n",
       " 'atoms',\n",
       " 'bounded_reflections',\n",
       " 'builtins',\n",
       " 'centering',\n",
       " 'chemical_composition',\n",
       " 'chemical_formula',\n",
       " 'frac_mesh',\n",
       " 'from_ase',\n",
       " 'from_cif',\n",
       " 'from_cod',\n",
       " 'from_database',\n",
       " 'from_mp',\n",
       " 'from_parameters',\n",
       " 'from_pdb',\n",
       " 'from_pwscf',\n",
       " 'hall_number',\n",
       " 'hall_symbol',\n",
       " 'hm_symbol',\n",
       " 'ideal',\n",
       " 'indexed_by',\n",
       " 'international_full',\n",
       " 'international_number',\n",
       " 'international_symbol',\n",
       " 'itersorted',\n",
       " 'lattice_parameters',\n",
       " 'lattice_system',\n",
       " 'lattice_vectors',\n",
       " 'mesh',\n",
       " 'miller_indices',\n",
       " 'periodicity',\n",
       " 'pointgroup',\n",
       " 'primitive',\n",
       " 'reciprocal',\n",
       " 'reciprocal_symmetry_operations',\n",
       " 'reciprocal_vectors',\n",
       " 'satisfying',\n",
       " 'scattering_vector',\n",
       " 'source',\n",
       " 'substructures',\n",
       " 'supercell',\n",
       " 'symmetry',\n",
       " 'symmetry_operations',\n",
       " 'transform',\n",
       " 'unitcell',\n",
       " 'volume']"
      ]
     },
     "execution_count": 5,
     "metadata": {},
     "output_type": "execute_result"
    }
   ],
   "source": [
    "dir(lattice)"
   ]
  }
 ],
 "metadata": {
  "kernelspec": {
   "display_name": "Python 3",
   "language": "python",
   "name": "python3"
  },
  "language_info": {
   "codemirror_mode": {
    "name": "ipython",
    "version": 3
   },
   "file_extension": ".py",
   "mimetype": "text/x-python",
   "name": "python",
   "nbconvert_exporter": "python",
   "pygments_lexer": "ipython3",
   "version": "3.8.1"
  }
 },
 "nbformat": 4,
 "nbformat_minor": 4
}
