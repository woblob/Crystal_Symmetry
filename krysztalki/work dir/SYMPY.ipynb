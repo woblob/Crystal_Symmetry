{
 "cells": [
  {
   "cell_type": "code",
   "execution_count": 1,
   "metadata": {},
   "outputs": [],
   "source": [
    "import sympy as sp\n",
    "sp.init_printing(use_unicode=True)\n",
    "x,y,z = sp.symbols(\"x y z\")"
   ]
  },
  {
   "cell_type": "code",
   "execution_count": 4,
   "metadata": {},
   "outputs": [],
   "source": [
    "import numpy as np\n",
    "lines = [line.rstrip('\\n') for line in open('ZnS-Sfaleryt.cif')]"
   ]
  },
  {
   "cell_type": "code",
   "execution_count": 5,
   "metadata": {},
   "outputs": [
    {
     "data": {
      "text/plain": [
       "['#------------------------------------------------------------------------------',\n",
       " '#$Date: 2017-10-15 03:23:08 +0300 (Sun, 15 Oct 2017) $',\n",
       " '#$Revision: 202022 $',\n",
       " '#$URL: file:///home/coder/svn-repositories/cod/cif/1/10/00/1100043.cif $',\n",
       " '#------------------------------------------------------------------------------',\n",
       " '#',\n",
       " '# This file is available in the Crystallography Open Database (COD),',\n",
       " '# http://www.crystallography.net/',\n",
       " '#',\n",
       " '# All data on this site have been placed in the public domain by the',\n",
       " '# contributors.',\n",
       " '#',\n",
       " 'data_1100043',\n",
       " 'loop_',\n",
       " '_publ_author_name',\n",
       " \"'Jumpertz, E. A.'\",\n",
       " '_publ_section_title',\n",
       " ';',\n",
       " ' Electron-density distribution in zinc blende',\n",
       " ';',\n",
       " '_journal_name_full',\n",
       " ';',\n",
       " ' Zeitschrift f\\\\\"ur Elektrochemie und angewandte physikalische Chemie',\n",
       " ';',\n",
       " '_journal_page_first              419',\n",
       " '_journal_page_last               425',\n",
       " '_journal_volume                  59',\n",
       " '_journal_year                    1955',\n",
       " \"_chemical_formula_sum            'S Zn'\",\n",
       " '_chemical_name_mineral           Sphalerite',\n",
       " \"_chemical_name_systematic        'Zinc sulfide'\",\n",
       " '_space_group_IT_number           216',\n",
       " '_symmetry_cell_setting           cubic',\n",
       " '_symmetry_Int_Tables_number      216',\n",
       " \"_symmetry_space_group_name_Hall  'F -4 2 3'\",\n",
       " \"_symmetry_space_group_name_H-M   'F -4 3 m'\",\n",
       " '_cell_angle_alpha                90',\n",
       " '_cell_angle_beta                 90',\n",
       " '_cell_angle_gamma                90',\n",
       " '_cell_formula_units_Z            4',\n",
       " '_cell_length_a                   5.4145(90)',\n",
       " '_cell_length_b                   5.4145(90)',\n",
       " '_cell_length_c                   5.4145(90)',\n",
       " '_cell_volume                     158.7']"
      ]
     },
     "execution_count": 5,
     "metadata": {},
     "output_type": "execute_result"
    }
   ],
   "source": [
    "lines[:44]"
   ]
  },
  {
   "cell_type": "code",
   "execution_count": 15,
   "metadata": {},
   "outputs": [
    {
     "data": {
      "text/plain": [
       "['x,y,z',\n",
       " 'y,z,x',\n",
       " 'z,x,y',\n",
       " 'x,z,y',\n",
       " 'y,x,z',\n",
       " 'z,y,x',\n",
       " 'x,-y,-z',\n",
       " 'y,-z,-x',\n",
       " 'z,-x,-y',\n",
       " 'x,-z,-y',\n",
       " 'y,-x,-z',\n",
       " 'z,-y,-x',\n",
       " '-x,y,-z',\n",
       " '-y,z,-x',\n",
       " '-z,x,-y',\n",
       " '-x,z,-y',\n",
       " '-y,x,-z',\n",
       " '-z,y,-x',\n",
       " '-x,-y,z',\n",
       " '-y,-z,x',\n",
       " '-z,-x,y',\n",
       " '-x,-z,y',\n",
       " '-y,-x,z',\n",
       " '-z,-y,x',\n",
       " 'x,1/2+y,1/2+z',\n",
       " '1/2+x,y,1/2+z',\n",
       " '1/2+x,1/2+y,z',\n",
       " 'y,1/2+z,1/2+x',\n",
       " '1/2+y,z,1/2+x',\n",
       " '1/2+y,1/2+z,x',\n",
       " 'z,1/2+x,1/2+y',\n",
       " '1/2+z,x,1/2+y',\n",
       " '1/2+z,1/2+x,y',\n",
       " 'x,1/2+z,1/2+y',\n",
       " '1/2+x,z,1/2+y',\n",
       " '1/2+x,1/2+z,y',\n",
       " 'y,1/2+x,1/2+z',\n",
       " '1/2+y,x,1/2+z',\n",
       " '1/2+y,1/2+x,z',\n",
       " 'z,1/2+y,1/2+x',\n",
       " '1/2+z,y,1/2+x',\n",
       " '1/2+z,1/2+y,x',\n",
       " 'x,1/2-y,1/2-z',\n",
       " '1/2+x,-y,1/2-z',\n",
       " '1/2+x,1/2-y,-z',\n",
       " 'y,1/2-z,1/2-x',\n",
       " '1/2+y,-z,1/2-x',\n",
       " '1/2+y,1/2-z,-x',\n",
       " 'z,1/2-x,1/2-y',\n",
       " '1/2+z,-x,1/2-y',\n",
       " '1/2+z,1/2-x,-y',\n",
       " 'x,1/2-z,1/2-y',\n",
       " '1/2+x,-z,1/2-y',\n",
       " '1/2+x,1/2-z,-y',\n",
       " 'y,1/2-x,1/2-z',\n",
       " '1/2+y,-x,1/2-z',\n",
       " '1/2+y,1/2-x,-z',\n",
       " 'z,1/2-y,1/2-x',\n",
       " '1/2+z,-y,1/2-x',\n",
       " '1/2+z,1/2-y,-x',\n",
       " '-x,1/2+y,1/2-z',\n",
       " '1/2-x,y,1/2-z',\n",
       " '1/2-x,1/2+y,-z',\n",
       " '-y,1/2+z,1/2-x',\n",
       " '1/2-y,z,1/2-x',\n",
       " '1/2-y,1/2+z,-x',\n",
       " '-z,1/2+x,1/2-y',\n",
       " '1/2-z,x,1/2-y',\n",
       " '1/2-z,1/2+x,-y',\n",
       " '-x,1/2+z,1/2-y',\n",
       " '1/2-x,z,1/2-y',\n",
       " '1/2-x,1/2+z,-y',\n",
       " '-y,1/2+x,1/2-z',\n",
       " '1/2-y,x,1/2-z',\n",
       " '1/2-y,1/2+x,-z',\n",
       " '-z,1/2+y,1/2-x',\n",
       " '1/2-z,y,1/2-x',\n",
       " '1/2-z,1/2+y,-x',\n",
       " '-x,1/2-y,1/2+z',\n",
       " '1/2-x,-y,1/2+z',\n",
       " '1/2-x,1/2-y,z',\n",
       " '-y,1/2-z,1/2+x',\n",
       " '1/2-y,-z,1/2+x',\n",
       " '1/2-y,1/2-z,x',\n",
       " '-z,1/2-x,1/2+y',\n",
       " '1/2-z,-x,1/2+y',\n",
       " '1/2-z,1/2-x,y',\n",
       " '-x,1/2-z,1/2+y',\n",
       " '1/2-x,-z,1/2+y',\n",
       " '1/2-x,1/2-z,y',\n",
       " '-y,1/2-x,1/2+z',\n",
       " '1/2-y,-x,1/2+z',\n",
       " '1/2-y,1/2-x,z',\n",
       " '-z,1/2-y,1/2+x',\n",
       " '1/2-z,-y,1/2+x',\n",
       " '1/2-z,1/2-y,x']"
      ]
     },
     "execution_count": 15,
     "metadata": {},
     "output_type": "execute_result"
    }
   ],
   "source": [
    "P = 48\n",
    "K = 144\n",
    "lines[P:K]"
   ]
  },
  {
   "cell_type": "code",
   "execution_count": 16,
   "metadata": {},
   "outputs": [
    {
     "data": {
      "text/plain": [
       "['loop_',\n",
       " '_atom_site_label',\n",
       " '_atom_site_type_symbol',\n",
       " '_atom_site_symmetry_multiplicity',\n",
       " '_atom_site_Wyckoff_symbol',\n",
       " '_atom_site_fract_x',\n",
       " '_atom_site_fract_y',\n",
       " '_atom_site_fract_z',\n",
       " '_atom_site_occupancy',\n",
       " '_atom_site_attached_hydrogens',\n",
       " '_atom_site_calc_flag',\n",
       " 'Zn1 Zn2+ 4 a 0. 0. 0. 1. 0 d',\n",
       " 'S1 S2- 4 c 0.25 0.25 0.25 1. 0 d',\n",
       " 'loop_',\n",
       " '_atom_type_symbol',\n",
       " '_atom_type_oxidation_number',\n",
       " 'Zn2+ 2.000',\n",
       " 'S2- -2.000',\n",
       " 'loop_',\n",
       " '_cod_related_entry_id',\n",
       " '_cod_related_entry_database',\n",
       " '_cod_related_entry_code',\n",
       " '1 MPOD 1000125',\n",
       " '2 MPOD 1000146']"
      ]
     },
     "execution_count": 16,
     "metadata": {},
     "output_type": "execute_result"
    }
   ],
   "source": [
    "lines[K:]"
   ]
  },
  {
   "cell_type": "code",
   "execution_count": 4,
   "metadata": {},
   "outputs": [
    {
     "name": "stdout",
     "output_type": "stream",
     "text": [
      "-0.50\n",
      "1/2-z\n"
     ]
    }
   ],
   "source": [
    "# cord = lines[50].split(',')[0]\n",
    "# cosos = sp.sympify(cord).subs(z,1).evalf(2)\n",
    "# print(cosos)\n",
    "# print(cord)\n"
   ]
  },
  {
   "cell_type": "code",
   "execution_count": 5,
   "metadata": {},
   "outputs": [
    {
     "data": {
      "image/png": "[encoded data removed]",
      "text/latex": [
       "$$-1.5$$"
      ],
      "text/plain": [
       "-1.50000000000000"
      ]
     },
     "execution_count": 5,
     "metadata": {},
     "output_type": "execute_result"
    }
   ],
   "source": [
    "# sp.sympify(lines[50])[2].evalf(subs={x: 1,y:2,z:3})"
   ]
  },
  {
   "cell_type": "code",
   "execution_count": 17,
   "metadata": {},
   "outputs": [
    {
     "name": "stdout",
     "output_type": "stream",
     "text": [
      "[[-0.25 -0.25  0.25]\n",
      " [-0.25  0.25 -0.25]\n",
      " [-0.25  0.25  0.75]\n",
      " [-0.25  0.75  0.25]\n",
      " [ 0.    0.    0.  ]\n",
      " [ 0.    0.5   0.5 ]\n",
      " [ 0.25 -0.25 -0.25]\n",
      " [ 0.25 -0.25  0.75]\n",
      " [ 0.25  0.25  0.25]\n",
      " [ 0.25  0.75 -0.25]\n",
      " [ 0.25  0.75  0.75]\n",
      " [ 0.5   0.    0.5 ]\n",
      " [ 0.5   0.5   0.  ]\n",
      " [ 0.75 -0.25  0.25]\n",
      " [ 0.75  0.25 -0.25]\n",
      " [ 0.75  0.25  0.75]\n",
      " [ 0.75  0.75  0.25]]\n"
     ]
    }
   ],
   "source": [
    "SUBS = {x: 0,y:0,z:0}, {x: 0.25,y:0.25,z:0.25}\n",
    "mojekoord = []\n",
    "for SUB in SUBS:\n",
    "    for line in lines[P:K]:\n",
    "        koord = line.split(',')\n",
    "        mojalista = []\n",
    "        for i in range(3):\n",
    "            expr = float(sp.sympify(line)[i].evalf(2,subs=SUB))\n",
    "            mojalista.append(expr)\n",
    "        mojekoord.append(mojalista)\n",
    "cell = np.around(np.unique(mojekoord,axis = 0),4)\n",
    "print(cell)    "
   ]
  },
  {
   "cell_type": "code",
   "execution_count": null,
   "metadata": {},
   "outputs": [],
   "source": []
  },
  {
   "cell_type": "code",
   "execution_count": 42,
   "metadata": {},
   "outputs": [
    {
     "name": "stdout",
     "output_type": "stream",
     "text": [
      "[-0.5 -0.5]\n"
     ]
    }
   ],
   "source": [
    "print(cell[0][cell[0]<0])"
   ]
  },
  {
   "cell_type": "code",
   "execution_count": 22,
   "metadata": {},
   "outputs": [
    {
     "name": "stdout",
     "output_type": "stream",
     "text": [
      "[[0.   0.   0.  ]\n",
      " [0.   0.5  0.5 ]\n",
      " [0.25 0.25 0.25]\n",
      " [0.25 0.75 0.75]\n",
      " [0.5  0.   0.5 ]\n",
      " [0.5  0.5  0.  ]\n",
      " [0.75 0.25 0.75]\n",
      " [0.75 0.75 0.25]]\n"
     ]
    }
   ],
   "source": [
    "cell2 = cell.copy()\n",
    "cell2[cell2<0] += 1\n",
    "print(np.unique(cell2,axis=0))"
   ]
  },
  {
   "cell_type": "code",
   "execution_count": null,
   "metadata": {},
   "outputs": [],
   "source": []
  },
  {
   "cell_type": "code",
   "execution_count": 33,
   "metadata": {
    "scrolled": false
   },
   "outputs": [
    {
     "name": "stdout",
     "output_type": "stream",
     "text": [
      "33\n",
      "21\n",
      "[[0.   0.   0.  ]\n",
      " [0.   0.   0.5 ]\n",
      " [0.   0.5  0.  ]\n",
      " [0.   0.5  0.5 ]\n",
      " [0.   0.5  1.  ]\n",
      " [0.   1.   0.5 ]\n",
      " [0.25 0.25 0.25]\n",
      " [0.25 0.75 0.75]\n",
      " [0.5  0.   0.  ]\n",
      " [0.5  0.   0.5 ]\n",
      " [0.5  0.   1.  ]\n",
      " [0.5  0.5  0.  ]\n",
      " [0.5  0.5  0.5 ]\n",
      " [0.5  1.   0.  ]\n",
      " [0.5  1.   1.  ]\n",
      " [0.75 0.25 0.75]\n",
      " [0.75 0.75 0.25]\n",
      " [1.   0.   0.5 ]\n",
      " [1.   0.5  0.  ]\n",
      " [1.   0.5  1.  ]\n",
      " [1.   1.   0.5 ]]\n"
     ]
    }
   ],
   "source": [
    "print(len(cell))\n",
    "sortedcell = np.unique(cell,axis = 0)\n",
    "print(len(sortedcell),sortedcell,sep = '\\n')"
   ]
  },
  {
   "cell_type": "code",
   "execution_count": 7,
   "metadata": {},
   "outputs": [],
   "source": [
    "line = lines[45]\n",
    "xk,yk,zk = line.split(',')"
   ]
  },
  {
   "cell_type": "code",
   "execution_count": 8,
   "metadata": {},
   "outputs": [
    {
     "data": {
      "image/png": "[encoded data removed]",
      "text/latex": [
       "$$1$$"
      ],
      "text/plain": [
       "1"
      ]
     },
     "execution_count": 8,
     "metadata": {},
     "output_type": "execute_result"
    }
   ],
   "source": [
    "(y.subs(y,yk)).subs(yk,1)"
   ]
  },
  {
   "cell_type": "code",
   "execution_count": 9,
   "metadata": {},
   "outputs": [
    {
     "data": {
      "image/png": "[encoded data removed]",
      "text/latex": [
       "$$1/2+y$$"
      ],
      "text/plain": [
       "1/2+y"
      ]
     },
     "execution_count": 9,
     "metadata": {},
     "output_type": "execute_result"
    }
   ],
   "source": [
    "x.subs(x,yk)"
   ]
  },
  {
   "cell_type": "code",
   "execution_count": 10,
   "metadata": {},
   "outputs": [
    {
     "data": {
      "text/latex": [
       "$$\\left[\\begin{matrix}0 & 0 & 1\\\\-1 & 0 & 0\\\\0 & -1 & 0\\end{matrix}\\right]$$"
      ],
      "text/plain": [
       "⎡0   0   1⎤\n",
       "⎢         ⎥\n",
       "⎢-1  0   0⎥\n",
       "⎢         ⎥\n",
       "⎣0   -1  0⎦"
      ]
     },
     "execution_count": 10,
     "metadata": {},
     "output_type": "execute_result"
    }
   ],
   "source": [
    "import sympy as sp\n",
    "sp.init_printing(use_unicode=True)\n",
    "\n",
    "x,y,z = sp.pi/2,0,sp.pi/2 #x,45/180*sp.pi,sp.pi/3\n",
    "#x,y,z = sp.symbols(\"x y z\")\n",
    "\n",
    "a = sp.Matrix([[sp.cos(x),sp.sin(x),0],[-sp.sin(x),sp.cos(x),0],[0,0,1]])\n",
    "b = sp.Matrix([[sp.cos(y),sp.sin(y),0],[-sp.sin(y),sp.cos(y),0],[0,0,1]])\n",
    "c = sp.Matrix([[sp.cos(z),0,sp.sin(z)],[0,1,0],[-sp.sin(z),0,sp.cos(z)]])\n",
    "d = b*c*a\n",
    "d#sp.trigsimp(d)"
   ]
  }
 ],
 "metadata": {
  "kernelspec": {
   "display_name": "Python 3",
   "language": "python",
   "name": "python3"
  },
  "language_info": {
   "codemirror_mode": {
    "name": "ipython",
    "version": 3
   },
   "file_extension": ".py",
   "mimetype": "text/x-python",
   "name": "python",
   "nbconvert_exporter": "python",
   "pygments_lexer": "ipython3",
   "version": "3.7.3"
  }
 },
 "nbformat": 4,
 "nbformat_minor": 2
}
