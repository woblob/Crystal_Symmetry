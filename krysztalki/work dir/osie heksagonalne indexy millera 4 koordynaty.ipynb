{
 "cells": [
  {
   "cell_type": "code",
   "execution_count": 1,
   "metadata": {},
   "outputs": [],
   "source": [
    "import numpy as np\n",
    "\n",
    "def ortogonalCheck(matrix):\n",
    "    prod = np.matmul(matrix,matrix.T)\n",
    "    return np.allclose(prod, np.eye(matrix.shape[0])) "
   ]
  },
  {
   "cell_type": "code",
   "execution_count": 2,
   "metadata": {},
   "outputs": [],
   "source": [
    "def generateSymmetryBaseHEX():\n",
    "    return {\n",
    "        \"c\":{\n",
    "            \"0000\": np.array([[-1,0,0,0],[0,-1,0,0],[0,0,-1,0],[0,0,0,-1]])\n",
    "        },\n",
    "        \"m\":{\n",
    "            \"10-10\": np.array([[0,0,1,0],[0,1,0,0],[1,0,0,0],[0,0,0,1]]),\n",
    "            \"1-210\": np.array([[0,0,-1,0],[0,-1,0,0],[-1,0,0,0],[0,0,0,1]]),\n",
    "            \"01-10\": np.array([[1,0,0,0],[0,0,1,0],[0,1,0,0],[0,0,0,1]]),\n",
    "            \"-2110\": np.array([[-1,0,0,0],[0,0,-1,0],[0,-1,0,0],[0,0,0,1]]),\n",
    "            \"-1100\": np.array([[0,1,0,0],[1,0,0,0],[0,0,1,0],[0,0,0,1]]),   \n",
    "            \"11-20\": np.array([[0,-1,0,0],[-1,0,0,0],[0,0,-1,0],[0,0,0,1]]),\n",
    "            \"0001\":  np.array([[-1,0,0,0],[0,-1,0,0],[0,0,-1,0],[0,0,0,1]])  \n",
    "        },\n",
    "        \"2\":{\n",
    "            \"10-10\": np.array([[0,0,1,0],[0,1,0,0],[1,0,0,0],[0,0,0,1]]) *-1,\n",
    "            \"1-210\": np.array([[0,0,-1,0],[0,-1,0,0],[-1,0,0,0],[0,0,0,1]]) *-1,\n",
    "            \"01-10\": np.array([[1,0,0,0],[0,0,1,0],[0,1,0,0],[0,0,0,1]]) *-1,\n",
    "            \"-2110\": np.array([[-1,0,0,0],[0,0,-1,0],[0,-1,0,0],[0,0,0,1]]) *-1,\n",
    "            \"-1100\": np.array([[0,1,0,0],[1,0,0,0],[0,0,1,0],[0,0,0,1]]) *-1,   \n",
    "            \"11-20\": np.array([[0,-1,0,0],[-1,0,0,0],[0,0,-1,0],[0,0,0,1]]) *-1,\n",
    "            \"0001\":  np.array([[-1,0,0,0],[0,-1,0,0],[0,0,-1,0],[0,0,0,1]]) *-1        \n",
    "        },\n",
    "        \"3\":{\n",
    "            \"0001\": np.array([[0,1,0,0],[0,0,1,0],[1,0,0,0],[0,0,0,1]])\n",
    "        },\n",
    "        \"-3\":{\n",
    "            \"0001\": np.array([[0,1,0,0],[0,0,1,0],[1,0,0,0],[0,0,0,1]]) *-1\n",
    "        },\n",
    "        \"6\":{\n",
    "            \"0001\": np.array([[0,-1,0,0],[0,0,-1,0],[-1,0,0,0],[0,0,0,1]])\n",
    "        },\n",
    "        \"-6\":{\n",
    "            \"0001\": np.array([[0,-1,0,0],[0,0,-1,0],[-1,0,0,0],[0,0,0,1]]) *-1\n",
    "        }\n",
    "        \n",
    "    }"
   ]
  },
  {
   "cell_type": "code",
   "execution_count": 24,
   "metadata": {},
   "outputs": [
    {
     "name": "stdout",
     "output_type": "stream",
     "text": [
      "[[ 0 -1  0  0]\n",
      " [ 0  0 -1  0]\n",
      " [-1  0  0  0]\n",
      " [ 0  0  0  1]]\n",
      "\n",
      "[ 1 -2  1  0]\n",
      "\n",
      "[ 2 -1 -1  0]\n",
      "\n",
      "[ 1  1 -2  0]\n",
      "[-1  2 -1  0]\n",
      "[-2  1  1  0]\n",
      "[-1 -1  2  0]\n",
      "[ 1 -2  1  0]\n",
      "6\n"
     ]
    }
   ],
   "source": [
    "trans  = np.array([[-1,0,0,0],[0,-1,0,0],[0,0,-1,0],[0,0,0,1]])\n",
    "trans2 = np.array([[0,1,0,0],[0,0,1,0],[1,0,0,0],[0,0,0,1]])\n",
    "trans3 = np.matmul(trans,trans2)\n",
    "# print(trans3)\n",
    "if ortogonalCheck(trans3):    \n",
    "    print(trans3)\n",
    "    print()\n",
    "    punkt = np.array([1,-2,1,0])\n",
    "    print(punkt)\n",
    "    print()\n",
    "    wyn = np.matmul(trans3,punkt)\n",
    "    print(wyn)\n",
    "    print()\n",
    "    n =1\n",
    "    while n < 8 and not np.allclose(wyn,punkt):\n",
    "        wyn = np.matmul(trans3,wyn)\n",
    "        print(wyn)\n",
    "        n += 1\n",
    "    print(n)\n",
    "else:\n",
    "    print(\"zła macierz\")"
   ]
  },
  {
   "cell_type": "code",
   "execution_count": 23,
   "metadata": {},
   "outputs": [
    {
     "name": "stdout",
     "output_type": "stream",
     "text": [
      "[[ 2 -1  0]\n",
      " [-1  2  0]\n",
      " [-1 -1  0]\n",
      " [ 0  0  3]]\n",
      "\n",
      "[1. 2. 2.]\n",
      "[ 0.  3. -3.  6.]\n",
      "[1. 2. 2.]\n",
      "True\n"
     ]
    }
   ],
   "source": [
    "p = np.array([1/3,2/3,2/3])*3\n",
    "n = 3\n",
    "mat = np.array([[2,-1,0],[-1,2,0],[-1,-1,0],[0,0,3]])\n",
    "matinv = np.array([[1/3,0,-1/3,0],[0,1/3,-1/3,0],[0,0,0,1/3]])\n",
    "matinv2 = np.array([[2/3,1/3,0,0],[1/3,2/3,0,0],[0,0,0,1/3]])\n",
    "# matinvr = np.linalg.pinv(mat)\n",
    "# print(p)\n",
    "print(mat,end='\\n\\n')\n",
    "# print(matinv,end='\\n\\n')\n",
    "# print(np.around(np.matmul(matinvr,mat),6))\n",
    "\n",
    "# print(matinvr,end='\\n\\n')\n",
    "# print(np.allclose(np.matmul(matinvr,mat),np.eye(3)),end='\\n\\n')\n",
    "# print(np.allclose(matinvr,matinv),end='\\n\\n')\n",
    "# print(np.array([1,-2,1,0]))\n",
    "print(p)\n",
    "p4 = mat @ p\n",
    "print(p4)\n",
    "p3 = matinv2 @ p4\n",
    "print(p3)\n",
    "print(np.all(matinv2 @ p4 == matinv @ p4))"
   ]
  },
  {
   "cell_type": "code",
   "execution_count": 18,
   "metadata": {},
   "outputs": [
    {
     "name": "stdout",
     "output_type": "stream",
     "text": [
      "[ 2. -1. -1.  0.]\n",
      "[ 1.  1. -2.  0.]\n",
      "[ 3.  0. -3.  0.]\n",
      "[ 0.  3. -3.  0.]\n"
     ]
    }
   ],
   "source": [
    "points = np.array([[1,0,0],[1,1,0],[2,1,0],[1,2,0]])\n",
    "for p in points:\n",
    "    p = mat @ p\n",
    "    print(p)"
   ]
  }
 ],
 "metadata": {
  "kernelspec": {
   "display_name": "Python 3",
   "language": "python",
   "name": "python3"
  },
  "language_info": {
   "codemirror_mode": {
    "name": "ipython",
    "version": 3
   },
   "file_extension": ".py",
   "mimetype": "text/x-python",
   "name": "python",
   "nbconvert_exporter": "python",
   "pygments_lexer": "ipython3",
   "version": "3.7.3"
  }
 },
 "nbformat": 4,
 "nbformat_minor": 2
}
