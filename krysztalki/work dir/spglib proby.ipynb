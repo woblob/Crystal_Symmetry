{
 "cells": [
  {
   "cell_type": "code",
   "execution_count": null,
   "metadata": {},
   "outputs": [],
   "source": [
    "points = [[0.8273, -0.1739, 0.9568],\n",
    " [0.8337, 0.1155, 0.979],\n",
    " [0.8948, -0.0985, 0.647],\n",
    " [0.5425, -0.0308, 0.802],\n",
    " [0.4039, 0.1835, 0.7991],\n",
    " [1.0481, 0.1084, 0.6978],\n",
    " [0.7052, 0.3290, 0.8944],\n",
    " [0.536, 0.103, 0.829],\n",
    " [0.708, 0.189, 0.909],\n",
    " [0.973, -0.002, 0.601]]\n"
   ]
  },
  {
   "cell_type": "code",
   "execution_count": 4,
   "metadata": {},
   "outputs": [
    {
     "name": "stdout",
     "output_type": "stream",
     "text": [
      "Space group type: Cmce (64)\n",
      "Transformation matrix:\n",
      "   1  0  0\n",
      "   0  1  0\n",
      "   0  0  1\n",
      "Origin shift: 0.000000 0.000000 0.000000\n"
     ]
    }
   ],
   "source": [
    "import spglib\n",
    "\n",
    "# Mind that the a, b, c axes are given in row vectors here,\n",
    "# but the formulation above is given for the column vectors.\n",
    "lattice = [[7.17851431, 0, 0],  # a\n",
    "           [0, 3.99943947, 0],  # b\n",
    "           [0, 0, 8.57154746]]  # c\n",
    "# points = [[0.0, 0.84688439, 0.1203133],\n",
    "#           [0.0, 0.65311561, 0.6203133],\n",
    "#           [0.0, 0.34688439, 0.3796867],\n",
    "#           [0.0, 0.15311561, 0.8796867],\n",
    "#           [0.5, 0.34688439, 0.1203133],\n",
    "#           [0.5, 0.15311561, 0.6203133],\n",
    "#           [0.5, 0.84688439, 0.3796867],\n",
    "#           [0.5, 0.65311561, 0.8796867]]\n",
    "numbers = [35,] * len(points)\n",
    "cell = (lattice, points, numbers)\n",
    "dataset = spglib.get_symmetry_dataset(cell)\n",
    "print(\"Space group type: %s (%d)\"\n",
    "      % (dataset['international'], dataset['number']))\n",
    "print(\"Transformation matrix:\")\n",
    "for x in dataset['transformation_matrix']:\n",
    "    print(\"  %2d %2d %2d\" % tuple(x))\n",
    "print(\"Origin shift: %f %f %f\" % tuple(dataset['origin_shift']))"
   ]
  },
  {
   "cell_type": "code",
   "execution_count": 5,
   "metadata": {},
   "outputs": [
    {
     "data": {
      "text/plain": [
       "{'number': 64,\n",
       " 'hall_number': 304,\n",
       " 'international': 'Cmce',\n",
       " 'hall': '-C 2bc 2',\n",
       " 'choice': '',\n",
       " 'transformation_matrix': array([[1., 0., 0.],\n",
       "        [0., 1., 0.],\n",
       "        [0., 0., 1.]]),\n",
       " 'origin_shift': array([0., 0., 0.]),\n",
       " 'rotations': array([[[ 1,  0,  0],\n",
       "         [ 0,  1,  0],\n",
       "         [ 0,  0,  1]],\n",
       " \n",
       "        [[-1,  0,  0],\n",
       "         [ 0, -1,  0],\n",
       "         [ 0,  0, -1]],\n",
       " \n",
       "        [[-1,  0,  0],\n",
       "         [ 0, -1,  0],\n",
       "         [ 0,  0,  1]],\n",
       " \n",
       "        [[ 1,  0,  0],\n",
       "         [ 0,  1,  0],\n",
       "         [ 0,  0, -1]],\n",
       " \n",
       "        [[ 1,  0,  0],\n",
       "         [ 0, -1,  0],\n",
       "         [ 0,  0, -1]],\n",
       " \n",
       "        [[-1,  0,  0],\n",
       "         [ 0,  1,  0],\n",
       "         [ 0,  0,  1]],\n",
       " \n",
       "        [[-1,  0,  0],\n",
       "         [ 0,  1,  0],\n",
       "         [ 0,  0, -1]],\n",
       " \n",
       "        [[ 1,  0,  0],\n",
       "         [ 0, -1,  0],\n",
       "         [ 0,  0,  1]],\n",
       " \n",
       "        [[ 1,  0,  0],\n",
       "         [ 0,  1,  0],\n",
       "         [ 0,  0,  1]],\n",
       " \n",
       "        [[-1,  0,  0],\n",
       "         [ 0, -1,  0],\n",
       "         [ 0,  0, -1]],\n",
       " \n",
       "        [[-1,  0,  0],\n",
       "         [ 0, -1,  0],\n",
       "         [ 0,  0,  1]],\n",
       " \n",
       "        [[ 1,  0,  0],\n",
       "         [ 0,  1,  0],\n",
       "         [ 0,  0, -1]],\n",
       " \n",
       "        [[ 1,  0,  0],\n",
       "         [ 0, -1,  0],\n",
       "         [ 0,  0, -1]],\n",
       " \n",
       "        [[-1,  0,  0],\n",
       "         [ 0,  1,  0],\n",
       "         [ 0,  0,  1]],\n",
       " \n",
       "        [[-1,  0,  0],\n",
       "         [ 0,  1,  0],\n",
       "         [ 0,  0, -1]],\n",
       " \n",
       "        [[ 1,  0,  0],\n",
       "         [ 0, -1,  0],\n",
       "         [ 0,  0,  1]]], dtype=int32),\n",
       " 'translations': array([[0. , 0. , 0. ],\n",
       "        [0. , 0. , 0. ],\n",
       "        [0. , 0.5, 0.5],\n",
       "        [0. , 0.5, 0.5],\n",
       "        [0. , 0. , 0. ],\n",
       "        [0. , 0. , 0. ],\n",
       "        [0. , 0.5, 0.5],\n",
       "        [0. , 0.5, 0.5],\n",
       "        [0.5, 0.5, 0. ],\n",
       "        [0.5, 0.5, 0. ],\n",
       "        [0.5, 0. , 0.5],\n",
       "        [0.5, 0. , 0.5],\n",
       "        [0.5, 0.5, 0. ],\n",
       "        [0.5, 0.5, 0. ],\n",
       "        [0.5, 0. , 0.5],\n",
       "        [0.5, 0. , 0.5]]),\n",
       " 'wyckoffs': ['f', 'f', 'f', 'f', 'f', 'f', 'f', 'f'],\n",
       " 'site_symmetry_symbols': ['m..',\n",
       "  'm..',\n",
       "  'm..',\n",
       "  'm..',\n",
       "  'm..',\n",
       "  'm..',\n",
       "  'm..',\n",
       "  'm..'],\n",
       " 'equivalent_atoms': array([0, 0, 0, 0, 0, 0, 0, 0], dtype=int32),\n",
       " 'mapping_to_primitive': array([0, 1, 2, 3, 0, 1, 2, 3], dtype=int32),\n",
       " 'std_lattice': array([[7.17851431, 0.        , 0.        ],\n",
       "        [0.        , 3.99943947, 0.        ],\n",
       "        [0.        , 0.        , 8.57154746]]),\n",
       " 'std_types': array([35, 35, 35, 35, 35, 35, 35, 35], dtype=int32),\n",
       " 'std_positions': array([[0.        , 0.84688439, 0.1203133 ],\n",
       "        [0.        , 0.65311561, 0.6203133 ],\n",
       "        [0.        , 0.34688439, 0.3796867 ],\n",
       "        [0.        , 0.15311561, 0.8796867 ],\n",
       "        [0.5       , 0.34688439, 0.1203133 ],\n",
       "        [0.5       , 0.15311561, 0.6203133 ],\n",
       "        [0.5       , 0.84688439, 0.3796867 ],\n",
       "        [0.5       , 0.65311561, 0.8796867 ]]),\n",
       " 'std_rotation_matrix': array([[1., 0., 0.],\n",
       "        [0., 1., 0.],\n",
       "        [0., 0., 1.]]),\n",
       " 'std_mapping_to_primitive': array([0, 1, 2, 3, 0, 1, 2, 3], dtype=int32),\n",
       " 'pointgroup': 'mmm'}"
      ]
     },
     "execution_count": 5,
     "metadata": {},
     "output_type": "execute_result"
    }
   ],
   "source": [
    "spglib.get_symmetry_dataset(cell)"
   ]
  },
  {
   "cell_type": "code",
   "execution_count": 6,
   "metadata": {},
   "outputs": [
    {
     "data": {
      "text/plain": [
       "<function spglib.spglib.delaunay_reduce(lattice, eps=1e-05)>"
      ]
     },
     "execution_count": 6,
     "metadata": {},
     "output_type": "execute_result"
    }
   ],
   "source": [
    "spglib.delaunay_reduce"
   ]
  },
  {
   "cell_type": "code",
   "execution_count": 7,
   "metadata": {},
   "outputs": [
    {
     "data": {
      "text/plain": [
       "(array([[ 3.58925715, -1.99971973,  0.        ],\n",
       "        [ 3.58925715,  1.99971973,  0.        ],\n",
       "        [ 0.        ,  0.        ,  8.57154746]]),\n",
       " array([[0.15311561, 0.84688439, 0.1203133 ],\n",
       "        [0.34688439, 0.65311561, 0.6203133 ],\n",
       "        [0.65311561, 0.34688439, 0.3796867 ],\n",
       "        [0.84688439, 0.15311561, 0.8796867 ]]),\n",
       " array([35, 35, 35, 35], dtype=int32))"
      ]
     },
     "execution_count": 7,
     "metadata": {},
     "output_type": "execute_result"
    }
   ],
   "source": [
    "spglib.find_primitive(cell)"
   ]
  },
  {
   "cell_type": "code",
   "execution_count": 8,
   "metadata": {},
   "outputs": [
    {
     "data": {
      "text/plain": [
       "<function spglib.spglib.get_BZ_grid_points_by_rotations(address_orig, reciprocal_rotations, mesh, bz_map, is_shift=None, is_dense=False)>"
      ]
     },
     "execution_count": 8,
     "metadata": {},
     "output_type": "execute_result"
    }
   ],
   "source": [
    "spglib.get_BZ_grid_points_by_rotations"
   ]
  },
  {
   "cell_type": "code",
   "execution_count": 9,
   "metadata": {},
   "outputs": [
    {
     "data": {
      "text/plain": [
       "<function spglib.spglib.get_error_message()>"
      ]
     },
     "execution_count": 9,
     "metadata": {},
     "output_type": "execute_result"
    }
   ],
   "source": [
    "spglib.get_error_message"
   ]
  },
  {
   "cell_type": "code",
   "execution_count": 10,
   "metadata": {},
   "outputs": [
    {
     "data": {
      "text/plain": [
       "<function spglib.spglib.get_grid_point_from_address(grid_address, mesh)>"
      ]
     },
     "execution_count": 10,
     "metadata": {},
     "output_type": "execute_result"
    }
   ],
   "source": [
    "spglib.get_grid_point_from_address"
   ]
  },
  {
   "cell_type": "code",
   "execution_count": 11,
   "metadata": {},
   "outputs": [
    {
     "data": {
      "text/plain": [
       "<function spglib.spglib.get_grid_points_by_rotations(address_orig, reciprocal_rotations, mesh, is_shift=None, is_dense=False)>"
      ]
     },
     "execution_count": 11,
     "metadata": {},
     "output_type": "execute_result"
    }
   ],
   "source": [
    "spglib.get_grid_points_by_rotations"
   ]
  },
  {
   "cell_type": "code",
   "execution_count": 12,
   "metadata": {},
   "outputs": [
    {
     "data": {
      "text/plain": [
       "<function spglib.spglib.get_hall_number_from_symmetry(rotations, translations, symprec=1e-05)>"
      ]
     },
     "execution_count": 12,
     "metadata": {},
     "output_type": "execute_result"
    }
   ],
   "source": [
    "spglib.get_hall_number_from_symmetry"
   ]
  },
  {
   "cell_type": "code",
   "execution_count": 13,
   "metadata": {},
   "outputs": [
    {
     "data": {
      "text/plain": [
       "<function spglib.spglib.get_ir_reciprocal_mesh(mesh, cell, is_shift=None, is_time_reversal=True, symprec=1e-05, is_dense=False)>"
      ]
     },
     "execution_count": 13,
     "metadata": {},
     "output_type": "execute_result"
    }
   ],
   "source": [
    "spglib.get_ir_reciprocal_mesh"
   ]
  },
  {
   "cell_type": "code",
   "execution_count": 14,
   "metadata": {},
   "outputs": [
    {
     "data": {
      "text/plain": [
       "['mmm', 8, [[1, 0, 0], [0, 1, 0], [0, 0, 1]]]"
      ]
     },
     "execution_count": 14,
     "metadata": {},
     "output_type": "execute_result"
    }
   ],
   "source": [
    "spglib.get_pointgroup(spglib.get_symmetry(cell)['rotations'])"
   ]
  },
  {
   "cell_type": "code",
   "execution_count": 15,
   "metadata": {},
   "outputs": [
    {
     "name": "stdout",
     "output_type": "stream",
     "text": [
      "CPU times: user 759 µs, sys: 369 µs, total: 1.13 ms\n",
      "Wall time: 1.09 ms\n"
     ]
    },
    {
     "data": {
      "text/plain": [
       "'Cmce (64)'"
      ]
     },
     "execution_count": 15,
     "metadata": {},
     "output_type": "execute_result"
    }
   ],
   "source": [
    "%time spglib.get_spacegroup(cell, symprec = 1e-5)"
   ]
  },
  {
   "cell_type": "code",
   "execution_count": 21,
   "metadata": {},
   "outputs": [
    {
     "data": {
      "text/plain": [
       "{'number': 64,\n",
       " 'international_short': 'Cmce',\n",
       " 'international_full': 'C 2/m 2/c 2_1/e',\n",
       " 'international': 'C m c e',\n",
       " 'schoenflies': 'D2h^18',\n",
       " 'hall_symbol': '-C 2bc 2',\n",
       " 'choice': '',\n",
       " 'pointgroup_schoenflies': 'mmm',\n",
       " 'pointgroup_international': 'D2h',\n",
       " 'arithmetic_crystal_class_number': 19,\n",
       " 'arithmetic_crystal_class_symbol': 'mmmC'}"
      ]
     },
     "execution_count": 21,
     "metadata": {},
     "output_type": "execute_result"
    }
   ],
   "source": [
    "spglib.get_spacegroup_type(dataset['hall_number'])"
   ]
  },
  {
   "cell_type": "code",
   "execution_count": 22,
   "metadata": {},
   "outputs": [
    {
     "data": {
      "text/plain": [
       "<function spglib.spglib.get_stabilized_reciprocal_mesh(mesh, rotations, is_shift=None, is_time_reversal=True, qpoints=None, is_dense=False)>"
      ]
     },
     "execution_count": 22,
     "metadata": {},
     "output_type": "execute_result"
    }
   ],
   "source": [
    "spglib.get_stabilized_reciprocal_mesh"
   ]
  },
  {
   "cell_type": "code",
   "execution_count": 23,
   "metadata": {
    "scrolled": true
   },
   "outputs": [
    {
     "data": {
      "text/plain": [
       "array([[[ 1,  0,  0],\n",
       "        [ 0,  1,  0],\n",
       "        [ 0,  0,  1]],\n",
       "\n",
       "       [[-1,  0,  0],\n",
       "        [ 0, -1,  0],\n",
       "        [ 0,  0, -1]],\n",
       "\n",
       "       [[-1,  0,  0],\n",
       "        [ 0, -1,  0],\n",
       "        [ 0,  0,  1]],\n",
       "\n",
       "       [[ 1,  0,  0],\n",
       "        [ 0,  1,  0],\n",
       "        [ 0,  0, -1]],\n",
       "\n",
       "       [[ 1,  0,  0],\n",
       "        [ 0, -1,  0],\n",
       "        [ 0,  0, -1]],\n",
       "\n",
       "       [[-1,  0,  0],\n",
       "        [ 0,  1,  0],\n",
       "        [ 0,  0,  1]],\n",
       "\n",
       "       [[-1,  0,  0],\n",
       "        [ 0,  1,  0],\n",
       "        [ 0,  0, -1]],\n",
       "\n",
       "       [[ 1,  0,  0],\n",
       "        [ 0, -1,  0],\n",
       "        [ 0,  0,  1]],\n",
       "\n",
       "       [[ 1,  0,  0],\n",
       "        [ 0,  1,  0],\n",
       "        [ 0,  0,  1]],\n",
       "\n",
       "       [[-1,  0,  0],\n",
       "        [ 0, -1,  0],\n",
       "        [ 0,  0, -1]],\n",
       "\n",
       "       [[-1,  0,  0],\n",
       "        [ 0, -1,  0],\n",
       "        [ 0,  0,  1]],\n",
       "\n",
       "       [[ 1,  0,  0],\n",
       "        [ 0,  1,  0],\n",
       "        [ 0,  0, -1]],\n",
       "\n",
       "       [[ 1,  0,  0],\n",
       "        [ 0, -1,  0],\n",
       "        [ 0,  0, -1]],\n",
       "\n",
       "       [[-1,  0,  0],\n",
       "        [ 0,  1,  0],\n",
       "        [ 0,  0,  1]],\n",
       "\n",
       "       [[-1,  0,  0],\n",
       "        [ 0,  1,  0],\n",
       "        [ 0,  0, -1]],\n",
       "\n",
       "       [[ 1,  0,  0],\n",
       "        [ 0, -1,  0],\n",
       "        [ 0,  0,  1]]], dtype=int32)"
      ]
     },
     "execution_count": 23,
     "metadata": {},
     "output_type": "execute_result"
    }
   ],
   "source": [
    "spglib.get_symmetry(cell)['rotations']"
   ]
  },
  {
   "cell_type": "code",
   "execution_count": 24,
   "metadata": {
    "scrolled": true
   },
   "outputs": [
    {
     "name": "stdout",
     "output_type": "stream",
     "text": [
      "CPU times: user 667 µs, sys: 304 µs, total: 971 µs\n",
      "Wall time: 943 µs\n"
     ]
    },
    {
     "data": {
      "text/plain": [
       "{'number': 64,\n",
       " 'hall_number': 304,\n",
       " 'international': 'Cmce',\n",
       " 'hall': '-C 2bc 2',\n",
       " 'choice': '',\n",
       " 'transformation_matrix': array([[1., 0., 0.],\n",
       "        [0., 1., 0.],\n",
       "        [0., 0., 1.]]),\n",
       " 'origin_shift': array([0., 0., 0.]),\n",
       " 'rotations': array([[[ 1,  0,  0],\n",
       "         [ 0,  1,  0],\n",
       "         [ 0,  0,  1]],\n",
       " \n",
       "        [[-1,  0,  0],\n",
       "         [ 0, -1,  0],\n",
       "         [ 0,  0, -1]],\n",
       " \n",
       "        [[-1,  0,  0],\n",
       "         [ 0, -1,  0],\n",
       "         [ 0,  0,  1]],\n",
       " \n",
       "        [[ 1,  0,  0],\n",
       "         [ 0,  1,  0],\n",
       "         [ 0,  0, -1]],\n",
       " \n",
       "        [[ 1,  0,  0],\n",
       "         [ 0, -1,  0],\n",
       "         [ 0,  0, -1]],\n",
       " \n",
       "        [[-1,  0,  0],\n",
       "         [ 0,  1,  0],\n",
       "         [ 0,  0,  1]],\n",
       " \n",
       "        [[-1,  0,  0],\n",
       "         [ 0,  1,  0],\n",
       "         [ 0,  0, -1]],\n",
       " \n",
       "        [[ 1,  0,  0],\n",
       "         [ 0, -1,  0],\n",
       "         [ 0,  0,  1]],\n",
       " \n",
       "        [[ 1,  0,  0],\n",
       "         [ 0,  1,  0],\n",
       "         [ 0,  0,  1]],\n",
       " \n",
       "        [[-1,  0,  0],\n",
       "         [ 0, -1,  0],\n",
       "         [ 0,  0, -1]],\n",
       " \n",
       "        [[-1,  0,  0],\n",
       "         [ 0, -1,  0],\n",
       "         [ 0,  0,  1]],\n",
       " \n",
       "        [[ 1,  0,  0],\n",
       "         [ 0,  1,  0],\n",
       "         [ 0,  0, -1]],\n",
       " \n",
       "        [[ 1,  0,  0],\n",
       "         [ 0, -1,  0],\n",
       "         [ 0,  0, -1]],\n",
       " \n",
       "        [[-1,  0,  0],\n",
       "         [ 0,  1,  0],\n",
       "         [ 0,  0,  1]],\n",
       " \n",
       "        [[-1,  0,  0],\n",
       "         [ 0,  1,  0],\n",
       "         [ 0,  0, -1]],\n",
       " \n",
       "        [[ 1,  0,  0],\n",
       "         [ 0, -1,  0],\n",
       "         [ 0,  0,  1]]], dtype=int32),\n",
       " 'translations': array([[0. , 0. , 0. ],\n",
       "        [0. , 0. , 0. ],\n",
       "        [0. , 0.5, 0.5],\n",
       "        [0. , 0.5, 0.5],\n",
       "        [0. , 0. , 0. ],\n",
       "        [0. , 0. , 0. ],\n",
       "        [0. , 0.5, 0.5],\n",
       "        [0. , 0.5, 0.5],\n",
       "        [0.5, 0.5, 0. ],\n",
       "        [0.5, 0.5, 0. ],\n",
       "        [0.5, 0. , 0.5],\n",
       "        [0.5, 0. , 0.5],\n",
       "        [0.5, 0.5, 0. ],\n",
       "        [0.5, 0.5, 0. ],\n",
       "        [0.5, 0. , 0.5],\n",
       "        [0.5, 0. , 0.5]]),\n",
       " 'wyckoffs': ['f', 'f', 'f', 'f', 'f', 'f', 'f', 'f'],\n",
       " 'site_symmetry_symbols': ['m..',\n",
       "  'm..',\n",
       "  'm..',\n",
       "  'm..',\n",
       "  'm..',\n",
       "  'm..',\n",
       "  'm..',\n",
       "  'm..'],\n",
       " 'equivalent_atoms': array([0, 0, 0, 0, 0, 0, 0, 0], dtype=int32),\n",
       " 'mapping_to_primitive': array([0, 1, 2, 3, 0, 1, 2, 3], dtype=int32),\n",
       " 'std_lattice': array([[7.17851431, 0.        , 0.        ],\n",
       "        [0.        , 3.99943947, 0.        ],\n",
       "        [0.        , 0.        , 8.57154746]]),\n",
       " 'std_types': array([35, 35, 35, 35, 35, 35, 35, 35], dtype=int32),\n",
       " 'std_positions': array([[0.        , 0.84688439, 0.1203133 ],\n",
       "        [0.        , 0.65311561, 0.6203133 ],\n",
       "        [0.        , 0.34688439, 0.3796867 ],\n",
       "        [0.        , 0.15311561, 0.8796867 ],\n",
       "        [0.5       , 0.34688439, 0.1203133 ],\n",
       "        [0.5       , 0.15311561, 0.6203133 ],\n",
       "        [0.5       , 0.84688439, 0.3796867 ],\n",
       "        [0.5       , 0.65311561, 0.8796867 ]]),\n",
       " 'std_rotation_matrix': array([[1., 0., 0.],\n",
       "        [0., 1., 0.],\n",
       "        [0., 0., 1.]]),\n",
       " 'std_mapping_to_primitive': array([0, 1, 2, 3, 0, 1, 2, 3], dtype=int32),\n",
       " 'pointgroup': 'mmm'}"
      ]
     },
     "execution_count": 24,
     "metadata": {},
     "output_type": "execute_result"
    }
   ],
   "source": [
    "%time gsd = spglib.get_symmetry_dataset(cell)\n",
    "gsd"
   ]
  },
  {
   "cell_type": "code",
   "execution_count": 25,
   "metadata": {},
   "outputs": [
    {
     "data": {
      "text/plain": [
       "<function spglib.spglib.get_symmetry_from_database(hall_number)>"
      ]
     },
     "execution_count": 25,
     "metadata": {},
     "output_type": "execute_result"
    }
   ],
   "source": [
    "spglib.get_symmetry_from_database"
   ]
  },
  {
   "cell_type": "code",
   "execution_count": 26,
   "metadata": {},
   "outputs": [
    {
     "data": {
      "text/plain": [
       "<function spglib.spglib.get_version()>"
      ]
     },
     "execution_count": 26,
     "metadata": {},
     "output_type": "execute_result"
    }
   ],
   "source": [
    "spglib.get_version"
   ]
  },
  {
   "cell_type": "code",
   "execution_count": 27,
   "metadata": {},
   "outputs": [
    {
     "data": {
      "text/plain": [
       "<function spglib.spglib.niggli_reduce(lattice, eps=1e-05)>"
      ]
     },
     "execution_count": 27,
     "metadata": {},
     "output_type": "execute_result"
    }
   ],
   "source": [
    "spglib.niggli_reduce"
   ]
  },
  {
   "cell_type": "code",
   "execution_count": 28,
   "metadata": {},
   "outputs": [
    {
     "data": {
      "text/plain": [
       "<function spglib.spglib.refine_cell(cell, symprec=1e-05, angle_tolerance=-1.0)>"
      ]
     },
     "execution_count": 28,
     "metadata": {},
     "output_type": "execute_result"
    }
   ],
   "source": [
    "spglib.refine_cell"
   ]
  },
  {
   "cell_type": "code",
   "execution_count": 29,
   "metadata": {},
   "outputs": [
    {
     "data": {
      "text/plain": [
       "<function spglib.spglib.relocate_BZ_grid_address(grid_address, mesh, reciprocal_lattice, is_shift=None, is_dense=False)>"
      ]
     },
     "execution_count": 29,
     "metadata": {},
     "output_type": "execute_result"
    }
   ],
   "source": [
    "spglib.relocate_BZ_grid_address"
   ]
  },
  {
   "cell_type": "code",
   "execution_count": 30,
   "metadata": {},
   "outputs": [
    {
     "data": {
      "text/plain": [
       "<function spglib.spglib.standardize_cell(cell, to_primitive=False, no_idealize=False, symprec=1e-05, angle_tolerance=-1.0)>"
      ]
     },
     "execution_count": 30,
     "metadata": {},
     "output_type": "execute_result"
    }
   ],
   "source": [
    "spglib.standardize_cell"
   ]
  },
  {
   "cell_type": "code",
   "execution_count": null,
   "metadata": {},
   "outputs": [],
   "source": []
  }
 ],
 "metadata": {
  "kernelspec": {
   "display_name": "Python 3",
   "language": "python",
   "name": "python3"
  },
  "language_info": {
   "codemirror_mode": {
    "name": "ipython",
    "version": 3
   },
   "file_extension": ".py",
   "mimetype": "text/x-python",
   "name": "python",
   "nbconvert_exporter": "python",
   "pygments_lexer": "ipython3",
   "version": "3.8.3"
  }
 },
 "nbformat": 4,
 "nbformat_minor": 4
}
