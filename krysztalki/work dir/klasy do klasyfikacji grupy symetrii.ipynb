{
 "cells": [
  {
   "cell_type": "code",
   "execution_count": null,
   "metadata": {},
   "outputs": [],
   "source": [
    "# def shift_point_by_base(cell, base):\n",
    "#     if base>=195:\n",
    "#         func = cubic\n",
    "#     elif base>=143:\n",
    "#         func = millertoweber\n",
    "#     elif base>=75:\n",
    "#         func = tetra\n",
    "#     elif base>=16:\n",
    "#         func = orto\n",
    "#     elif base>=3:\n",
    "#         func = jednoskos\n",
    "#     else:\n",
    "#         func = trojskos\n",
    "#     return func(cell)\n",
    "    \n",
    "\n",
    "# import numpy as np    \n",
    "\n",
    "# def cubic(cell):\n",
    "#     return cell\n",
    "\n",
    "# def millertoweber(cell):\n",
    "#     return transform_m_w(cell)\n",
    "\n",
    "# def tetra(cell):\n",
    "#     cell[:,2] *=2\n",
    "#     return cell\n",
    "\n",
    "# def orto(cell):\n",
    "#     cell[:,2] *=3    \n",
    "#     cell[:,1] *=2\n",
    "# #     return cell\n",
    "\n",
    "# def jednoskos(cell):\n",
    "#     cell[~cell[:,2]==0] # a moze poprostu wartosci rzeczywiste ?\n",
    "    \n",
    "#     cell[:,2] *=3    \n",
    "#     cell[:,1] *=2\n",
    "#     return cell\n",
    "\n",
    "    \n",
    "\n",
    "arr = np.array([[1,2,3],[4,5,6],[7,8,9]])\n",
    "print(arr)\n",
    "orto(arr)\n",
    "print(arr)"
   ]
  },
  {
   "cell_type": "code",
   "execution_count": 2,
   "metadata": {},
   "outputs": [],
   "source": [
    "import numpy as np"
   ]
  },
  {
   "cell_type": "code",
   "execution_count": 7,
   "metadata": {},
   "outputs": [
    {
     "data": {
      "text/plain": [
       "array([0. , 0.1, 0.2, 0.3, 0.4, 0.5, 0.6, 0.7, 0.8, 0.9])"
      ]
     },
     "execution_count": 7,
     "metadata": {},
     "output_type": "execute_result"
    }
   ],
   "source": [
    "np.linspace(0,1,10,False)"
   ]
  },
  {
   "cell_type": "code",
   "execution_count": null,
   "metadata": {},
   "outputs": [],
   "source": []
  },
  {
   "cell_type": "code",
   "execution_count": null,
   "metadata": {},
   "outputs": [],
   "source": []
  },
  {
   "cell_type": "code",
   "execution_count": null,
   "metadata": {},
   "outputs": [],
   "source": []
  },
  {
   "cell_type": "code",
   "execution_count": null,
   "metadata": {},
   "outputs": [],
   "source": []
  },
  {
   "cell_type": "code",
   "execution_count": null,
   "metadata": {},
   "outputs": [],
   "source": []
  },
  {
   "cell_type": "code",
   "execution_count": null,
   "metadata": {},
   "outputs": [],
   "source": []
  },
  {
   "cell_type": "code",
   "execution_count": null,
   "metadata": {},
   "outputs": [],
   "source": []
  },
  {
   "cell_type": "code",
   "execution_count": null,
   "metadata": {},
   "outputs": [],
   "source": []
  },
  {
   "cell_type": "code",
   "execution_count": 28,
   "metadata": {},
   "outputs": [],
   "source": [
    "def hashing_syms(listaa):\n",
    "  thisdict = {}\n",
    "  for y,z in listaa:\n",
    "    thisdict.setdefault(y,{})\n",
    "    thisdict[y].setdefault(z, True)\n",
    "  return thisdict  \n",
    "\n",
    "def search_for_sym(zestaw, trans, direc):\n",
    "  return zestaw.get(trans,{}).get(direc,False)\n",
    "\n",
    "# searchforpoint(mydict,*(\"2\",\"010\"))"
   ]
  },
  {
   "cell_type": "code",
   "execution_count": 20,
   "metadata": {},
   "outputs": [],
   "source": [
    "def syms_for_tests_miller():\n",
    "  return {\n",
    "    \"-4\" : ((\"-4\",\"010\"), (\"-4\",\"001\"), (\"-4\",\"100\")),\n",
    "    \"4\"  : ((\"4\",\"010\"),  (\"4\",\"001\"),  (\"4\",\"100\")),\n",
    "    \"2_xyz\" : ((\"2\",\"100\"), (\"2\",\"100\"), (\"2\",\"100\")),\n",
    "    \"2_101\" : ((\"2\",\"110\"), (\"2\",\"101\"), (\"2\",\"011\"), (\"2\",\"-110\"), (\"2\",\"-101\"),(\"2\",\"0-11\")),\n",
    "    \"m_xyz\" : ((\"m\",\"100\"), (\"m\",\"100\"), (\"m\",\"100\")),\n",
    "    \"m_101\" : ((\"m\",\"110\"), (\"m\",\"101\"), (\"m\",\"011\"), (\"m\",\"-110\"), (\"m\",\"-101\"),(\"m\",\"0-11\")),\n",
    "    \"3\" : ((\"3\",\"111\"), (\"3\",\"-111\"), (\"3\",\"1-11\"), (\"3\",\"11-1\")),\n",
    "    \"-3\" : ((\"-3\",\"111\"), (\"-3\",\"-111\"), (\"-3\",\"1-11\"), (\"-3\",\"11-1\")),\n",
    "    \"C\" :  ((\"c\",\"000\"),)\n",
    "  }"
   ]
  },
  {
   "cell_type": "code",
   "execution_count": 4,
   "metadata": {},
   "outputs": [],
   "source": [
    "def symInOutput(lista, syms):  # zwraca false gdy symetria jest w zbiorze\n",
    "  return any(search_for_sym(lista,*sym) for sym in syms) #not "
   ]
  },
  {
   "cell_type": "code",
   "execution_count": 25,
   "metadata": {},
   "outputs": [],
   "source": [
    "def define_symmetry(zestaw, syms):\n",
    "  has4s = \"4 \" * symInOutput(zestaw, syms[\"4\"] + syms[\"-4\"])\n",
    "  has3s = \"3 \" * symInOutput(zestaw, syms[\"3\"] + syms[\"-3\"])\n",
    "  has2s = \"2 \" * symInOutput(zestaw, syms[\"2_xyz\"] + syms[\"2_101\"])\n",
    "  hasMs = \"m \" * symInOutput(zestaw, syms[\"m_101\"] + syms[\"m_xyz\"])\n",
    "  hasCs = \"C\" * symInOutput(zestaw, syms[\"C\"] )\n",
    "#   print(f\"4:{has4s}, 3:{has3s}, 2:{has2s}, C:{hasCs}\")\n",
    "  print(f\"{has4s}{has3s}{has2s}{hasMs}{hasCs}\")"
   ]
  },
  {
   "cell_type": "code",
   "execution_count": 26,
   "metadata": {},
   "outputs": [
    {
     "name": "stdout",
     "output_type": "stream",
     "text": [
      "4 2 m \n"
     ]
    }
   ],
   "source": [
    "SYM = [('-4', '100'), ('2', '001'), ('2', '010'), ('2', '100'), ('m', '0-11'), ('m', '011')] \n",
    "hSYM = hashing_syms(SYM)\n",
    "\n",
    "idealsyms = syms_for_tests_miller()\n",
    "  \n",
    "define_symmetry(hSYM, idealsyms)"
   ]
  },
  {
   "cell_type": "code",
   "execution_count": 11,
   "metadata": {},
   "outputs": [],
   "source": [
    "def lookForSymmetry(start_Sym, lista):\n",
    "  if lista == []:\n",
    "    return \"1\"\n",
    "  elif len(lista) == 1:\n",
    "    return lista[0][0]\n",
    "  elif len(lista) == 2:\n",
    "    return lista[0][0] + \" v \" + lista[1][0]\n",
    "  else:\n",
    "    return get_group_name(start_Sym, lista) #, syms_for_tests_miller())"
   ]
  },
  {
   "cell_type": "code",
   "execution_count": 21,
   "metadata": {},
   "outputs": [
    {
     "name": "stdout",
     "output_type": "stream",
     "text": [
      "6.46 µs ± 58.8 ns per loop (mean ± std. dev. of 7 runs, 100000 loops each)\n"
     ]
    }
   ],
   "source": [
    "def lookForSymmetryIn_m3m(lista,syms):\n",
    "  if   symInOutput(lista, syms[\"4\"] + syms[\"-4\"]):\n",
    "    return lookForSymmetryIn_minus_3m_miller(lista,syms) # -3m\n",
    "  elif symInOutput(lista, syms[\"2_xyz\"]):\n",
    "    return look_for_symmetry_in_m_minus_3_miller(lista,syms) # m-3\n",
    "  elif symInOutput(lista, syms[\"-3\"]):\n",
    "    return # 4/mmm\n",
    "  elif symInOutput(lista, syms[\"2_101\"]):\n",
    "    return # -43m\n",
    "  elif symInOutput(lista, syms[\"C\"]):\n",
    "    return #\"432\"\n",
    "  else:\n",
    "    return \"m-3m\"\n",
    "\n",
    "def lookForSymmetryIn_4_div_mmm(lista,syms):\n",
    "  if   symInOutput(lista, syms[\"4\"] + syms[\"-4\"]):\n",
    "    return lookForSymmetryIn_mmm_miller(lista,syms) # mmm\n",
    "  \n",
    "  s2_xyz = symInOutput(lista, syms[\"2_xyz\"])\n",
    "  s2_101 = symInOutput(lista, syms[\"2_xyz\"])\n",
    "  elif s2_xyz and s2_101:\n",
    "    return look_for_symmetry_in_4mm_miller(lista,syms) # 4mm\n",
    "  \n",
    "  elif (s2_xyz and not s2_101) or (not s2_xyz and s2_101):\n",
    "    return look_for_symmetry_in_minus_42m_miller# -42m\n",
    "  \n",
    "  elif symInOutput(lista, syms[\"m_xyz\"] + syms[\"m_101\"]):\n",
    "    return # -43m\n",
    "  \n",
    "  elif symInOutput(lista, syms[\"C\"]):\n",
    "    return #\"432\"\n",
    "  \n",
    "  else:\n",
    "    return \"m-3m\"\n",
    "\n",
    "\n",
    "\n",
    "hsyms = syms4tests()    \n",
    "%timeit lookForSymmetryIn_m3m(hSYM,hsyms)"
   ]
  },
  {
   "cell_type": "code",
   "execution_count": null,
   "metadata": {},
   "outputs": [],
   "source": [
    "def lookForSymmetryIn_minus_3m_miller(lista,syms):\n",
    "  if symInOutput(lista, syms[\"3\"] + syms[\"-3\"]):\n",
    "    return \"2/m\"\n",
    "  if symInOutput(lista, syms[\"2_xyz\"] + syms[\"2_101\"]): \n",
    "    return \"3m\"  \n",
    "  else: # if symInOutput(lista, syms[\"m_111\"]):\n",
    "    return \"-3m\"\n",
    "  # nie da sie otrzymac 32 z 'regularnego' ukladu -3m\n",
    "  \n",
    "def look_for_symmetry_in_m_minus_3_miller(lista,syms):\n",
    "  if symInOutput(lista, syms[\"-3\"]): # nie wiem czy (syms[\"3\"] + syms[\"-3\"]) czy (syms[\"-3\"])\n",
    "    return lookForSymmetryIn_222_miller(lista,syms)\n",
    "  elif symInOutput(lista, syms[\"m_xyz\"]): \n",
    "    return lookForSymmetryIn_23_miller(lista,syms)\n",
    "  else:\n",
    "    return \"m-3\"\n"
   ]
  },
  {
   "cell_type": "code",
   "execution_count": 29,
   "metadata": {},
   "outputs": [],
   "source": [
    "def isPerpendicular(x1,y1,z1,x2,y2,z2):\n",
    "  return (x1*x2 + y1*y2 + z1*z2) == 0 \n",
    "\n",
    "def check_is_perpendicular(str1, str2):\n",
    "  dir1 = string2array(str1)\n",
    "  dir2 = string2array(str2)\n",
    "  return isPerpendicular(*dir1,*dir2)\n",
    "  "
   ]
  },
  {
   "cell_type": "code",
   "execution_count": 90,
   "metadata": {},
   "outputs": [
    {
     "name": "stdout",
     "output_type": "stream",
     "text": [
      "[-1, 0, -1, 2]\n"
     ]
    }
   ],
   "source": [
    "# def string2array(direction):\n",
    "#     arr = []\n",
    "#     j = False\n",
    "#     for i in direction: \n",
    "#         if j:\n",
    "#             arr.append(-int(i))\n",
    "#             j = False\n",
    "#         elif i == \"-\":\n",
    "#             j = True          \n",
    "#         else:\n",
    "#             arr.append(int(i))\n",
    "#     return arr \n",
    "        \n",
    "def string2array(direction):\n",
    "    j = False\n",
    "    for i in direction: \n",
    "        if j:\n",
    "            yield -int(i)\n",
    "            j = False\n",
    "        elif i == \"-\":\n",
    "            j = True          \n",
    "        else:\n",
    "            yield int(i)\n",
    "  \n",
    "  \n",
    "mystr1 = \"-10-12\"\n",
    "mystr2 = \"-101\"\n",
    "# %timeit string2array(mystr)\n",
    "print(list(string2array(mystr1)))\n",
    "# isPerpendicular(*string2array(mystr1),*string2array(mystr2))"
   ]
  },
  {
   "cell_type": "code",
   "execution_count": null,
   "metadata": {},
   "outputs": [],
   "source": [
    "def szukajpunktow(najwyzklasasym,*punkty):\n",
    "    #lista transformacji  = [\"2\",\"m\",\"mm2\",\"4\"] przykladowe dla 4mm. jedynka jest trywialna\n",
    "    #for punkt in punkty:\n",
    "        #szukany = np.dot(trans, punkt)\n",
    "        #if szukany == None:\n",
    "            #return usunąć taransformacje z listy False break\n",
    "    #return zostawic transformacje True\n",
    "    pass"
   ]
  },
  {
   "cell_type": "code",
   "execution_count": 1,
   "metadata": {},
   "outputs": [
    {
     "name": "stdout",
     "output_type": "stream",
     "text": [
      "<__main__.transformation object at 0x7f928c139e10>\n"
     ]
    }
   ],
   "source": [
    "class transformation:\n",
    "  \n",
    "  __slots__ = (\"trans\", \"_trans_value\", \"direction\", \"_direction_as_array\")\n",
    "  \n",
    "  def __init__(self, trans, direction):\n",
    "    self.trans = trans\n",
    "    self._trans_value = transformation._get_trans_value(trans)\n",
    "    self.direction = direction\n",
    "    self._direction_as_array = transformation._string2array(direction)\n",
    "  \n",
    "  def _get_trans_value(trans):\n",
    "    if trans == \"m\":\n",
    "      return 0\n",
    "    elif trans == \"c\":\n",
    "      return -1\n",
    "    else:\n",
    "      return int(trans)    \n",
    "  \n",
    "  def _string2array(direction):\n",
    "    arr = []\n",
    "    j = False\n",
    "    for i in direction: \n",
    "      if j:\n",
    "        arr.append(-int(i))\n",
    "        j = False\n",
    "      elif i == \"-\":\n",
    "        j = True          \n",
    "      else:\n",
    "        arr.append(int(i))\n",
    "    return arr \n",
    "  \n",
    "  def is_perpendicular_to(self, other):\n",
    "    transformation._check_validity_for_is_perpendicular_to(self, other)      \n",
    "    return transformation._is_perpendicular_to(self, other)\n",
    "  \n",
    "  def _is_perpendicular_to(self, other):\n",
    "    if transformation._check_type_relation(self, other):\n",
    "      return transformation._is_perpendicular_for_same_type(self, other)\n",
    "    else:\n",
    "      return transformation._is_perpendicular_for_differnt_types(self, other)  \n",
    "  \n",
    "  def _check_validity_for_is_perpendicular_to(first, second):\n",
    "    if not isinstance(second, transformation):\n",
    "      raise TypeError(\"passed object is not an instance of transformation class\")\n",
    "    if len(first._direction_as_array) != len(second._direction_as_array):\n",
    "      raise ValueError(\"number of dimentions does not match (passed objects are not in the same linear space)\")  \n",
    "  \n",
    "  def _check_type_relation(first, second):\n",
    "    return first._trans_value == second._trans_value or \\\n",
    "          (first._trans_value > 0 and second._trans_value > 0)\n",
    "  \n",
    "  def _is_perpendicular_for_same_type(first, second):\n",
    "    return not sum(el1*el2 for el1, el2 in zip(first._direction_as_array, second._direction_as_array))\n",
    "  \n",
    "  def _is_perpendicular_for_differnt_types(first, second):\n",
    "    return all(el1==el2 for el1, el2 in zip(first._direction_as_array, second._direction_as_array))  \n",
    "  \n",
    "  def __str__(self):\n",
    "    if self.trans == \"c\":\n",
    "      return \"punkt inwersji w x=0, y=0, z=0\"\n",
    "    elif self.trans == \"m\":\n",
    "      return f\"plaszczyzna ustawiona w kierunku {self.direction}\"\n",
    "    else:\n",
    "      return f\"os {self.trans}-krotna ustawiona w kierunku {self.direction}\"\n",
    "  \n",
    "  def __repr__(self):\n",
    "    return f\"{self.trans}:{self.direction}\"    \n",
    "    \n",
    "\n",
    "t1 = transformation(\"2\",\"001\")\n",
    "t2 = transformation(\"4\",\"010\")\n",
    "# print(t2)\n",
    "# print(repr(t2))\n",
    "t1.is_perpendicular_to(t2)"
   ]
  },
  {
   "cell_type": "code",
   "execution_count": null,
   "metadata": {},
   "outputs": [],
   "source": [
    "def symInOutput(lista, syms):  # zwraca false gdy symetria jest w zbiorze\n",
    "  return all(search_for_sym(lista,*sym) for sym in syms) #not "
   ]
  },
  {
   "cell_type": "code",
   "execution_count": null,
   "metadata": {},
   "outputs": [],
   "source": [
    "def does_it_have_minus_1(lista_transformacji):\n",
    "  "
   ]
  },
  {
   "cell_type": "code",
   "execution_count": null,
   "metadata": {},
   "outputs": [],
   "source": [
    "def hashing_syms(listaa):\n",
    "  thisdict = {}\n",
    "  for y,z in listaa:\n",
    "    thisdict.setdefault(y,{})\n",
    "    thisdict[y].setdefault(z, True)\n",
    "  return thisdict  \n",
    "\n",
    "def search_for_sym(zestaw, trans, direc):\n",
    "  return zestaw.get(trans,{}).get(direc,False)"
   ]
  },
  {
   "cell_type": "code",
   "execution_count": 34,
   "metadata": {},
   "outputs": [
    {
     "name": "stdout",
     "output_type": "stream",
     "text": [
      "lol\n"
     ]
    }
   ],
   "source": [
    "class point_group:\n",
    "  \n",
    "  all_possible_transformation = [minus_czworki, czworki,\n",
    "                                 minus_trojki, trojki,\n",
    "                                 dwojki_xyz, dwojki_krawedz,\n",
    "                                 plaszczyzny_xyz, plaszczyzny_krawedz]\n",
    "\n",
    "  def __init__(self, args):\n",
    "#     self.all_passed_trans = tuple(map(lambda x: (transformation(x[0],x[1])), args))\n",
    "    self.args = args\n"
   ]
  },
  {
   "cell_type": "code",
   "execution_count": null,
   "metadata": {},
   "outputs": [],
   "source": [
    "def syms_for_tests_miller():\n",
    "  return {\n",
    "    \"-4\" : ((\"-4\",\"010\"), (\"-4\",\"001\"), (\"-4\",\"100\")),\n",
    "    \"4\"  : ((\"4\",\"010\"),  (\"4\",\"001\"),  (\"4\",\"100\")),\n",
    "    \"2_xyz\" : ((\"2\",\"100\"), (\"2\",\"100\"), (\"2\",\"100\")),\n",
    "    \"2_101\" : ((\"2\",\"110\"), (\"2\",\"101\"), (\"2\",\"011\"), (\"2\",\"-110\"), (\"2\",\"-101\"),(\"2\",\"0-11\")),\n",
    "    \"m_xyz\" : ((\"m\",\"100\"), (\"m\",\"100\"), (\"m\",\"100\")),\n",
    "    \"m_101\" : ((\"m\",\"110\"), (\"m\",\"101\"), (\"m\",\"011\"), (\"m\",\"-110\"), (\"m\",\"-101\"),(\"m\",\"0-11\")),\n",
    "    \"3\" : ((\"3\",\"111\"), (\"3\",\"-111\"), (\"3\",\"1-11\"), (\"3\",\"11-1\")),\n",
    "    \"-3\" : ((\"-3\",\"111\"), (\"-3\",\"-111\"), (\"-3\",\"1-11\"), (\"-3\",\"11-1\")),\n",
    "    \"C\" :  ((\"c\",\"000\"),)\n",
    "  }"
   ]
  },
  {
   "cell_type": "code",
   "execution_count": 147,
   "metadata": {},
   "outputs": [
    {
     "name": "stdout",
     "output_type": "stream",
     "text": [
      "2:0-11, m:0-11, c:000\n"
     ]
    }
   ],
   "source": [
    "# decorator\n",
    "class g_1():\n",
    "  \n",
    "  def __init__(self):\n",
    "    print(\"w g_1\")\n",
    "    self.sym_class = transformation(\"1\", \"000\")\n",
    "  \n",
    "class point_group:\n",
    "  def __init__(self, args):\n",
    "    self.all_passed_trans = tuple(map(lambda x: (transformation(x[0],x[1])), args))\n",
    "    \n",
    "  def __str__(self):\n",
    "    return \", \".join(repr(el) for el in self.all_passed_trans)\n",
    "\n",
    "# G1 = g_1()\n",
    "G2 = point_group(((\"2\",\"0-11\"),(\"m\",'0-11'),(\"c\",'000')))\n",
    "print(G2)\n"
   ]
  },
  {
   "cell_type": "code",
   "execution_count": 116,
   "metadata": {},
   "outputs": [
    {
     "name": "stdout",
     "output_type": "stream",
     "text": [
      "w g_1\n",
      "w g_1\n"
     ]
    },
    {
     "data": {
      "text/plain": [
       "[<__main__.g_1 at 0x7fd68141f050>]"
      ]
     },
     "execution_count": 116,
     "metadata": {},
     "output_type": "execute_result"
    }
   ],
   "source": [
    "# decorator\n",
    "class g_1():\n",
    "  lista = []\n",
    "  def __init__(self):\n",
    "    print(\"w g_1\")\n",
    "    self.sym_class = \"1\"\n",
    "  \n",
    "  @classmethod\n",
    "  def __add__(cls, other):\n",
    "    cls.lista.append(other)\n",
    "    return cls.lista\n",
    "  \n",
    "G1 = g_1()\n",
    "G2 = g_1()\n",
    "\n",
    "G1 + G2 "
   ]
  },
  {
   "cell_type": "code",
   "execution_count": 4,
   "metadata": {},
   "outputs": [
    {
     "name": "stdout",
     "output_type": "stream",
     "text": [
      "w g_2/m\n",
      "w g_2\n",
      "w g_m\n",
      "w g_c\n",
      "w g_1\n",
      "w g_1\n",
      "w g_1\n",
      "w g_1\n",
      "1\n"
     ]
    }
   ],
   "source": [
    "class g_2(g_1):\n",
    "  def __init__(self):\n",
    "    print(\"w g_2\")\n",
    "    super().__init__()\n",
    "    self.sym_class = \"2\"\n",
    "    self.podgrupy = g_1().sym_class\n",
    "    \n",
    "class g_m(g_1):\n",
    "  def __init__(self):\n",
    "    print(\"w g_m\")    \n",
    "    super().__init__()\n",
    "    self.sym_class = \"m\"\n",
    "    self.podgrupy = g_1().sym_class\n",
    "    \n",
    "class g_c(g_1):\n",
    "  def __init__(self):\n",
    "    print(\"w g_c\")\n",
    "    super().__init__()\n",
    "    self.sym_class = \"c\"\n",
    "    self.podgrupy = g_1().sym_class\n",
    "    \n",
    "class g_2_div_m(g_2, g_m, g_c):\n",
    "  def __init__(self):\n",
    "    print(\"w g_2/m\")\n",
    "    super().__init__()\n",
    "    self.sym_class = \"2/m\"\n",
    "#     self.podgrupy = g_().sym_class\n",
    "\n",
    "myobj = g_2_div_m()\n",
    "print(myobj.podgrupy)"
   ]
  },
  {
   "cell_type": "code",
   "execution_count": 1,
   "metadata": {},
   "outputs": [],
   "source": [
    "graph ={\"2/m\":[\"m\",\"2\",\"-1\"],\n",
    "        \"m\":[\"1\"],\n",
    "        \"2\":[\"1\"],\n",
    "        \"-1\":[\"1\"]}"
   ]
  },
  {
   "cell_type": "code",
   "execution_count": 4,
   "metadata": {},
   "outputs": [],
   "source": [
    "def find_sym_class(graph, start, transformations, cell, vacancies):\n",
    "    for point in vacancies:\n",
    "        for node in graph[start]:\n",
    "            for +\n",
    "            seekpoint = transformations[node]\n",
    "            if not seekpoint in cell:\n",
    "                return find_path(graph, node)\n",
    "    return start\n",
    " \n"
   ]
  },
  {
   "cell_type": "code",
   "execution_count": 5,
   "metadata": {},
   "outputs": [
    {
     "data": {
      "text/plain": [
       "['2/m', 'm', '1']"
      ]
     },
     "execution_count": 5,
     "metadata": {},
     "output_type": "execute_result"
    }
   ],
   "source": [
    "find_path(graph, '2/m',komorka, wakancje)"
   ]
  },
  {
   "cell_type": "code",
   "execution_count": 17,
   "metadata": {},
   "outputs": [],
   "source": [
    "import numpy as np\n",
    "s3d2 = np.sqrt(3)/2\n",
    "\n",
    "Matrixes ={\"oski\":{\n",
    "                    \"c\":{\n",
    "                        \"000\" ]\n",
    "                    },\n",
    "                    \"m\":{\n",
    "                        \"100\" ,\n",
    "                        \"010\" ,\n",
    "                        \"001\" ,\n",
    "\n",
    "                        \"110\" ,\n",
    "                        \"-110\" ,\n",
    "                        \"011\" ,\n",
    "\n",
    "                        \"101\" ,\n",
    "                        \"-101\" ,\n",
    "                        \"0-11\" \n",
    "                    },\n",
    "                    \"2\":{\n",
    "                        \"100\" ,\n",
    "                        \"010\" ,\n",
    "                        \"001\" ,\n",
    "\n",
    "                        \"110\" ,\n",
    "                        \"101\" ,\n",
    "                        \"011\" ,\n",
    "\n",
    "                        \"-110\" ,\n",
    "                        \"-101\" ,\n",
    "                        \"0-11\" \n",
    "                    },\n",
    "                    \"3\":{\n",
    "                        \"001\" ,\n",
    "                        \"111\" ,\n",
    "                        \"-111\" ,\n",
    "                        \"1-11\" ,\n",
    "                        \"11-1\" \n",
    "                    },\n",
    "                    \"-3\":{\n",
    "                        \"001\" ,\n",
    "                        \"111\" ,\n",
    "                        \"-111\" ,\n",
    "                        \"1-11\" ,\n",
    "                        \"11-1\"         \n",
    "                    },\n",
    "                    \"4\":{\n",
    "                        \"100\" ,\n",
    "                        \"010\" ,\n",
    "                        \"001\" \n",
    "                    },\n",
    "                    \"-4\":{\n",
    "                        \"100\" ,\n",
    "                        \"010\" ,\n",
    "                        \"001\" \n",
    "                    },\n",
    "                    \"6\":{\n",
    "                        \"001\" \n",
    "                    },\n",
    "                    \"-6\":{\n",
    "                        \"001\" \n",
    "                    }\n",
    "                }\n",
    "            }"
   ]
  },
  {
   "cell_type": "code",
   "execution_count": 18,
   "metadata": {},
   "outputs": [
    {
     "ename": "KeyError",
     "evalue": "'c'",
     "output_type": "error",
     "traceback": [
      "\u001b[1;31m---------------------------------------------------------------------------\u001b[0m",
      "\u001b[1;31mKeyError\u001b[0m                                  Traceback (most recent call last)",
      "\u001b[1;32m<ipython-input-18-2d6112bd18ab>\u001b[0m in \u001b[0;36m<module>\u001b[1;34m\u001b[0m\n\u001b[0;32m      6\u001b[0m                 \u001b[1;32mif\u001b[0m \u001b[0mnewpath\u001b[0m\u001b[1;33m:\u001b[0m \u001b[1;32mreturn\u001b[0m \u001b[0mnewpath\u001b[0m\u001b[1;33m\u001b[0m\u001b[1;33m\u001b[0m\u001b[0m\n\u001b[0;32m      7\u001b[0m         \u001b[1;32mreturn\u001b[0m \u001b[1;32mNone\u001b[0m\u001b[1;33m\u001b[0m\u001b[1;33m\u001b[0m\u001b[0m\n\u001b[1;32m----> 8\u001b[1;33m \u001b[0mprint\u001b[0m\u001b[1;33m(\u001b[0m\u001b[0mfind_path\u001b[0m\u001b[1;33m(\u001b[0m\u001b[0mMatrixes\u001b[0m\u001b[1;33m,\u001b[0m\u001b[1;34m\"001\"\u001b[0m\u001b[1;33m)\u001b[0m\u001b[1;33m)\u001b[0m\u001b[1;33m\u001b[0m\u001b[1;33m\u001b[0m\u001b[0m\n\u001b[0m",
      "\u001b[1;32m<ipython-input-18-2d6112bd18ab>\u001b[0m in \u001b[0;36mfind_path\u001b[1;34m(graph, end, start, path)\u001b[0m\n\u001b[0;32m      3\u001b[0m         \u001b[1;32mfor\u001b[0m \u001b[0mnode\u001b[0m \u001b[1;32min\u001b[0m \u001b[0mgraph\u001b[0m\u001b[1;33m[\u001b[0m\u001b[0mstart\u001b[0m\u001b[1;33m]\u001b[0m\u001b[1;33m:\u001b[0m\u001b[1;33m\u001b[0m\u001b[1;33m\u001b[0m\u001b[0m\n\u001b[0;32m      4\u001b[0m             \u001b[1;32mif\u001b[0m \u001b[0mnode\u001b[0m \u001b[1;32mnot\u001b[0m \u001b[1;32min\u001b[0m \u001b[0mpath\u001b[0m\u001b[1;33m:\u001b[0m\u001b[1;33m\u001b[0m\u001b[1;33m\u001b[0m\u001b[0m\n\u001b[1;32m----> 5\u001b[1;33m                 \u001b[0mnewpath\u001b[0m \u001b[1;33m=\u001b[0m \u001b[0mfind_path\u001b[0m\u001b[1;33m(\u001b[0m\u001b[0mgraph\u001b[0m\u001b[1;33m,\u001b[0m \u001b[0mend\u001b[0m\u001b[1;33m,\u001b[0m \u001b[0mnode\u001b[0m\u001b[1;33m,\u001b[0m \u001b[0mpath\u001b[0m\u001b[1;33m)\u001b[0m\u001b[1;33m\u001b[0m\u001b[1;33m\u001b[0m\u001b[0m\n\u001b[0m\u001b[0;32m      6\u001b[0m                 \u001b[1;32mif\u001b[0m \u001b[0mnewpath\u001b[0m\u001b[1;33m:\u001b[0m \u001b[1;32mreturn\u001b[0m \u001b[0mnewpath\u001b[0m\u001b[1;33m\u001b[0m\u001b[1;33m\u001b[0m\u001b[0m\n\u001b[0;32m      7\u001b[0m         \u001b[1;32mreturn\u001b[0m \u001b[1;32mNone\u001b[0m\u001b[1;33m\u001b[0m\u001b[1;33m\u001b[0m\u001b[0m\n",
      "\u001b[1;32m<ipython-input-18-2d6112bd18ab>\u001b[0m in \u001b[0;36mfind_path\u001b[1;34m(graph, end, start, path)\u001b[0m\n\u001b[0;32m      1\u001b[0m \u001b[1;32mdef\u001b[0m \u001b[0mfind_path\u001b[0m\u001b[1;33m(\u001b[0m\u001b[0mgraph\u001b[0m\u001b[1;33m,\u001b[0m \u001b[0mend\u001b[0m\u001b[1;33m,\u001b[0m \u001b[0mstart\u001b[0m\u001b[1;33m=\u001b[0m\u001b[1;34m\"oski\"\u001b[0m\u001b[1;33m,\u001b[0m \u001b[0mpath\u001b[0m\u001b[1;33m=\u001b[0m\u001b[1;33m[\u001b[0m\u001b[1;33m]\u001b[0m\u001b[1;33m)\u001b[0m\u001b[1;33m:\u001b[0m\u001b[1;33m\u001b[0m\u001b[1;33m\u001b[0m\u001b[0m\n\u001b[0;32m      2\u001b[0m         \u001b[0mpath\u001b[0m \u001b[1;33m=\u001b[0m \u001b[0mpath\u001b[0m \u001b[1;33m+\u001b[0m \u001b[1;33m[\u001b[0m\u001b[0mstart\u001b[0m\u001b[1;33m]\u001b[0m\u001b[1;33m\u001b[0m\u001b[1;33m\u001b[0m\u001b[0m\n\u001b[1;32m----> 3\u001b[1;33m         \u001b[1;32mfor\u001b[0m \u001b[0mnode\u001b[0m \u001b[1;32min\u001b[0m \u001b[0mgraph\u001b[0m\u001b[1;33m[\u001b[0m\u001b[0mstart\u001b[0m\u001b[1;33m]\u001b[0m\u001b[1;33m:\u001b[0m\u001b[1;33m\u001b[0m\u001b[1;33m\u001b[0m\u001b[0m\n\u001b[0m\u001b[0;32m      4\u001b[0m             \u001b[1;32mif\u001b[0m \u001b[0mnode\u001b[0m \u001b[1;32mnot\u001b[0m \u001b[1;32min\u001b[0m \u001b[0mpath\u001b[0m\u001b[1;33m:\u001b[0m\u001b[1;33m\u001b[0m\u001b[1;33m\u001b[0m\u001b[0m\n\u001b[0;32m      5\u001b[0m                 \u001b[0mnewpath\u001b[0m \u001b[1;33m=\u001b[0m \u001b[0mfind_path\u001b[0m\u001b[1;33m(\u001b[0m\u001b[0mgraph\u001b[0m\u001b[1;33m,\u001b[0m \u001b[0mend\u001b[0m\u001b[1;33m,\u001b[0m \u001b[0mnode\u001b[0m\u001b[1;33m,\u001b[0m \u001b[0mpath\u001b[0m\u001b[1;33m)\u001b[0m\u001b[1;33m\u001b[0m\u001b[1;33m\u001b[0m\u001b[0m\n",
      "\u001b[1;31mKeyError\u001b[0m: 'c'"
     ]
    }
   ],
   "source": [
    "def find_path(graph, end, start=\"oski\", path=[]):\n",
    "        path = path + [start]\n",
    "        for node in graph[start]:\n",
    "            if node not in path:\n",
    "                newpath = find_path(graph, end, node, path)\n",
    "                if newpath: return newpath\n",
    "        return None    \n",
    "print(find_path(Matrixes,\"001\"))"
   ]
  },
  {
   "cell_type": "code",
   "execution_count": null,
   "metadata": {},
   "outputs": [],
   "source": [
    "os = [0,0]\n",
    "os[0] = Matrixes[\"3\"][\"001\"]\n",
    "os[1] = Matrixes[\"-4\"][\"010\"]\n",
    "np.dot(np.array([-1,-1,-1]),os[0])"
   ]
  },
  {
   "cell_type": "code",
   "execution_count": null,
   "metadata": {},
   "outputs": [],
   "source": [
    "os = [0]*5\n",
    "os[0] = Matrixes[\"-4\"][\"001\"]\n",
    "os[1] = Matrixes[\"2\"][\"010\"]\n",
    "os[2] = np.dot(os[0],os[1])\n",
    "os[3] = np.dot(os[0],os[2])\n",
    "os[4] = np.dot(os[0],os[3])\n",
    "\n",
    "\n",
    "'''print(\"-4 001\",os[0],sep='\\n',end='\\n\\n')\n",
    "print(\"2 010\",os[1],sep='\\n',end='\\n\\n')\n",
    "print(\"m -110\",os[2],sep='\\n',end='\\n\\n')\n",
    "print('2 100',os[3],sep='\\n',end='\\n\\n')'''\n",
    "print('m 110',os[4],sep='\\n',end='\\n\\n')"
   ]
  },
  {
   "cell_type": "code",
   "execution_count": null,
   "metadata": {},
   "outputs": [],
   "source": [
    "\"\"\"Az4Ay4\"\"\" \n",
    "os = [Matrixes[\"-4\"][\"001\"],Matrixes[\"-4\"][\"010\"]]\n",
    "os1 = [Matrixes[\"4\"][\"001\"],Matrixes[\"4\"][\"010\"],Matrixes[\"c\"][\"000\"]]\n",
    "os2 = [Matrixes[\"2\"][\"001\"],Matrixes[\"2\"][\"010\"],Matrixes[\"c\"][\"000\"]]\n",
    "\n",
    "lolo = makeithappen(os1)\n",
    "\n",
    "np.linalg.inv()\n",
    "print(len(lolo))\n",
    "for punkt in lolo:\n",
    "    print(punkt,end='\\n\\n')"
   ]
  },
  {
   "cell_type": "code",
   "execution_count": null,
   "metadata": {},
   "outputs": [],
   "source": [
    "np.linalg.inv(lolo[numer])"
   ]
  },
  {
   "cell_type": "code",
   "execution_count": null,
   "metadata": {},
   "outputs": [],
   "source": [
    "numer = 4\n",
    "print(np.dot(lolo[numer],lolo[numer]))\n",
    "print(listadous(lolo[numer], np.array([1,1,0]),4))"
   ]
  },
  {
   "cell_type": "code",
   "execution_count": null,
   "metadata": {},
   "outputs": [],
   "source": [
    "for nr, oska in enumerate(os[2 :\n",
    "    os[nr+2] = np.dot(os[0],os[nr+1])\n",
    "    if os[nr+2] in os[:nr+1]:\n",
    "        pass\n",
    "    \n",
    "        \n",
    "        \n",
    "for oska in os:\n",
    "    print(oska,end='\\n\\n')\n",
    "'''print(\"-4 001\",os[0],sep='\\n',end='\\n\\n')\n",
    "print(\"-4 010\",os[1],sep='\\n',end='\\n\\n')\n",
    "print(\"3 -111\",os[2],sep='\\n',end='\\n\\n')\n",
    "print('3 111',os[3],sep='\\n',end='\\n\\n')\n",
    "print('m -101',os[4],sep='\\n',end='\\n\\n')\n",
    "print(\"m 011\",os[5],sep='\\n',end='\\n\\n')\n",
    "print(\"-4 010\",os[6],sep='\\n',end='\\n\\n')\n",
    "print(\"3 -111\",os[7],sep='\\n',end='\\n\\n')'''\n",
    "None"
   ]
  },
  {
   "cell_type": "code",
   "execution_count": null,
   "metadata": {},
   "outputs": [],
   "source": [
    "'''slownik_operacji_minus43m = {\"-4\":Matrixes[\"-4\"],\n",
    "                             \"-3\":Matrixes[\"3\"][1:]}\n",
    "print(slownik_operacji_minus43m)\n",
    "#print(koordynaty)'''\n",
    "None"
   ]
  },
  {
   "cell_type": "code",
   "execution_count": 20,
   "metadata": {},
   "outputs": [
    {
     "name": "stdout",
     "output_type": "stream",
     "text": [
      "[('-4', '100'), ('2', '001'), ('2', '010'), ('2', '100'), ('m', '0-11'), ('m', '011')]\n"
     ]
    }
   ],
   "source": [
    "filename = \"output of symmetries444.txt\"\n",
    "\n",
    "with open(filename,\"r\") as f:\n",
    "  a = f.readline().split(\";\")[-1].strip()\n",
    "  b = eval(a)\n",
    "print(b)"
   ]
  },
  {
   "cell_type": "code",
   "execution_count": null,
   "metadata": {},
   "outputs": [],
   "source": [
    "mydict = {\n",
    "  1:{\n",
    "    \"c\":{\"000\"},\n",
    "    \"m\":{\"100\", \"010\", \"001\", \"110\", \"-110\", \"011\", \"101\", \"-101\", \"0-11\"},\n",
    "    \"2\":{\"100\",\"010\",\"001\",\"110\",\"101\", \"011\", \"-110\", \"-101\", \"0-11\"},\n",
    "    \"3\":{\"001\", \"111\", \"-111\", \"1-11\", \"11-1\"},\n",
    "    \"-3\":{\"001\", \"111\", \"-111\", \"1-11\", \"11-1\"},\n",
    "    \"4\":{\"100\", \"010\", \"001\"},\n",
    "    \"-4\":{\"100\", \"010\", \"001\"}\n",
    "    },\n",
    "  2:{},\n",
    "  3:{\"2/m\", \"222\", \"mm2\",'4/m'},\n",
    "  4:{},\n",
    "  5:{'4mm,-42m,422'},\n",
    "  6:{'mmm'},\n",
    "  7:{'23'},\n",
    "  8:{},\n",
    "  9:{},\n",
    "  10:{'4/mmm',\"m3\"},\n",
    "  11:{\"m3\"},\n",
    "  12:{},\n",
    "  13:{\"432\",\"-43m\"},\n",
    "  14:{},\n",
    "  15:{},\n",
    "  16:{},\n",
    "  17:{},\n",
    "  18:{},\n",
    "  19:{},\n",
    "  20:{},\n",
    "  21:{},\n",
    "  22:{},\n",
    "  23:{}\n",
    "}"
   ]
  },
  {
   "cell_type": "code",
   "execution_count": 37,
   "metadata": {},
   "outputs": [
    {
     "data": {
      "text/plain": [
       "{'c': {'000'},\n",
       " 'm': {'-101', '-110', '0-11', '001', '010', '011', '100', '101', '110'},\n",
       " '2': {'-101', '-110', '0-11', '001', '010', '011', '100', '101', '110'},\n",
       " '3': {'-111', '001', '1-11', '11-1', '111'},\n",
       " '-3': {'-111', '001', '1-11', '11-1', '111'},\n",
       " '4': {'001', '010', '100'},\n",
       " '-4': {'001', '010', '100'}}"
      ]
     },
     "execution_count": 37,
     "metadata": {},
     "output_type": "execute_result"
    }
   ],
   "source": [
    "{\n",
    "\"c\":{\"000\"},\n",
    "\"m\":{\"100\", \"010\", \"001\", \"110\", \"-110\", \"011\", \"101\", \"-101\", \"0-11\"},\n",
    "\"2\":{\"100\",\"010\",\"001\",\"110\",\"101\", \"011\", \"-110\", \"-101\", \"0-11\"},\n",
    "\"3\":{\"001\", \"111\", \"-111\", \"1-11\", \"11-1\"},\n",
    "\"-3\":{\"001\", \"111\", \"-111\", \"1-11\", \"11-1\"},\n",
    "\"4\":{\"100\", \"010\", \"001\"},\n",
    "\"-4\":{\"100\", \"010\", \"001\"}\n",
    "}\n"
   ]
  },
  {
   "cell_type": "code",
   "execution_count": 39,
   "metadata": {},
   "outputs": [
    {
     "data": {
      "text/plain": [
       "{('-4', '100'),\n",
       " ('2', '001'),\n",
       " ('2', '010'),\n",
       " ('2', '100'),\n",
       " ('m', '0-11'),\n",
       " ('m', '011')}"
      ]
     },
     "execution_count": 39,
     "metadata": {},
     "output_type": "execute_result"
    }
   ],
   "source": [
    "SYM_minus42m = set(b)\n",
    "SYM_minus43m"
   ]
  },
  {
   "cell_type": "code",
   "execution_count": 5,
   "metadata": {},
   "outputs": [],
   "source": [
    "import os\n",
    "import xml.etree.ElementTree as et"
   ]
  },
  {
   "cell_type": "code",
   "execution_count": 12,
   "metadata": {},
   "outputs": [],
   "source": [
    "basePATH = os.path.abspath(\"Data.xml\")"
   ]
  },
  {
   "cell_type": "code",
   "execution_count": 11,
   "metadata": {},
   "outputs": [],
   "source": [
    "tree = et.parse(basePATH)\n",
    "root = tree.getroot()"
   ]
  },
  {
   "cell_type": "code",
   "execution_count": 14,
   "metadata": {},
   "outputs": [],
   "source": [
    "courses = root.findall(\"course\")\n",
    "# for course in courses:\n",
    "#     print(course)"
   ]
  },
  {
   "cell_type": "code",
   "execution_count": 23,
   "metadata": {
    "collapsed": true,
    "jupyter": {
     "outputs_hidden": true
    }
   },
   "outputs": [
    {
     "name": "stdout",
     "output_type": "stream",
     "text": [
      "reg_num 10577\n",
      "yes\n",
      "subj ANTH\n",
      "yes\n",
      "crse 211\n",
      "yes\n",
      "sect F01\n",
      "yes\n",
      "title Introduction to Anthropology\n",
      "yes\n",
      "units 1.0\n",
      "yes\n",
      "instructor Brightman\n",
      "yes\n",
      "days M-W\n",
      "yes\n",
      "time \n",
      "           \n",
      "yes\n",
      "place \n",
      "           \n",
      "yes\n"
     ]
    }
   ],
   "source": [
    "for el in courses[0]:\n",
    "    print(el.tag,el.text)\n",
    "    if et.iselement(el):\n",
    "        print(\"yes\")"
   ]
  },
  {
   "cell_type": "code",
   "execution_count": null,
   "metadata": {},
   "outputs": [],
   "source": [
    "import os\n",
    "import xml.etree.ElementTree as et\n",
    "\n",
    "basePATH = os.path.abspath(\"Data.xml\")                   \n",
    "\n",
    "tree = et.parse(basePATH)\n",
    "\n",
    "lol = tree.getroot()[0].tag\n",
    "\n",
    "print(lol)"
   ]
  },
  {
   "cell_type": "code",
   "execution_count": 38,
   "metadata": {},
   "outputs": [
    {
     "data": {
      "application/vnd.jupyter.widget-view+json": {
       "model_id": "b7d2830d8eb24fc299b7343d144ed3b3",
       "version_major": 2,
       "version_minor": 0
      },
      "text/plain": [
       "HBox(children=(IntProgress(value=0), HTML(value='')))"
      ]
     },
     "metadata": {},
     "output_type": "display_data"
    },
    {
     "name": "stdout",
     "output_type": "stream",
     "text": [
      "\n"
     ]
    }
   ],
   "source": [
    "import tqdm \n",
    "from time import sleep\n",
    "for i in tqdm.tqdm_notebook(range(100)):\n",
    "  sleep(0.1)"
   ]
  }
 ],
 "metadata": {
  "kernelspec": {
   "display_name": "Python 3",
   "language": "python",
   "name": "python3"
  },
  "language_info": {
   "codemirror_mode": {
    "name": "ipython",
    "version": 3
   },
   "file_extension": ".py",
   "mimetype": "text/x-python",
   "name": "python",
   "nbconvert_exporter": "python",
   "pygments_lexer": "ipython3",
   "version": "3.8.1"
  }
 },
 "nbformat": 4,
 "nbformat_minor": 4
}
