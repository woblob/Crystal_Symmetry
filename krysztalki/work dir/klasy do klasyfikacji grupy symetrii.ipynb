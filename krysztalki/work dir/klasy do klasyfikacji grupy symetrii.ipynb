{
 "cells": [
  {
   "cell_type": "code",
   "execution_count": null,
   "metadata": {},
   "outputs": [],
   "source": [
    "def szukajpunktow(najwyzklasasym,*punkty):\n",
    "    #lista transformacji  = [\"2\",\"m\",\"mm2\",\"4\"] przykladowe dla 4mm. jedynka jest trywialna\n",
    "    #for punkt in punkty:\n",
    "        #szukany = np.dot(trans, punkt)\n",
    "        #if szukany == None:\n",
    "            #return usunąć taransformacje z listy False break\n",
    "    #return zostawic transformacje True\n",
    "    pass"
   ]
  },
  {
   "cell_type": "code",
   "execution_count": 19,
   "metadata": {},
   "outputs": [
    {
     "name": "stdout",
     "output_type": "stream",
     "text": [
      "1\n"
     ]
    }
   ],
   "source": [
    "class g_1():\n",
    "    def __init__(self):\n",
    "        self.sym_class = \"1\"\n",
    "\n",
    "class g_2(g_1):\n",
    "    def __init__(self):\n",
    "        super().__init__()\n",
    "        self.sym_class = \"2\"\n",
    "        self.podgrupy = g_1().sym_class\n",
    "\n",
    "myobj = g_2()\n",
    "print(myobj.podgrupy)"
   ]
  },
  {
   "cell_type": "code",
   "execution_count": 1,
   "metadata": {},
   "outputs": [],
   "source": [
    "graph ={\"2/m\":[\"m\",\"2\",\"-1\"],\n",
    "        \"m\":[\"1\"],\n",
    "        \"2\":[\"1\"],\n",
    "        \"-1\":[\"1\"]}"
   ]
  },
  {
   "cell_type": "code",
   "execution_count": 4,
   "metadata": {},
   "outputs": [],
   "source": [
    "def find_sym_class(graph, start, transformations, cell, vacancies):\n",
    "    for point in vacancies:\n",
    "        for node in graph[start]:\n",
    "            for +\n",
    "            seekpoint = transformations[node]\n",
    "            if not seekpoint in cell:\n",
    "                return find_path(graph, node)\n",
    "    return start\n",
    " \n"
   ]
  },
  {
   "cell_type": "code",
   "execution_count": 5,
   "metadata": {},
   "outputs": [
    {
     "data": {
      "text/plain": [
       "['2/m', 'm', '1']"
      ]
     },
     "execution_count": 5,
     "metadata": {},
     "output_type": "execute_result"
    }
   ],
   "source": [
    "find_path(graph, '2/m',komorka, wakancje)"
   ]
  },
  {
   "cell_type": "code",
   "execution_count": 17,
   "metadata": {},
   "outputs": [],
   "source": [
    "import numpy as np\n",
    "s3d2 = np.sqrt(3)/2\n",
    "\n",
    "Matrixes ={\"oski\":{\n",
    "                    \"c\":{\n",
    "                        \"000\":[np.array([[-1,0,0],[0,-1,0],[0,0,-1]])]\n",
    "                    },\n",
    "                    \"m\":{\n",
    "                        \"100\":np.array([[-1,0,0],[0,1,0],[0,0,1]]),\n",
    "                        \"010\":np.array([[1,0,0],[0,-1,0],[0,0,1]]),\n",
    "                        \"001\":np.array([[1,0,0],[0,1,0],[0,0,-1]]),\n",
    "\n",
    "                        \"110\":np.array([[0,-1,0],[-1,0,0],[0,0,1]]),\n",
    "                        \"-110\":np.array([[0,1,0],[1,0,0],[0,0,1]]),\n",
    "                        \"011\":np.array([[1,0,0],[0,0,-1],[0,-1,0]]),\n",
    "\n",
    "                        \"101\":np.array([[-1,0,0],[0,1,0],[0,0,-1]]),\n",
    "                        \"-101\":np.array([[0,0,1],[0,1,0],[1,0,0]]),\n",
    "                        \"0-11\":np.array([[1,0,0],[0,0,1],[0,1,0]])\n",
    "                    },\n",
    "                    \"2\":{\n",
    "                        \"100\":np.array([[1,0,0],[0,-1,0],[0,0,-1]]),\n",
    "                        \"010\":np.array([[-1,0,0],[0,1,0],[0,0,-1]]),\n",
    "                        \"001\":np.array([[-1,0,0],[0,-1,0],[0,0,1]]),\n",
    "\n",
    "                        \"110\":np.array([[0,1,0],[1,0,0],[0,0,-1]]),\n",
    "                        \"101\":np.array([[1,0,0],[0,-1,0],[0,0,1]]),\n",
    "                        \"011\":np.array([[-1,0,0],[0,0,1],[0,1,0]]),\n",
    "\n",
    "                        \"-110\":np.array([[0,-1,0],[-1,0,0],[0,0,-1]]),\n",
    "                        \"-101\":np.array([[0,0,-1],[0,-1,0],[-1,0,0]]),\n",
    "                        \"0-11\":np.array([[-1,0,0],[0,0,-1],[0,-1,0]])\n",
    "                    },\n",
    "                    \"3\":{\n",
    "                        \"001\":np.array([[-0.5,-s3d2,0],[s3d2,-0.5,0],[0,0,1]]),\n",
    "                        \"111\":np.array([[0,0,1],[1,0,0],[0,1,0]]),\n",
    "                        \"-111\":np.array([[0,-1,0],[0,0,1],[-1,0,0]]),\n",
    "                        \"1-11\":np.array([[0,-1,0],[0,0,-1],[1,0,0]]),\n",
    "                        \"11-1\":np.array([[0,1,0],[0,0,-1],[-1,0,0]])\n",
    "                    },\n",
    "                    \"-3\":{\n",
    "                        \"001\":np.array([[0.5,s3d2,0],[-s3d2,0.5,0],[0,0,-1]]),\n",
    "                        \"111\":np.array([[0,0,-1],[-1,0,0],[0,-1,0]]),\n",
    "                        \"-111\":np.array([[0,1,0],[0,0,-1],[1,0,0]]),\n",
    "                        \"1-11\":np.array([[0,1,0],[0,0,1],[-1,0,0]]),\n",
    "                        \"11-1\":np.array([[0,-1,0],[0,0,1],[1,0,0]])        \n",
    "                    },\n",
    "                    \"4\":{\n",
    "                        \"100\":np.array([[1,0,0],[0,0,-1],[0,1,0]]),\n",
    "                        \"010\":np.array([[0,0,1],[0,1,0],[-1,0,0]]),\n",
    "                        \"001\":np.array([[0,-1,0],[1,0,0],[0,0,1]])\n",
    "                    },\n",
    "                    \"-4\":{\n",
    "                        \"100\":np.array([[-1,0,0],[0,0,1],[0,-1,0]]),\n",
    "                        \"010\":np.array([[0,0,-1],[0,-1,0],[1,0,0]]),\n",
    "                        \"001\":np.array([[0,1,0],[-1,0,0],[0,0,-1]])\n",
    "                    },\n",
    "                    \"6\":{\n",
    "                        \"001\":np.array([[0.5,-s3d2,0],[s3d2,0.5,0],[0,0,1]])\n",
    "                    },\n",
    "                    \"-6\":{\n",
    "                        \"001\":np.array([[-0.5,s3d2,0],[-s3d2,-0.5,0],[0,0,-1]])\n",
    "                    }\n",
    "                }\n",
    "            }"
   ]
  },
  {
   "cell_type": "code",
   "execution_count": 18,
   "metadata": {},
   "outputs": [
    {
     "ename": "KeyError",
     "evalue": "'c'",
     "output_type": "error",
     "traceback": [
      "\u001b[1;31m---------------------------------------------------------------------------\u001b[0m",
      "\u001b[1;31mKeyError\u001b[0m                                  Traceback (most recent call last)",
      "\u001b[1;32m<ipython-input-18-2d6112bd18ab>\u001b[0m in \u001b[0;36m<module>\u001b[1;34m\u001b[0m\n\u001b[0;32m      6\u001b[0m                 \u001b[1;32mif\u001b[0m \u001b[0mnewpath\u001b[0m\u001b[1;33m:\u001b[0m \u001b[1;32mreturn\u001b[0m \u001b[0mnewpath\u001b[0m\u001b[1;33m\u001b[0m\u001b[1;33m\u001b[0m\u001b[0m\n\u001b[0;32m      7\u001b[0m         \u001b[1;32mreturn\u001b[0m \u001b[1;32mNone\u001b[0m\u001b[1;33m\u001b[0m\u001b[1;33m\u001b[0m\u001b[0m\n\u001b[1;32m----> 8\u001b[1;33m \u001b[0mprint\u001b[0m\u001b[1;33m(\u001b[0m\u001b[0mfind_path\u001b[0m\u001b[1;33m(\u001b[0m\u001b[0mMatrixes\u001b[0m\u001b[1;33m,\u001b[0m\u001b[1;34m\"001\"\u001b[0m\u001b[1;33m)\u001b[0m\u001b[1;33m)\u001b[0m\u001b[1;33m\u001b[0m\u001b[1;33m\u001b[0m\u001b[0m\n\u001b[0m",
      "\u001b[1;32m<ipython-input-18-2d6112bd18ab>\u001b[0m in \u001b[0;36mfind_path\u001b[1;34m(graph, end, start, path)\u001b[0m\n\u001b[0;32m      3\u001b[0m         \u001b[1;32mfor\u001b[0m \u001b[0mnode\u001b[0m \u001b[1;32min\u001b[0m \u001b[0mgraph\u001b[0m\u001b[1;33m[\u001b[0m\u001b[0mstart\u001b[0m\u001b[1;33m]\u001b[0m\u001b[1;33m:\u001b[0m\u001b[1;33m\u001b[0m\u001b[1;33m\u001b[0m\u001b[0m\n\u001b[0;32m      4\u001b[0m             \u001b[1;32mif\u001b[0m \u001b[0mnode\u001b[0m \u001b[1;32mnot\u001b[0m \u001b[1;32min\u001b[0m \u001b[0mpath\u001b[0m\u001b[1;33m:\u001b[0m\u001b[1;33m\u001b[0m\u001b[1;33m\u001b[0m\u001b[0m\n\u001b[1;32m----> 5\u001b[1;33m                 \u001b[0mnewpath\u001b[0m \u001b[1;33m=\u001b[0m \u001b[0mfind_path\u001b[0m\u001b[1;33m(\u001b[0m\u001b[0mgraph\u001b[0m\u001b[1;33m,\u001b[0m \u001b[0mend\u001b[0m\u001b[1;33m,\u001b[0m \u001b[0mnode\u001b[0m\u001b[1;33m,\u001b[0m \u001b[0mpath\u001b[0m\u001b[1;33m)\u001b[0m\u001b[1;33m\u001b[0m\u001b[1;33m\u001b[0m\u001b[0m\n\u001b[0m\u001b[0;32m      6\u001b[0m                 \u001b[1;32mif\u001b[0m \u001b[0mnewpath\u001b[0m\u001b[1;33m:\u001b[0m \u001b[1;32mreturn\u001b[0m \u001b[0mnewpath\u001b[0m\u001b[1;33m\u001b[0m\u001b[1;33m\u001b[0m\u001b[0m\n\u001b[0;32m      7\u001b[0m         \u001b[1;32mreturn\u001b[0m \u001b[1;32mNone\u001b[0m\u001b[1;33m\u001b[0m\u001b[1;33m\u001b[0m\u001b[0m\n",
      "\u001b[1;32m<ipython-input-18-2d6112bd18ab>\u001b[0m in \u001b[0;36mfind_path\u001b[1;34m(graph, end, start, path)\u001b[0m\n\u001b[0;32m      1\u001b[0m \u001b[1;32mdef\u001b[0m \u001b[0mfind_path\u001b[0m\u001b[1;33m(\u001b[0m\u001b[0mgraph\u001b[0m\u001b[1;33m,\u001b[0m \u001b[0mend\u001b[0m\u001b[1;33m,\u001b[0m \u001b[0mstart\u001b[0m\u001b[1;33m=\u001b[0m\u001b[1;34m\"oski\"\u001b[0m\u001b[1;33m,\u001b[0m \u001b[0mpath\u001b[0m\u001b[1;33m=\u001b[0m\u001b[1;33m[\u001b[0m\u001b[1;33m]\u001b[0m\u001b[1;33m)\u001b[0m\u001b[1;33m:\u001b[0m\u001b[1;33m\u001b[0m\u001b[1;33m\u001b[0m\u001b[0m\n\u001b[0;32m      2\u001b[0m         \u001b[0mpath\u001b[0m \u001b[1;33m=\u001b[0m \u001b[0mpath\u001b[0m \u001b[1;33m+\u001b[0m \u001b[1;33m[\u001b[0m\u001b[0mstart\u001b[0m\u001b[1;33m]\u001b[0m\u001b[1;33m\u001b[0m\u001b[1;33m\u001b[0m\u001b[0m\n\u001b[1;32m----> 3\u001b[1;33m         \u001b[1;32mfor\u001b[0m \u001b[0mnode\u001b[0m \u001b[1;32min\u001b[0m \u001b[0mgraph\u001b[0m\u001b[1;33m[\u001b[0m\u001b[0mstart\u001b[0m\u001b[1;33m]\u001b[0m\u001b[1;33m:\u001b[0m\u001b[1;33m\u001b[0m\u001b[1;33m\u001b[0m\u001b[0m\n\u001b[0m\u001b[0;32m      4\u001b[0m             \u001b[1;32mif\u001b[0m \u001b[0mnode\u001b[0m \u001b[1;32mnot\u001b[0m \u001b[1;32min\u001b[0m \u001b[0mpath\u001b[0m\u001b[1;33m:\u001b[0m\u001b[1;33m\u001b[0m\u001b[1;33m\u001b[0m\u001b[0m\n\u001b[0;32m      5\u001b[0m                 \u001b[0mnewpath\u001b[0m \u001b[1;33m=\u001b[0m \u001b[0mfind_path\u001b[0m\u001b[1;33m(\u001b[0m\u001b[0mgraph\u001b[0m\u001b[1;33m,\u001b[0m \u001b[0mend\u001b[0m\u001b[1;33m,\u001b[0m \u001b[0mnode\u001b[0m\u001b[1;33m,\u001b[0m \u001b[0mpath\u001b[0m\u001b[1;33m)\u001b[0m\u001b[1;33m\u001b[0m\u001b[1;33m\u001b[0m\u001b[0m\n",
      "\u001b[1;31mKeyError\u001b[0m: 'c'"
     ]
    }
   ],
   "source": [
    "def find_path(graph, end, start=\"oski\", path=[]):\n",
    "        path = path + [start]\n",
    "        for node in graph[start]:\n",
    "            if node not in path:\n",
    "                newpath = find_path(graph, end, node, path)\n",
    "                if newpath: return newpath\n",
    "        return None    \n",
    "print(find_path(Matrixes,\"001\"))"
   ]
  },
  {
   "cell_type": "code",
   "execution_count": null,
   "metadata": {},
   "outputs": [],
   "source": [
    "os = [0,0]\n",
    "os[0] = Matrixes[\"3\"][\"001\"]\n",
    "os[1] = Matrixes[\"-4\"][\"010\"]\n",
    "np.dot(np.array([-1,-1,-1]),os[0])"
   ]
  },
  {
   "cell_type": "code",
   "execution_count": null,
   "metadata": {},
   "outputs": [],
   "source": [
    "os = [0]*5\n",
    "os[0] = Matrixes[\"-4\"][\"001\"]\n",
    "os[1] = Matrixes[\"2\"][\"010\"]\n",
    "os[2] = np.dot(os[0],os[1])\n",
    "os[3] = np.dot(os[0],os[2])\n",
    "os[4] = np.dot(os[0],os[3])\n",
    "\n",
    "\n",
    "'''print(\"-4 001\",os[0],sep='\\n',end='\\n\\n')\n",
    "print(\"2 010\",os[1],sep='\\n',end='\\n\\n')\n",
    "print(\"m -110\",os[2],sep='\\n',end='\\n\\n')\n",
    "print('2 100',os[3],sep='\\n',end='\\n\\n')'''\n",
    "print('m 110',os[4],sep='\\n',end='\\n\\n')"
   ]
  },
  {
   "cell_type": "code",
   "execution_count": null,
   "metadata": {},
   "outputs": [],
   "source": [
    "\"\"\"Az4Ay4\"\"\" \n",
    "os = [Matrixes[\"-4\"][\"001\"],Matrixes[\"-4\"][\"010\"]]\n",
    "os1 = [Matrixes[\"4\"][\"001\"],Matrixes[\"4\"][\"010\"],Matrixes[\"c\"][\"000\"]]\n",
    "os2 = [Matrixes[\"2\"][\"001\"],Matrixes[\"2\"][\"010\"],Matrixes[\"c\"][\"000\"]]\n",
    "\n",
    "lolo = makeithappen(os1)\n",
    "\n",
    "np.linalg.inv()\n",
    "print(len(lolo))\n",
    "for punkt in lolo:\n",
    "    print(punkt,end='\\n\\n')"
   ]
  },
  {
   "cell_type": "code",
   "execution_count": null,
   "metadata": {},
   "outputs": [],
   "source": [
    "np.linalg.inv(lolo[numer])"
   ]
  },
  {
   "cell_type": "code",
   "execution_count": null,
   "metadata": {},
   "outputs": [],
   "source": [
    "numer = 4\n",
    "print(np.dot(lolo[numer],lolo[numer]))\n",
    "print(listadous(lolo[numer], np.array([1,1,0]),4))"
   ]
  },
  {
   "cell_type": "code",
   "execution_count": null,
   "metadata": {},
   "outputs": [],
   "source": [
    "for nr, oska in enumerate(os[2:]):\n",
    "    os[nr+2] = np.dot(os[0],os[nr+1])\n",
    "    if os[nr+2] in os[:nr+1]:\n",
    "        pass\n",
    "    \n",
    "        \n",
    "        \n",
    "for oska in os:\n",
    "    print(oska,end='\\n\\n')\n",
    "'''print(\"-4 001\",os[0],sep='\\n',end='\\n\\n')\n",
    "print(\"-4 010\",os[1],sep='\\n',end='\\n\\n')\n",
    "print(\"3 -111\",os[2],sep='\\n',end='\\n\\n')\n",
    "print('3 111',os[3],sep='\\n',end='\\n\\n')\n",
    "print('m -101',os[4],sep='\\n',end='\\n\\n')\n",
    "print(\"m 011\",os[5],sep='\\n',end='\\n\\n')\n",
    "print(\"-4 010\",os[6],sep='\\n',end='\\n\\n')\n",
    "print(\"3 -111\",os[7],sep='\\n',end='\\n\\n')'''\n",
    "None"
   ]
  },
  {
   "cell_type": "code",
   "execution_count": null,
   "metadata": {},
   "outputs": [],
   "source": [
    "'''slownik_operacji_minus43m = {\"-4\":Matrixes[\"-4\"],\n",
    "                             \"-3\":Matrixes[\"3\"][1:]}\n",
    "print(slownik_operacji_minus43m)\n",
    "#print(koordynaty)'''\n",
    "None"
   ]
  }
 ],
 "metadata": {
  "kernelspec": {
   "display_name": "Python 3",
   "language": "python",
   "name": "python3"
  },
  "language_info": {
   "codemirror_mode": {
    "name": "ipython",
    "version": 3
   },
   "file_extension": ".py",
   "mimetype": "text/x-python",
   "name": "python",
   "nbconvert_exporter": "python",
   "pygments_lexer": "ipython3",
   "version": "3.7.2"
  }
 },
 "nbformat": 4,
 "nbformat_minor": 2
}
