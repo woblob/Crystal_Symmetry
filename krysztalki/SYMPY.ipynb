{
 "cells": [
  {
   "cell_type": "code",
   "execution_count": 1,
   "metadata": {},
   "outputs": [],
   "source": [
    "import sympy as sp\n",
    "sp.init_printing(use_unicode=True)\n",
    "x,y,z = sp.symbols(\"x y z\")"
   ]
  },
  {
   "cell_type": "code",
   "execution_count": 2,
   "metadata": {},
   "outputs": [],
   "source": [
    "import numpy as np\n",
    "lines = [line.rstrip('\\n') for line in open('9008064.cif')]"
   ]
  },
  {
   "cell_type": "code",
   "execution_count": 3,
   "metadata": {},
   "outputs": [
    {
     "data": {
      "text/plain": [
       "['x,y,z',\n",
       " 'x,1/2+y,1/2+z',\n",
       " '1/2+x,y,1/2+z',\n",
       " '1/2+x,1/2+y,z',\n",
       " '-z,x,-y',\n",
       " '-z,1/2+x,1/2-y',\n",
       " '1/2-z,x,1/2-y',\n",
       " '1/2-z,1/2+x,-y',\n",
       " '-y,z,-x',\n",
       " '-y,1/2+z,1/2-x',\n",
       " '1/2-y,z,1/2-x',\n",
       " '1/2-y,1/2+z,-x',\n",
       " '-x,y,-z',\n",
       " '-x,1/2+y,1/2-z',\n",
       " '1/2-x,y,1/2-z',\n",
       " '1/2-x,1/2+y,-z',\n",
       " 'x,-z,-y',\n",
       " 'x,1/2-z,1/2-y',\n",
       " '1/2+x,-z,1/2-y',\n",
       " '1/2+x,1/2-z,-y',\n",
       " 'z,-y,-x',\n",
       " 'z,1/2-y,1/2-x',\n",
       " '1/2+z,-y,1/2-x',\n",
       " '1/2+z,1/2-y,-x',\n",
       " 'y,-x,-z',\n",
       " 'y,1/2-x,1/2-z',\n",
       " '1/2+y,-x,1/2-z',\n",
       " '1/2+y,1/2-x,-z',\n",
       " 'x,z,y',\n",
       " 'x,1/2+z,1/2+y',\n",
       " '1/2+x,z,1/2+y',\n",
       " '1/2+x,1/2+z,y',\n",
       " 'z,y,x',\n",
       " 'z,1/2+y,1/2+x',\n",
       " '1/2+z,y,1/2+x',\n",
       " '1/2+z,1/2+y,x',\n",
       " 'y,x,z',\n",
       " 'y,1/2+x,1/2+z',\n",
       " '1/2+y,x,1/2+z',\n",
       " '1/2+y,1/2+x,z',\n",
       " '-z,-x,y',\n",
       " '-z,1/2-x,1/2+y',\n",
       " '1/2-z,-x,1/2+y',\n",
       " '1/2-z,1/2-x,y',\n",
       " '-y,-z,x',\n",
       " '-y,1/2-z,1/2+x',\n",
       " '1/2-y,-z,1/2+x',\n",
       " '1/2-y,1/2-z,x',\n",
       " '-x,-y,z',\n",
       " '-x,1/2-y,1/2+z',\n",
       " '1/2-x,-y,1/2+z',\n",
       " '1/2-x,1/2-y,z',\n",
       " 'z,-x,-y',\n",
       " 'z,1/2-x,1/2-y',\n",
       " '1/2+z,-x,1/2-y',\n",
       " '1/2+z,1/2-x,-y',\n",
       " 'y,-z,-x',\n",
       " 'y,1/2-z,1/2-x',\n",
       " '1/2+y,-z,1/2-x',\n",
       " '1/2+y,1/2-z,-x',\n",
       " 'x,-y,-z',\n",
       " 'x,1/2-y,1/2-z',\n",
       " '1/2+x,-y,1/2-z',\n",
       " '1/2+x,1/2-y,-z',\n",
       " '-x,z,-y',\n",
       " '-x,1/2+z,1/2-y',\n",
       " '1/2-x,z,1/2-y',\n",
       " '1/2-x,1/2+z,-y',\n",
       " '-z,y,-x',\n",
       " '-z,1/2+y,1/2-x',\n",
       " '1/2-z,y,1/2-x',\n",
       " '1/2-z,1/2+y,-x',\n",
       " '-y,x,-z',\n",
       " '-y,1/2+x,1/2-z',\n",
       " '1/2-y,x,1/2-z',\n",
       " '1/2-y,1/2+x,-z',\n",
       " '-x,-z,y',\n",
       " '-x,1/2-z,1/2+y',\n",
       " '1/2-x,-z,1/2+y',\n",
       " '1/2-x,1/2-z,y',\n",
       " '-z,-y,x',\n",
       " '-z,1/2-y,1/2+x',\n",
       " '1/2-z,-y,1/2+x',\n",
       " '1/2-z,1/2-y,x',\n",
       " '-y,-x,z',\n",
       " '-y,1/2-x,1/2+z',\n",
       " '1/2-y,-x,1/2+z',\n",
       " '1/2-y,1/2-x,z',\n",
       " 'z,x,y',\n",
       " 'z,1/2+x,1/2+y',\n",
       " '1/2+z,x,1/2+y',\n",
       " '1/2+z,1/2+x,y',\n",
       " 'y,z,x',\n",
       " 'y,1/2+z,1/2+x',\n",
       " '1/2+y,z,1/2+x',\n",
       " '1/2+y,1/2+z,x',\n",
       " 'loop_',\n",
       " '_atom_site_label',\n",
       " '_atom_site_fract_x',\n",
       " '_atom_site_fract_y',\n",
       " '_atom_site_fract_z',\n",
       " 'Cu1 0.25000 0.25000 0.25000',\n",
       " 'Cu2 0.50000 0.50000 0.50000',\n",
       " 'Se 0.00000 0.00000 0.00000',\n",
       " '_journal_paper_doi 10.1524/zkri.1945.106.1.5']"
      ]
     },
     "execution_count": 3,
     "metadata": {},
     "output_type": "execute_result"
    }
   ],
   "source": [
    "lines[44:]"
   ]
  },
  {
   "cell_type": "code",
   "execution_count": 4,
   "metadata": {},
   "outputs": [
    {
     "name": "stdout",
     "output_type": "stream",
     "text": [
      "-0.50\n",
      "1/2-z\n"
     ]
    }
   ],
   "source": [
    "cord = lines[50].split(',')[0]\n",
    "cosos = sp.sympify(cord).subs(z,1).evalf(2)\n",
    "print(cosos)\n",
    "print(cord)\n"
   ]
  },
  {
   "cell_type": "code",
   "execution_count": 5,
   "metadata": {},
   "outputs": [
    {
     "data": {
      "image/png": "[encoded data removed]",
      "text/latex": [
       "$$-1.5$$"
      ],
      "text/plain": [
       "-1.50000000000000"
      ]
     },
     "execution_count": 5,
     "metadata": {},
     "output_type": "execute_result"
    }
   ],
   "source": [
    "sp.sympify(lines[50])[2].evalf(subs={x: 1,y:2,z:3})"
   ]
  },
  {
   "cell_type": "code",
   "execution_count": 34,
   "metadata": {},
   "outputs": [
    {
     "name": "stdout",
     "output_type": "stream",
     "text": [
      "[[-0.5  -0.5   0.5 ]\n",
      " [-0.5   0.    1.  ]\n",
      " [-0.5   0.5  -0.5 ]\n",
      " [-0.5   1.    0.  ]\n",
      " [-0.25 -0.25  0.25]\n",
      " [-0.25  0.25 -0.25]\n",
      " [-0.25  0.25  0.75]\n",
      " [-0.25  0.75  0.25]\n",
      " [ 0.    0.    0.  ]\n",
      " [ 0.    0.5   0.5 ]\n",
      " [ 0.   -0.5   1.  ]\n",
      " [ 0.    0.    0.5 ]\n",
      " [ 0.    0.5   0.  ]\n",
      " [ 0.    1.   -0.5 ]\n",
      " [ 0.25 -0.25 -0.25]\n",
      " [ 0.25 -0.25  0.75]\n",
      " [ 0.25  0.25  0.25]\n",
      " [ 0.25  0.75 -0.25]\n",
      " [ 0.25  0.75  0.75]\n",
      " [ 0.5  -0.5  -0.5 ]\n",
      " [ 0.5   0.    0.5 ]\n",
      " [ 0.5   0.    0.  ]\n",
      " [ 0.5   0.5   0.  ]\n",
      " [ 0.5   0.5   0.5 ]\n",
      " [ 0.5   1.    1.  ]\n",
      " [ 0.75 -0.25  0.25]\n",
      " [ 0.75  0.25 -0.25]\n",
      " [ 0.75  0.25  0.75]\n",
      " [ 0.75  0.75  0.25]\n",
      " [ 1.   -0.5   0.  ]\n",
      " [ 1.    0.   -0.5 ]\n",
      " [ 1.    0.5   1.  ]\n",
      " [ 1.    1.    0.5 ]]\n"
     ]
    }
   ],
   "source": [
    "SUBS = {x: 0,y:0,z:0}, {x: 0.25,y:0.25,z:0.25}, {x:0.5,y:0.5,z:0.5}\n",
    "mojekoord = []\n",
    "for SUB in SUBS:\n",
    "    for line in lines[44:140]:\n",
    "        koord = line.split(',')\n",
    "        mojalista = []\n",
    "        for i in range(3):\n",
    "            expr = float(sp.sympify(line)[i].evalf(2,subs=SUB))\n",
    "            mojalista.append(expr)\n",
    "        mojekoord.append(mojalista)\n",
    "cell = np.around(np.unique(mojekoord,axis = 0),4)\n",
    "print(cell)    "
   ]
  },
  {
   "cell_type": "code",
   "execution_count": 42,
   "metadata": {},
   "outputs": [
    {
     "name": "stdout",
     "output_type": "stream",
     "text": [
      "[-0.5 -0.5]\n"
     ]
    }
   ],
   "source": [
    "print(cell[0][cell[0]<0])"
   ]
  },
  {
   "cell_type": "code",
   "execution_count": null,
   "metadata": {},
   "outputs": [],
   "source": [
    "cell[cell<0] += 1"
   ]
  },
  {
   "cell_type": "code",
   "execution_count": 33,
   "metadata": {
    "scrolled": false
   },
   "outputs": [
    {
     "name": "stdout",
     "output_type": "stream",
     "text": [
      "33\n",
      "21\n",
      "[[0.   0.   0.  ]\n",
      " [0.   0.   0.5 ]\n",
      " [0.   0.5  0.  ]\n",
      " [0.   0.5  0.5 ]\n",
      " [0.   0.5  1.  ]\n",
      " [0.   1.   0.5 ]\n",
      " [0.25 0.25 0.25]\n",
      " [0.25 0.75 0.75]\n",
      " [0.5  0.   0.  ]\n",
      " [0.5  0.   0.5 ]\n",
      " [0.5  0.   1.  ]\n",
      " [0.5  0.5  0.  ]\n",
      " [0.5  0.5  0.5 ]\n",
      " [0.5  1.   0.  ]\n",
      " [0.5  1.   1.  ]\n",
      " [0.75 0.25 0.75]\n",
      " [0.75 0.75 0.25]\n",
      " [1.   0.   0.5 ]\n",
      " [1.   0.5  0.  ]\n",
      " [1.   0.5  1.  ]\n",
      " [1.   1.   0.5 ]]\n"
     ]
    }
   ],
   "source": [
    "print(len(cell))\n",
    "sortedcell = np.unique(cell,axis = 0)\n",
    "print(len(sortedcell),sortedcell,sep = '\\n')"
   ]
  },
  {
   "cell_type": "code",
   "execution_count": 7,
   "metadata": {},
   "outputs": [],
   "source": [
    "line = lines[45]\n",
    "xk,yk,zk = line.split(',')"
   ]
  },
  {
   "cell_type": "code",
   "execution_count": 8,
   "metadata": {},
   "outputs": [
    {
     "data": {
      "image/png": "[encoded data removed]",
      "text/latex": [
       "$$1$$"
      ],
      "text/plain": [
       "1"
      ]
     },
     "execution_count": 8,
     "metadata": {},
     "output_type": "execute_result"
    }
   ],
   "source": [
    "(y.subs(y,yk)).subs(yk,1)"
   ]
  },
  {
   "cell_type": "code",
   "execution_count": 9,
   "metadata": {},
   "outputs": [
    {
     "data": {
      "image/png": "[encoded data removed]",
      "text/latex": [
       "$$1/2+y$$"
      ],
      "text/plain": [
       "1/2+y"
      ]
     },
     "execution_count": 9,
     "metadata": {},
     "output_type": "execute_result"
    }
   ],
   "source": [
    "x.subs(x,yk)"
   ]
  },
  {
   "cell_type": "code",
   "execution_count": 10,
   "metadata": {},
   "outputs": [
    {
     "data": {
      "text/latex": [
       "$$\\left[\\begin{matrix}0 & 0 & 1\\\\-1 & 0 & 0\\\\0 & -1 & 0\\end{matrix}\\right]$$"
      ],
      "text/plain": [
       "⎡0   0   1⎤\n",
       "⎢         ⎥\n",
       "⎢-1  0   0⎥\n",
       "⎢         ⎥\n",
       "⎣0   -1  0⎦"
      ]
     },
     "execution_count": 10,
     "metadata": {},
     "output_type": "execute_result"
    }
   ],
   "source": [
    "import sympy as sp\n",
    "sp.init_printing(use_unicode=True)\n",
    "\n",
    "x,y,z = sp.pi/2,0,sp.pi/2 #x,45/180*sp.pi,sp.pi/3\n",
    "#x,y,z = sp.symbols(\"x y z\")\n",
    "\n",
    "a = sp.Matrix([[sp.cos(x),sp.sin(x),0],[-sp.sin(x),sp.cos(x),0],[0,0,1]])\n",
    "b = sp.Matrix([[sp.cos(y),sp.sin(y),0],[-sp.sin(y),sp.cos(y),0],[0,0,1]])\n",
    "c = sp.Matrix([[sp.cos(z),0,sp.sin(z)],[0,1,0],[-sp.sin(z),0,sp.cos(z)]])\n",
    "d = b*c*a\n",
    "d#sp.trigsimp(d)"
   ]
  }
 ],
 "metadata": {
  "kernelspec": {
   "display_name": "Python 3",
   "language": "python",
   "name": "python3"
  },
  "language_info": {
   "codemirror_mode": {
    "name": "ipython",
    "version": 3
   },
   "file_extension": ".py",
   "mimetype": "text/x-python",
   "name": "python",
   "nbconvert_exporter": "python",
   "pygments_lexer": "ipython3",
   "version": "3.7.2"
  }
 },
 "nbformat": 4,
 "nbformat_minor": 2
}
