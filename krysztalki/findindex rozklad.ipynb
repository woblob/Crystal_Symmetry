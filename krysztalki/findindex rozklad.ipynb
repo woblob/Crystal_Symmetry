{
 "cells": [
  {
   "cell_type": "code",
   "execution_count": null,
   "metadata": {},
   "outputs": [],
   "source": [
    "def findindexmod2(szukana, lista): \n",
    "    numL, numR = 0, len(lista[0])\n",
    "    indexL, indexR = 0, len(lista[0])\n",
    "    for abc in range(len(lista)):\n",
    "        przech = (numL, numR)\n",
    "        print(numL, numR)\n",
    "        print(\"szukam\")\n",
    "        numR = BSR(lista[abc][indexL: indexR], szukana[abc])\n",
    "        numL = BSL(lista[abc][indexL: indexR], szukana[abc])\n",
    "        print(numL, numR)\n",
    "        print(lista[abc][(indexL+numL):(indexL+numR)])\n",
    "        if numL < numR:\n",
    "            indexL += numL\n",
    "            indexR = indexL + numR\n",
    "            print(\"woblob\")\n",
    "            print(numL,numR,indexL,indexR)\n",
    "            print()\n",
    "        elif numL == numR:\n",
    "            print(\"papa\")\n",
    "            return indexL #+ numL\n",
    "        else:\n",
    "            return -1            \n",
    "    return indexL \n",
    "\n",
    "pmck = komorka.T\n",
    "N = 16\n",
    "arr = komorka[N]\n",
    "indx = findindexmod2(arr, pmck)\n",
    "print(indx,komorka[indx])\n",
    "print(N,arr)\n",
    "\n",
    "count = 0\n",
    "for nr, pnkt in enumerate(komorka[:36]):\n",
    "    idx = findindexmod2(pnkt, pmck)\n",
    "    if idx!=nr:\n",
    "        print( nr,idx)\n",
    "        count += 1\n",
    "print(count)"
   ]
  },
  {
   "cell_type": "code",
   "execution_count": 49,
   "metadata": {},
   "outputs": [
    {
     "name": "stdout",
     "output_type": "stream",
     "text": [
      "13\n"
     ]
    }
   ],
   "source": [
    "N = 16\n",
    "szukana = komorka[N]\n",
    "lista = komorka.T\n",
    "numL, numR = 0, len(lista[0])\n",
    "indexL, indexR = 0, len(lista[0])\n",
    "for _ in range(1):#range(len(lista)): abc\n",
    "    przech = (numL, numR)\n",
    "    # print(numL, numR)\n",
    "    # print(\"szukam\")\n",
    "    numR = BSR(lista[0][indexL: indexR], szukana[0])\n",
    "    numL = BSL(lista[0][indexL: indexR], szukana[0])\n",
    "    # print(numL, numR)\n",
    "    # print(lista[0][(indexL+numL):(indexL+numR)])\n",
    "    if numL < numR:\n",
    "        indexL += numL\n",
    "        indexR = indexL + numR\n",
    "    #     print(\"woblob\")\n",
    "    #     print(numL,numR,indexL,indexR)\n",
    "    #     print()\n",
    "    elif numL == numR:\n",
    "    #     print(\"papa\")\n",
    "        print(indexL) #+ numL\n",
    "        break\n",
    "    else:\n",
    "        print(-1)    \n",
    "        break\n",
    "            \n",
    "#print(indexL)"
   ]
  },
  {
   "cell_type": "code",
   "execution_count": 204,
   "metadata": {},
   "outputs": [
    {
     "name": "stdout",
     "output_type": "stream",
     "text": [
      "0\n",
      "-1 [1. 1. 1.]\n",
      "16 [1.25 1.75 2.25]\n",
      "3\n"
     ]
    }
   ],
   "source": [
    "def findindexmodxd(szukana, lista):         \n",
    "    numL, numR = 0, len(lista[0])\n",
    "    indexL, indexR = 0, len(lista[0])        \n",
    "    for abc in range(len(lista)): \n",
    "        numR = BSR(lista[abc][indexL: indexR], szukana[abc])\n",
    "        numL = BSL(lista[abc][indexL: indexR], szukana[abc])\n",
    "        if numL < numR:\n",
    "            indexR = indexL + numR\n",
    "            indexL += numL\n",
    "        elif numL == numR:\n",
    "            print(abc)\n",
    "            if porownajPunkty(lista[:,indexL].T,szukana):\n",
    "                return indexL        \n",
    "            else:\n",
    "                return -1 \n",
    "        else:\n",
    "            return -1 \n",
    "    return indexL \n",
    "\n",
    "pmck = komorka.T\n",
    "N = 16\n",
    "arr = komorka[N]+2\n",
    "indx = findindexmodxd(arr, pmck)\n",
    "print(indx,komorka[indx])\n",
    "print(N,arr)\n",
    "\n",
    "# count = 0\n",
    "# for nr, pnkt in enumerate(komorka):\n",
    "#     idx = findindexmodxd(pnkt, pmck)\n",
    "#     if idx!=nr:\n",
    "#         print( nr,idx)\n",
    "#         count += 1\n",
    "count += 1\n",
    "print(count)"
   ]
  },
  {
   "cell_type": "code",
   "execution_count": 168,
   "metadata": {},
   "outputs": [],
   "source": [
    "from MMfunc import *\n",
    "\n",
    "Matrixes = generateSymetryBase()\n",
    "koordynaty = np.array([[0,0,0],[0,0,1],[0,1,0],[1,1,0],[1,0,0],[1,1,1],[1,0,1],[0,1,1],\n",
    "              [0.5,0.5,0],[0.5,0,0.5],[0,0.5,0.5],[0.5,0.5,1],[0.5,1,0.5],[1,0.5,0.5],\n",
    "             [0.75,0.25,0.25],[0.25,0.75,0.25],[0.25,0.25,0.75],[0.75,0.75,0.75]])\n",
    "\n",
    "oski1 = [Matrixes[\"m\"][os] for os in Matrixes[\"m\"]][3:] \n",
    "oski2 =  [Matrixes[\"-4\"][os] for os in Matrixes[\"-4\"]] + [Matrixes[\"3\"][os] for os in Matrixes[\"3\"]][1:]\n",
    "oski = oski1 + oski2\n",
    "komorka = supercell(koordynaty, size = 2)\n",
    "mojalista1 = usunkoor(komorka, oski) "
   ]
  },
  {
   "cell_type": "code",
   "execution_count": 192,
   "metadata": {},
   "outputs": [
    {
     "name": "stdout",
     "output_type": "stream",
     "text": [
      "[-0.5  0.5  0. ]\n"
     ]
    }
   ],
   "source": [
    "N = 29\n",
    "szukana = komorka[N]\n",
    "lista = komorka.T\n",
    "print(szukana)\n",
    "numL, numR = 0, len(lista[0])\n",
    "indexL, indexR = 0, len(lista[0])\n",
    "#print(indexL, indexR)"
   ]
  },
  {
   "cell_type": "code",
   "execution_count": 193,
   "metadata": {},
   "outputs": [
    {
     "name": "stdout",
     "output_type": "stream",
     "text": [
      "0 95\n",
      "21 33\n",
      "\n",
      "abs(numR - indexR) =  62\n",
      "21 33\n",
      "21 33\n"
     ]
    }
   ],
   "source": [
    "#przech = (numL, numR)\n",
    "numR = BSR(lista[0][indexL: indexR], szukana[0])\n",
    "numL = BSL(lista[0][indexL: indexR], szukana[0])\n",
    "if numL < numR:\n",
    "    print(indexL, indexR)\n",
    "    print(numL, numR)\n",
    "    print()\n",
    "    print(\"abs(numR - indexR) = \",abs(numR - indexR) )\n",
    "    indexR = indexL + numR\n",
    "    indexL += numL\n",
    "#     indexR = len(lista[0]) - abs(numR - indexR) \n",
    "#     indexR = numR\n",
    "    print(indexL, indexR)\n",
    "    print(numL, numR)\n",
    "elif numL == numR:\n",
    "    print(indexL)         \n",
    "else:\n",
    "    print(-1)  "
   ]
  },
  {
   "cell_type": "code",
   "execution_count": 190,
   "metadata": {},
   "outputs": [
    {
     "name": "stdout",
     "output_type": "stream",
     "text": [
      "[[-0.5 -1.  -0.5]\n",
      " [-0.5 -1.   0.5]\n",
      " [-0.5 -0.5 -1. ]\n",
      " [-0.5 -0.5  0. ]\n",
      " [-0.5 -0.5  1. ]\n",
      " [-0.5  0.  -0.5]\n",
      " [-0.5  0.   0.5]\n",
      " [-0.5  0.5 -1. ]\n",
      " [-0.5  0.5  0. ]\n",
      " [-0.5  0.5  1. ]\n",
      " [-0.5  1.  -0.5]\n",
      " [-0.5  1.   0.5]]\n",
      "[-0.5  0.5  0. ]\n"
     ]
    }
   ],
   "source": [
    "print(komorka[indexL: indexR])\n",
    "print(szukana)"
   ]
  },
  {
   "cell_type": "code",
   "execution_count": 194,
   "metadata": {},
   "outputs": [
    {
     "name": "stdout",
     "output_type": "stream",
     "text": [
      "21 33\n",
      "7 10\n",
      "\n",
      "abs(numR - indexR) =  23\n",
      "28 31\n",
      "7 10\n"
     ]
    }
   ],
   "source": [
    "# przech = (numL, numR)\n",
    "numR = BSR(lista[1][indexL: indexR], szukana[1])\n",
    "numL = BSL(lista[1][indexL: indexR], szukana[1])\n",
    "if numL < numR:\n",
    "    print(indexL, indexR)\n",
    "    print(numL, numR)\n",
    "    print()\n",
    "    print(\"abs(numR - indexR) = \",abs(numR - indexR) )\n",
    "    indexR = indexL + numR\n",
    "    indexL += numL\n",
    "#     indexR = abs(numR - indexR) \n",
    "#     indexR = indexL + numR\n",
    "    \n",
    "    print(indexL, indexR)\n",
    "    print(numL, numR)\n",
    "elif numL == numR:\n",
    "    print(indexL)         \n",
    "else:\n",
    "    print(-1)  "
   ]
  },
  {
   "cell_type": "code",
   "execution_count": 185,
   "metadata": {},
   "outputs": [
    {
     "data": {
      "text/plain": [
       "array([[-0.5,  0.5, -1. ],\n",
       "       [-0.5,  0.5,  0. ],\n",
       "       [-0.5,  0.5,  1. ]])"
      ]
     },
     "execution_count": 185,
     "metadata": {},
     "output_type": "execute_result"
    }
   ],
   "source": [
    "komorka[28:31] "
   ]
  },
  {
   "cell_type": "code",
   "execution_count": 195,
   "metadata": {},
   "outputs": [
    {
     "name": "stdout",
     "output_type": "stream",
     "text": [
      "28 31\n",
      "1 2\n",
      "\n",
      "abs(numR - indexR) =  29\n",
      "29 30\n",
      "1 2\n",
      "[-0.5  0.5  0. ]\n",
      "N == 29 : True\n"
     ]
    }
   ],
   "source": [
    "numR = BSR(lista[2][indexL: indexR], szukana[2])\n",
    "numL = BSL(lista[2][indexL: indexR], szukana[2])\n",
    "if numL < numR:\n",
    "    print(indexL, indexR)\n",
    "    print(numL, numR)\n",
    "    print()\n",
    "    print(\"abs(numR - indexR) = \",abs(numR - indexR) )\n",
    "    indexR = indexL + numR\n",
    "    indexL += numL\n",
    "#     indexR = abs(numR - indexR) \n",
    "#     indexR = indexL + numR\n",
    "    \n",
    "    print(indexL, indexR)\n",
    "    print(numL, numR)\n",
    "elif numL == numR:\n",
    "    print(indexL)         \n",
    "else:\n",
    "    print(-1)  \n",
    "print(komorka[N])\n",
    "if N==indexL:\n",
    "    print(\"N ==\",indexL,\":\",True)\n",
    "else:\n",
    "    print(N,\" != \",indexL)"
   ]
  }
 ],
 "metadata": {
  "kernelspec": {
   "display_name": "Python 3",
   "language": "python",
   "name": "python3"
  },
  "language_info": {
   "codemirror_mode": {
    "name": "ipython",
    "version": 3
   },
   "file_extension": ".py",
   "mimetype": "text/x-python",
   "name": "python",
   "nbconvert_exporter": "python",
   "pygments_lexer": "ipython3",
   "version": "3.7.2"
  }
 },
 "nbformat": 4,
 "nbformat_minor": 2
}
