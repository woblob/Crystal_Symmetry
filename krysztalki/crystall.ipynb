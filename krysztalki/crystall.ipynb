{
 "cells": [
  {
   "cell_type": "code",
   "execution_count": 1,
   "metadata": {},
   "outputs": [],
   "source": [
    "from crystals import Crystal\n",
    "import numpy as np\n",
    "\n",
    "def allEqPoints(CELL):\n",
    "    CELLwith0s = CELL[~CELL.all(axis=1)]\n",
    "    for point in CELLwith0s:\n",
    "        CELL = np.append(CELL,eqPoints(point),axis =0)\n",
    "    return np.unique(CELL,axis=0)\n",
    "\n",
    "def eqPoints(POINT):\n",
    "    zera = np.where(POINT == 0)[0]\n",
    "    ilepow = 2**zera.size\n",
    "    mylist = np.empty((ilepow-1,3))\n",
    "    for n in range(1,ilepow):\n",
    "        val = f\"{n:b}\" \n",
    "        jkl = zera.size - len(val)\n",
    "        if jkl:\n",
    "            val = '0'*jkl + val\n",
    "        NP = POINT.copy()\n",
    "        for indexV, indexP in enumerate(zera):\n",
    "            if int(val[indexV]):\n",
    "                NP[indexP] += 1\n",
    "        mylist[n-1] = NP\n",
    "    return mylist\n",
    "\n",
    "def getSCellFromFile(filename,size = 1): \n",
    "    file = Crystal.from_cif(filename)  \n",
    "    points = file.supercell(size,size,size).itersorted()   \n",
    "    if size%2:\n",
    "        cell = np.array([1,1,1])\n",
    "    else:\n",
    "        cell = points.__next__().coords_fractional/(size/2)-1   \n",
    "    for el in points:\n",
    "        cell = np.vstack((cell,el.coords_fractional/(size/2)-1))\n",
    "    return allEqPoints(cell)"
   ]
  }
 ],
 "metadata": {
  "kernelspec": {
   "display_name": "Python 3",
   "language": "python",
   "name": "python3"
  },
  "language_info": {
   "codemirror_mode": {
    "name": "ipython",
    "version": 3
   },
   "file_extension": ".py",
   "mimetype": "text/x-python",
   "name": "python",
   "nbconvert_exporter": "python",
   "pygments_lexer": "ipython3",
   "version": "3.7.3"
  }
 },
 "nbformat": 4,
 "nbformat_minor": 2
}
