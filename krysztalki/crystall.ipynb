{
 "cells": [
  {
   "cell_type": "code",
   "execution_count": 1,
   "metadata": {},
   "outputs": [],
   "source": [
    "from crystals import Crystal"
   ]
  },
  {
   "cell_type": "code",
   "execution_count": 33,
   "metadata": {},
   "outputs": [
    {
     "data": {
      "text/plain": [
       "< Supercell object with following unit cell:\n",
       "    Atom Cl @ (0.50, 0.00, 0.00)\n",
       "    Atom Cl @ (0.50, 0.00, 1.00)\n",
       "    Atom Cl @ (0.50, 0.50, 0.50)\n",
       "    Atom Cl @ (0.50, 0.50, 1.50)\n",
       "    Atom Cl @ (0.00, 0.50, 0.00)\n",
       "    Atom Cl @ (0.00, 0.50, 1.00)\n",
       "    Atom Cl @ (0.00, 0.00, 0.50)\n",
       "    Atom Cl @ (0.00, 0.00, 1.50)\n",
       "    Atom Na @ (0.00, 0.00, 0.00)\n",
       "    Atom Na @ (0.00, 0.00, 1.00)\n",
       "    Atom Na @ (0.00, 0.50, 0.50)\n",
       "    Atom Na @ (0.00, 0.50, 1.50)\n",
       "    Atom Na @ (0.50, 0.50, 0.00)\n",
       "    Atom Na @ (0.50, 0.50, 1.00)\n",
       "    Atom Na @ (0.50, 0.00, 0.50)\n",
       "    Atom Na @ (0.50, 0.00, 1.50)\n",
       "Lattice parameters:\n",
       "    a=5.620Å, b=5.620Å, c=5.620Å\n",
       "    α=90.000°, β=90.000°, γ=90.000°\n",
       "Chemical composition:\n",
       "Supercell dimensions:\n",
       "    1 x 1 x 2\n",
       "    Na: 50.000%\n",
       "    Cl: 50.000%\n",
       "Source: \n",
       "    COD num:1000041 rev:None >"
      ]
     },
     "execution_count": 33,
     "metadata": {},
     "output_type": "execute_result"
    }
   ],
   "source": [
    "vo2 = Crystal.from_cod(1000041)\n",
    " \n",
    "vo2.supercell(1,1,2)"
   ]
  },
  {
   "cell_type": "code",
   "execution_count": 34,
   "metadata": {},
   "outputs": [
    {
     "data": {
      "text/plain": [
       "{'international_symbol': 'Fm-3m',\n",
       " 'hall_symbol': '-F 4 2 3',\n",
       " 'hm_symbol': 'Fm-3m',\n",
       " 'centering': <CenteringType.face_centered: 'F'>,\n",
       " 'international_number': 225,\n",
       " 'hall_number': 523,\n",
       " 'international_full': 'F 4/m -3 2/m',\n",
       " 'pointgroup': 'Oh'}"
      ]
     },
     "execution_count": 34,
     "metadata": {},
     "output_type": "execute_result"
    }
   ],
   "source": [
    "vo2.symmetry()"
   ]
  },
  {
   "cell_type": "code",
   "execution_count": null,
   "metadata": {},
   "outputs": [],
   "source": []
  }
 ],
 "metadata": {
  "kernelspec": {
   "display_name": "Python 3",
   "language": "python",
   "name": "python3"
  },
  "language_info": {
   "codemirror_mode": {
    "name": "ipython",
    "version": 3
   },
   "file_extension": ".py",
   "mimetype": "text/x-python",
   "name": "python",
   "nbconvert_exporter": "python",
   "pygments_lexer": "ipython3",
   "version": "3.7.2"
  }
 },
 "nbformat": 4,
 "nbformat_minor": 2
}
