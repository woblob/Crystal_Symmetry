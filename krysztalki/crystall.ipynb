{
 "cells": [
  {
   "cell_type": "code",
   "execution_count": 2,
   "metadata": {},
   "outputs": [],
   "source": [
    "from crystals import Crystal"
   ]
  },
  {
   "cell_type": "code",
   "execution_count": 3,
   "metadata": {},
   "outputs": [],
   "source": [
    "vo2 = Crystal.from_cod(1000041)\n",
    " "
   ]
  },
  {
   "cell_type": "code",
   "execution_count": 4,
   "metadata": {},
   "outputs": [
    {
     "data": {
      "text/plain": [
       "< Supercell object with following unit cell:\n",
       "    Atom Cl @ (0.50, 0.50, 0.50)\n",
       "    Atom Cl @ (0.50, 0.50, 1.50)\n",
       "    Atom Cl @ (0.50, 1.50, 0.50)\n",
       "    Atom Cl @ (0.50, 1.50, 1.50)\n",
       "    Atom Cl @ (1.50, 0.50, 0.50)\n",
       "    Atom Cl @ (1.50, 0.50, 1.50)\n",
       "    Atom Cl @ (1.50, 1.50, 0.50)\n",
       "    Atom Cl @ (1.50, 1.50, 1.50)\n",
       "    Atom Cl @ (0.00, 0.00, 0.50)\n",
       "    Atom Cl @ (0.00, 0.00, 1.50)\n",
       "    Atom Cl @ (0.00, 1.00, 0.50)\n",
       "    Atom Cl @ (0.00, 1.00, 1.50)\n",
       "    Atom Cl @ (1.00, 0.00, 0.50)\n",
       "    Atom Cl @ (1.00, 0.00, 1.50)\n",
       "    Atom Cl @ (1.00, 1.00, 0.50)\n",
       "    Atom Cl @ (1.00, 1.00, 1.50)\n",
       "    Atom Cl @ (0.50, 0.00, 0.00)\n",
       "    Atom Cl @ (0.50, 0.00, 1.00)\n",
       "    Atom Cl @ (0.50, 1.00, 0.00)\n",
       "    Atom Cl @ (0.50, 1.00, 1.00)\n",
       "    Atom Cl @ (1.50, 0.00, 0.00)\n",
       "    Atom Cl @ (1.50, 0.00, 1.00)\n",
       "    Atom Cl @ (1.50, 1.00, 0.00)\n",
       "    Atom Cl @ (1.50, 1.00, 1.00)\n",
       "    Atom Cl @ (0.00, 0.50, 0.00)\n",
       "    Atom Cl @ (0.00, 0.50, 1.00)\n",
       "    Atom Cl @ (0.00, 1.50, 0.00)\n",
       "    Atom Cl @ (0.00, 1.50, 1.00)\n",
       "    Atom Cl @ (1.00, 0.50, 0.00)\n",
       "    Atom Cl @ (1.00, 0.50, 1.00)\n",
       "    Atom Cl @ (1.00, 1.50, 0.00)\n",
       "    Atom Cl @ (1.00, 1.50, 1.00)\n",
       "    Atom Na @ (0.50, 0.50, 0.00)\n",
       "    Atom Na @ (0.50, 0.50, 1.00)\n",
       "    Atom Na @ (0.50, 1.50, 0.00)\n",
       "    Atom Na @ (0.50, 1.50, 1.00)\n",
       "    Atom Na @ (1.50, 0.50, 0.00)\n",
       "    Atom Na @ (1.50, 0.50, 1.00)\n",
       "    Atom Na @ (1.50, 1.50, 0.00)\n",
       "    Atom Na @ (1.50, 1.50, 1.00)\n",
       "    Atom Na @ (0.50, 0.00, 0.50)\n",
       "    Atom Na @ (0.50, 0.00, 1.50)\n",
       "    Atom Na @ (0.50, 1.00, 0.50)\n",
       "    Atom Na @ (0.50, 1.00, 1.50)\n",
       "    Atom Na @ (1.50, 0.00, 0.50)\n",
       "    Atom Na @ (1.50, 0.00, 1.50)\n",
       "    Atom Na @ (1.50, 1.00, 0.50)\n",
       "    Atom Na @ (1.50, 1.00, 1.50)\n",
       "    Atom Na @ (0.00, 0.50, 0.50)\n",
       "    Atom Na @ (0.00, 0.50, 1.50)\n",
       "    Atom Na @ (0.00, 1.50, 0.50)\n",
       "    Atom Na @ (0.00, 1.50, 1.50)\n",
       "    Atom Na @ (1.00, 0.50, 0.50)\n",
       "    Atom Na @ (1.00, 0.50, 1.50)\n",
       "    Atom Na @ (1.00, 1.50, 0.50)\n",
       "    Atom Na @ (1.00, 1.50, 1.50)\n",
       "    Atom Na @ (0.00, 0.00, 0.00)\n",
       "    Atom Na @ (0.00, 0.00, 1.00)\n",
       "    Atom Na @ (0.00, 1.00, 0.00)\n",
       "    Atom Na @ (0.00, 1.00, 1.00)\n",
       "    Atom Na @ (1.00, 0.00, 0.00)\n",
       "    Atom Na @ (1.00, 0.00, 1.00)\n",
       "    Atom Na @ (1.00, 1.00, 0.00)\n",
       "    Atom Na @ (1.00, 1.00, 1.00)\n",
       "Lattice parameters:\n",
       "    a=5.620Å, b=5.620Å, c=5.620Å\n",
       "    α=90.000°, β=90.000°, γ=90.000°\n",
       "Chemical composition:\n",
       "Supercell dimensions:\n",
       "    2 x 2 x 2\n",
       "    Na: 50.000%\n",
       "    Cl: 50.000%\n",
       "Source: \n",
       "    COD num:1000041 rev:None >"
      ]
     },
     "execution_count": 4,
     "metadata": {},
     "output_type": "execute_result"
    }
   ],
   "source": [
    "vo2.supercell(2,2,2)"
   ]
  },
  {
   "cell_type": "code",
   "execution_count": 34,
   "metadata": {},
   "outputs": [
    {
     "data": {
      "text/plain": [
       "{'international_symbol': 'Fm-3m',\n",
       " 'hall_symbol': '-F 4 2 3',\n",
       " 'hm_symbol': 'Fm-3m',\n",
       " 'centering': <CenteringType.face_centered: 'F'>,\n",
       " 'international_number': 225,\n",
       " 'hall_number': 523,\n",
       " 'international_full': 'F 4/m -3 2/m',\n",
       " 'pointgroup': 'Oh'}"
      ]
     },
     "execution_count": 34,
     "metadata": {},
     "output_type": "execute_result"
    }
   ],
   "source": [
    "vo2.symmetry()"
   ]
  },
  {
   "cell_type": "code",
   "execution_count": null,
   "metadata": {},
   "outputs": [],
   "source": []
  }
 ],
 "metadata": {
  "kernelspec": {
   "display_name": "Python 3",
   "language": "python",
   "name": "python3"
  }
 },
 "nbformat": 4,
 "nbformat_minor": 2
}
