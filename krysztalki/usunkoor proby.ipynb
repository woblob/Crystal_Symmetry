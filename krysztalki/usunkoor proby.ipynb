{
 "cells": [
  {
   "cell_type": "code",
   "execution_count": 2,
   "metadata": {},
   "outputs": [],
   "source": [
    "import numpy as np\n",
    "from cifParse import *\n",
    "from MMfunc import *\n",
    "\n",
    "filename = 'ZnS-Sfaleryt.cif'\n",
    "CELL = getCellFromFile(filename)\n",
    "SUPERCELL = supercell(CELL, size = 5)\n",
    "\n",
    "Matrixes = generateSymetryBase()\n",
    "\n",
    "oski1 = [Matrixes[\"m\"][os] for os in Matrixes[\"m\"]][3:] \n",
    "oski2 =  [Matrixes[\"-4\"][os] for os in Matrixes[\"-4\"]] + [Matrixes[\"3\"][os] for os in Matrixes[\"3\"]][1:]\n",
    "oski = oski1 + oski2"
   ]
  },
  {
   "cell_type": "code",
   "execution_count": 3,
   "metadata": {},
   "outputs": [],
   "source": [
    "def makeCellWithVacancies(cell,indexes):\n",
    "    indexes = set(indexes)\n",
    "    cellVac = []\n",
    "    Vac = []\n",
    "    for nr, p in enumerate(cell):\n",
    "        if nr not in indexes:\n",
    "            cellVac.append(p)\n",
    "        else:\n",
    "            Vac.append(p)\n",
    "    return np.array(cellVac)#, np.array(Vac)"
   ]
  },
  {
   "cell_type": "code",
   "execution_count": 8,
   "metadata": {
    "scrolled": true
   },
   "outputs": [
    {
     "name": "stdout",
     "output_type": "stream",
     "text": [
      "1\n",
      "Wall time: 11 ms\n",
      "0.277778\n",
      "\n"
     ]
    }
   ],
   "source": [
    "def supercell(cellorg, size):\n",
    "    if size == 1:\n",
    "        return np.unique(cellorg,axis=0)*2-1\n",
    "    elif size < 1:\n",
    "        return None\n",
    "    cell = cellorg.copy()\n",
    "    for os in range(3):    \n",
    "        subcell = cell.copy()[cell.T[os]!=0]\n",
    "        listcell = subcell.copy()\n",
    "        for _ in range(1,size):        \n",
    "            subcell[:,os] += 1\n",
    "            listcell = np.append(listcell,subcell,axis =0)   \n",
    "        cell = np.append(cell,listcell,axis =0)   \n",
    "    cell = np.unique(cell,axis = 0)/(size/2)-1\n",
    "    return np.around(cell,6)\n",
    "\n",
    "\n",
    "def usunkoor(koorZEW, oski):\n",
    "    koorWEW = koorZEW.copy()\n",
    "    for os in oski:\n",
    "        j = 1\n",
    "        while j < len(koorWEW):            \n",
    "            for punktdous in listadous(os, koorWEW[j]):                \n",
    "                i = findindex(punktdous, koorWEW.T[:,j:])                \n",
    "                if i + 1 and porownajPunkty(koorWEW[i+j],punktdous):\n",
    "                    koorWEW = np.delete(koorWEW, i+j, 0)\n",
    "            j += 1\n",
    "    return koorWEW\n",
    "\n",
    "# kom = makeCellWithVacancies(SUPERCELL,(0,))\n",
    "# print(kom)\n",
    "# for n in range(2,15):\n",
    "SUPERCELL = supercell(CELL, size = 1)\n",
    "print(1)\n",
    "%time lol = usunkoor(SUPERCELL, oski)\n",
    "#     print(len(lol),len(SUPERCELL))\n",
    "#     print()\n",
    "print(round(len(lol)/len(SUPERCELL),6))\n",
    "print()\n",
    "# for el in lol:\n",
    "#     print(el)"
   ]
  },
  {
   "cell_type": "code",
   "execution_count": 5,
   "metadata": {},
   "outputs": [
    {
     "name": "stdout",
     "output_type": "stream",
     "text": [
      "Wall time: 35 ms\n",
      "Wall time: 34 ms\n"
     ]
    },
    {
     "data": {
      "text/plain": [
       "array([[-1.  , -1.  , -1.  ],\n",
       "       [-1.  , -1.  ,  0.  ],\n",
       "       [-1.  , -1.  ,  1.  ],\n",
       "       [-1.  , -0.5 , -0.5 ],\n",
       "       [-1.  , -0.5 ,  0.5 ],\n",
       "       [-1.  ,  0.  ,  0.  ],\n",
       "       [-1.  ,  1.  ,  1.  ],\n",
       "       [-0.75, -0.75, -0.75],\n",
       "       [-0.75, -0.75,  0.25],\n",
       "       [-0.75, -0.25, -0.25],\n",
       "       [-0.5 , -0.5 ,  0.  ],\n",
       "       [-0.25, -0.25,  0.25],\n",
       "       [ 0.  ,  0.  ,  0.  ]])"
      ]
     },
     "execution_count": 5,
     "metadata": {},
     "output_type": "execute_result"
    }
   ],
   "source": [
    "SUPERCELL = supercell(CELL, size = 2)\n",
    "%time usunkoor(SUPERCELL, oski) "
   ]
  }
 ],
 "metadata": {
  "kernelspec": {
   "display_name": "Python 3",
   "language": "python",
   "name": "python3"
  },
  "language_info": {
   "codemirror_mode": {
    "name": "ipython",
    "version": 3
   },
   "file_extension": ".py",
   "mimetype": "text/x-python",
   "name": "python",
   "nbconvert_exporter": "python",
   "pygments_lexer": "ipython3",
   "version": "3.7.2"
  }
 },
 "nbformat": 4,
 "nbformat_minor": 2
}
