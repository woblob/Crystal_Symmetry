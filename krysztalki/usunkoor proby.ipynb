{
 "cells": [
  {
   "cell_type": "code",
   "execution_count": null,
   "metadata": {},
   "outputs": [],
   "source": [
    "def usunkoormod(koorZEW, oski):\n",
    "    koorWEW = koorZEW.copy()\n",
    "    koorWEWT = koorWEW.T\n",
    "    for os in oski:\n",
    "        j = 0\n",
    "        while j < len(koorWEW):            \n",
    "            for punktdous in listadous2(os, koorWEW[j]):                \n",
    "                i = findindex(punktdous, koorWEWT[:,j+1:])\n",
    "                if i + 1:\n",
    "#                     print(punktdous,\"dous\")\n",
    "#                     print(koorWEWT[:,i+j],\"usuwany\")\n",
    "                    koorWEWT = np.delete(koorWEWT, i+j, 1)\n",
    "                    koorWEW = np.delete(koorWEW, i+j, 0)\n",
    "            j += 1\n",
    "    return koorWEW\n",
    "usunkoormod(komorka, oski + oski2) "
   ]
  },
  {
   "cell_type": "code",
   "execution_count": null,
   "metadata": {},
   "outputs": [],
   "source": [
    "def usunkoor(koorZEW, oski):\n",
    "    koorWEW = koorZEW.copy().tolist() # sprawdzic\n",
    "    for os in oski:\n",
    "        j = 0 \n",
    "        while j < len(koorWEW):            \n",
    "            for punktdous in listadous2(os, koorWEW[j]):#,myswitch(\"m\")):\n",
    "                try:\n",
    "                    i = koorWEW[j+1:].index(punktdous.tolist())\n",
    "                    del koorWEW[i+j+1]      \n",
    "                except:\n",
    "                    pass            \n",
    "            j += 1\n",
    "    return np.array(koorWEW)#np.unique(koorWEW,axis = 0) \n",
    "%timeit usunkoor(komorka, oski + oski2) "
   ]
  },
  {
   "cell_type": "code",
   "execution_count": null,
   "metadata": {},
   "outputs": [],
   "source": [
    "%timeit usunkoor(komorka, oski + oski2) \n",
    "%timeit usunkoormod(komorka, oski + oski2) "
   ]
  }
 ],
 "metadata": {
  "kernelspec": {
   "display_name": "Python 3",
   "language": "python",
   "name": "python3"
  },
  "language_info": {
   "codemirror_mode": {
    "name": "ipython",
    "version": 3
   },
   "file_extension": ".py",
   "mimetype": "text/x-python",
   "name": "python",
   "nbconvert_exporter": "python",
   "pygments_lexer": "ipython3",
   "version": "3.7.2"
  }
 },
 "nbformat": 4,
 "nbformat_minor": 2
}
