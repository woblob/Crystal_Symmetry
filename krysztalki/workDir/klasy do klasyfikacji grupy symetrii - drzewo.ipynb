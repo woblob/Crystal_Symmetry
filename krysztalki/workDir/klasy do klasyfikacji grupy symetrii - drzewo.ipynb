{
 "cells": [
  {
   "cell_type": "code",
   "execution_count": 7,
   "metadata": {},
   "outputs": [
    {
     "data": {
      "text/plain": [
       "c_000, m_100, 2_100"
      ]
     },
     "execution_count": 7,
     "metadata": {},
     "output_type": "execute_result"
    }
   ],
   "source": [
    "class PG:\n",
    "    def __init__(self, *args):\n",
    "        self.val = args\n",
    "        self.symmetries = set(args)\n",
    "\n",
    "    def __repr__(self):\n",
    "        return ', '.join((str(arg) for arg in self.symmetries))\n",
    "         \n",
    "class T:\n",
    "    def __init__(self, args):\n",
    "        self.val = args\n",
    "    \n",
    "    def __repr__(self):\n",
    "        return str(self.val)\n",
    "    \n",
    "    def __str__(self):\n",
    "        return str(self.val)\n",
    "    \n",
    "    def __hash__(self):\n",
    "        return hash(self.args)\n",
    "\n",
    "t_2_100, t_2_010, t_2_001, t_2_110, t_2_101, t_2_011, t_2_m110, t_2_m101, t_2_0m11 = \\\n",
    "T('2_100'), T('2_010'), T('2_001'), T('2_110'), T('2_101'), T('2_011'), T('2_m110'), T('2_m101'), T('2_0m11')\n",
    "\n",
    "t_m_100, t_m_010, t_m_001, t_m_110, t_m_011, t_m_101, t_m_m101, t_m_m110, t_m_0m11 = \\\n",
    "T('m_100'), T('m_010'), T('m_001'), T('m_110'), T('m_011'), T('m_101'), T('m_m101'), T('m_m110'), T('m_0m11')\n",
    "\n",
    "t_c_000 = T('c_000')\n",
    "\n",
    "pg_2_div_m_100 = PG(t_2_100, t_m_100, t_c_000)\n",
    "pg_2_div_m_100"
   ]
  },
  {
   "cell_type": "code",
   "execution_count": null,
   "metadata": {},
   "outputs": [],
   "source": [
    "(['c_000',\n",
    "  \n",
    "  'm_100', 'm_010', 'm_001', 'm_110', 'm_011', 'm_101',\n",
    "  'm_m101', 'm_m110', 'm_0m11',\n",
    "  \n",
    "  '2_100', '2_010', '2_001', '2_110',\n",
    "  '2_101', '2_011', '2_m110', '2_m101', '2_0m11',\n",
    "  \n",
    "  '3_111', '3_m111', '3_1m11', '3_11m1',\n",
    "  \n",
    "  'm3_111', 'm3_m111', 'm3_1m11', 'm3_11m1',\n",
    "  \n",
    "  '4_100', '4_010', '4_001',\n",
    "  \n",
    "  'm4_100', 'm4_010', 'm4_001'])"
   ]
  },
  {
   "cell_type": "code",
   "execution_count": null,
   "metadata": {},
   "outputs": [],
   "source": [
    "([t_c_000,\n",
    "  \n",
    "  t_m_100, t_m_010, t_m_001, t_m_110, t_m_011, t_m_101,\n",
    "  t_m_m101, t_m_m110, t_m_0m11,\n",
    "  \n",
    "  t_2_100, t_2_010, t_2_001, t_2_110,\n",
    "  t_2_101, t_2_011, t_2_m110, t_2_m101, t_2_0m11,\n",
    "  \n",
    "  t_3_111, t_3_m111, t_3_1m11, t_3_11m1,\n",
    "  \n",
    "  t_m3_111, t_m3_m111, t_m3_1m11, t_m3_11m1,\n",
    "  \n",
    "  t_4_100, t_4_010, t_4_001,\n",
    "  \n",
    "  t_m4_100, t_m4_010, t_m4_001])"
   ]
  }
 ],
 "metadata": {
  "kernelspec": {
   "display_name": "Python 3",
   "language": "python",
   "name": "python3"
  },
  "language_info": {
   "codemirror_mode": {
    "name": "ipython",
    "version": 3
   },
   "file_extension": ".py",
   "mimetype": "text/x-python",
   "name": "python",
   "nbconvert_exporter": "python",
   "pygments_lexer": "ipython3",
   "version": "3.8.2"
  }
 },
 "nbformat": 4,
 "nbformat_minor": 4
}
