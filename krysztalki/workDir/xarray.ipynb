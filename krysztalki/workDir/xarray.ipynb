{
 "cells": [
  {
   "cell_type": "code",
   "execution_count": 59,
   "metadata": {},
   "outputs": [
    {
     "name": "stdout",
     "output_type": "stream",
     "text": [
      "174 ns ± 1.12 ns per loop (mean ± std. dev. of 7 runs, 10000000 loops each)\n",
      "9209177235622437395\n"
     ]
    }
   ],
   "source": [
    "y = np.array([1.456, 2.345, 3.456])\n",
    "\n",
    "%timeit hash(y.tostring())\n",
    "a = hash(y.tostring())\n",
    "\n",
    "print(a)"
   ]
  },
  {
   "cell_type": "code",
   "execution_count": 62,
   "metadata": {},
   "outputs": [
    {
     "name": "stdout",
     "output_type": "stream",
     "text": [
      "CPU times: user 5 µs, sys: 0 ns, total: 5 µs\n",
      "Wall time: 7.39 µs\n",
      "9209177235622437395\n",
      "303 ns ± 2.43 ns per loop (mean ± std. dev. of 7 runs, 1000000 loops each)\n",
      "9209177235622437395\n"
     ]
    },
    {
     "data": {
      "text/plain": [
       "1"
      ]
     },
     "execution_count": 62,
     "metadata": {},
     "output_type": "execute_result"
    }
   ],
   "source": [
    "class KeySet:\n",
    "    \n",
    "    def __init__(self, i, arr):\n",
    "        self.i = i\n",
    "        self.arr = arr\n",
    "        \n",
    "    def __hash__(self):\n",
    "        return hash(self.arr.tostring())\n",
    "#         return hash((self.i, hash(self.arr.tostring())))\n",
    "\n",
    "%time ks = KeySet(0, y)\n",
    "\n",
    "print(hash(ks))\n",
    "%timeit hash(ks)\n",
    "\n",
    "myDict = {ks: 1}\n",
    "\n",
    "myDict[ks]"
   ]
  }
 ],
 "metadata": {
  "kernelspec": {
   "display_name": "Python 3",
   "language": "python",
   "name": "python3"
  },
  "language_info": {
   "codemirror_mode": {
    "name": "ipython",
    "version": 3
   },
   "file_extension": ".py",
   "mimetype": "text/x-python",
   "name": "python",
   "nbconvert_exporter": "python",
   "pygments_lexer": "ipython3",
   "version": "3.8.3"
  }
 },
 "nbformat": 4,
 "nbformat_minor": 4
}
