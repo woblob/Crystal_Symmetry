{
 "cells": [
  {
   "cell_type": "code",
   "execution_count": 28,
   "metadata": {},
   "outputs": [],
   "source": [
    "def check_syms_in_cell(Cell, matrixes):\n",
    "    transformed_points = Cell @ matrixes \n",
    "    transformed_points_sorted = np.array([np.unique(points, axis=0) for points in transformed_points])\n",
    "    return ~ np.array([np.array_equal(points, Cell) for points in transformed_points_sorted])\n",
    "\n",
    "# %time check_syms_in_cell(SUPERCELL, MAT.all_matrixes)"
   ]
  },
  {
   "cell_type": "code",
   "execution_count": 29,
   "metadata": {
    "scrolled": true
   },
   "outputs": [],
   "source": [
    "# def pick_matrixes_by_index(masked_indexes, matrixes=MAT.all_matrixes):\n",
    "#     return np.ma.masked_where(masked_indexes, matrixes).compressed()"
   ]
  },
  {
   "cell_type": "code",
   "execution_count": 30,
   "metadata": {},
   "outputs": [],
   "source": [
    "def compare_points(p1, p2):\n",
    "    for a, b in zip(p1, p2):\n",
    "        if a != b:\n",
    "            return False\n",
    "    return True"
   ]
  },
  {
   "cell_type": "code",
   "execution_count": 31,
   "metadata": {},
   "outputs": [],
   "source": [
    "def get_all_transformed_points(matrix, base_point):\n",
    "    transformed_point = matrix @ base_point\n",
    "    while not compare_points(transformed_point, base_point):\n",
    "        yield transformed_point\n",
    "        transformed_point = matrix @ transformed_point  "
   ]
  },
  {
   "cell_type": "code",
   "execution_count": 32,
   "metadata": {},
   "outputs": [],
   "source": [
    "def get_matrixes_for_specific_point_group(symmetries):\n",
    "    output = np.ma.masked_where(symmetries, MAT.all_labels)\n",
    "    mymask = np.array([np.full((3,3), val) for val in output.mask])\n",
    "    return MAT.pick_matrixes_by_index(mymask)"
   ]
  },
  {
   "cell_type": "code",
   "execution_count": 84,
   "metadata": {
    "scrolled": true
   },
   "outputs": [],
   "source": [
    "# @profiler(\"time\")\n",
    "def reduce_cell_by_symmetry(cell, matrixes):\n",
    "    cell_dict = {tuple(point): i for i, point in enumerate(cell, 1)}\n",
    "    for matrix in matrixes:\n",
    "        for base_point in cell:\n",
    "            if cell_dict[tuple(base_point)]:\n",
    "                for point in get_all_transformed_points(matrix, base_point):\n",
    "                    cell_dict[tuple(point)] = 0\n",
    "            \n",
    "    reduced_cell, reduced_cell_indexes = [el for el in zip(*((point, index) for point, index in cell_dict.items() if index))]\n",
    "    reduced_cell, reduced_cell_indexes = np.array(reduced_cell), np.array(reduced_cell_indexes)\n",
    "    reduced_cell_indexes -= 1\n",
    "    return reduced_cell, reduced_cell_indexes"
   ]
  },
  {
   "cell_type": "code",
   "execution_count": 87,
   "metadata": {},
   "outputs": [],
   "source": [
    "import numpy as np\n",
    "import cifParsing as CPRS\n",
    "import MMfunc as MM\n",
    "import Matrixes_new as MAT\n",
    "from Profiling import profiler\n",
    "\n",
    "SUPERCELL, _ = CPRS.getSCell(1100043, size=10) #'cif files/ZnS-Sfaleryt.cif'\n",
    "# SUPERCELL"
   ]
  },
  {
   "cell_type": "code",
   "execution_count": 60,
   "metadata": {},
   "outputs": [],
   "source": [
    "_ = np.c_[SUPERCELL, np.ones(len(SUPERCELL))] #add ones to each point in SUPERCELL"
   ]
  },
  {
   "cell_type": "code",
   "execution_count": 37,
   "metadata": {},
   "outputs": [
    {
     "data": {
      "text/plain": [
       "8631"
      ]
     },
     "execution_count": 37,
     "metadata": {},
     "output_type": "execute_result"
    }
   ],
   "source": [
    "len(SUPERCELL)"
   ]
  },
  {
   "cell_type": "code",
   "execution_count": 88,
   "metadata": {
    "scrolled": true
   },
   "outputs": [
    {
     "name": "stdout",
     "output_type": "stream",
     "text": [
      "CPU times: user 478 ms, sys: 0 ns, total: 478 ms\n",
      "Wall time: 479 ms\n"
     ]
    },
    {
     "data": {
      "text/plain": [
       "(array([[-1.  , -1.  , -1.  ],\n",
       "        [-1.  , -1.  , -0.8 ],\n",
       "        [-1.  , -1.  , -0.6 ],\n",
       "        ...,\n",
       "        [-0.1 , -0.1 ,  0.  ],\n",
       "        [-0.05, -0.05,  0.05],\n",
       "        [ 0.  ,  0.  ,  0.  ]]),\n",
       " array([   0,    1,    2,    3,    4,    5,    6,    7,    8,    9,   10,\n",
       "          11,   12,   13,   14,   15,   16,   17,   18,   19,   20,   22,\n",
       "          23,   24,   25,   26,   27,   28,   29,   30,   33,   34,   35,\n",
       "          36,   37,   38,   39,   40,   44,   45,   46,   47,   48,   49,\n",
       "          50,   55,   56,   57,   58,   59,   60,   66,   67,   68,   69,\n",
       "          70,   77,   78,   79,   80,   88,   89,   90,   99,  100,  110,\n",
       "         221,  222,  223,  224,  225,  226,  227,  228,  229,  230,  231,\n",
       "         232,  233,  234,  235,  236,  237,  238,  239,  242,  243,  244,\n",
       "         245,  246,  247,  248,  249,  252,  253,  254,  255,  256,  257,\n",
       "         258,  263,  264,  265,  266,  267,  268,  273,  274,  275,  276,\n",
       "         277,  284,  285,  286,  287,  294,  295,  296,  305,  306,  315,\n",
       "         432,  433,  434,  435,  436,  437,  438,  439,  440,  443,  444,\n",
       "         445,  446,  447,  448,  449,  450,  454,  455,  456,  457,  458,\n",
       "         459,  460,  465,  466,  467,  468,  469,  470,  476,  477,  478,\n",
       "         479,  480,  487,  488,  489,  490,  498,  499,  500,  509,  510,\n",
       "         520,  652,  653,  654,  655,  656,  657,  658,  659,  660,  662,\n",
       "         663,  664,  665,  666,  667,  668,  669,  673,  674,  675,  676,\n",
       "         677,  678,  679,  683,  684,  685,  686,  687,  688,  694,  695,\n",
       "         696,  697,  698,  704,  705,  706,  707,  715,  716,  717,  725,\n",
       "         726,  736,  863,  864,  865,  866,  867,  868,  869,  870,  871,\n",
       "         874,  875,  876,  877,  878,  879,  880,  881,  885,  886,  887,\n",
       "         888,  889,  890,  891,  896,  897,  898,  899,  900,  901,  907,\n",
       "         908,  909,  910,  911,  918,  919,  920,  921,  929,  930,  931,\n",
       "         940,  941,  951, 1083, 1084, 1085, 1086, 1087, 1088, 1089, 1090,\n",
       "        1093, 1094, 1095, 1096, 1097, 1098, 1099, 1104, 1105, 1106, 1107,\n",
       "        1108, 1109, 1114, 1115, 1116, 1117, 1118, 1125, 1126, 1127, 1128,\n",
       "        1135, 1136, 1137, 1146, 1147, 1156, 1295, 1296, 1297, 1298, 1299,\n",
       "        1300, 1301, 1306, 1307, 1308, 1309, 1310, 1311, 1317, 1318, 1319,\n",
       "        1320, 1321, 1328, 1329, 1330, 1331, 1339, 1340, 1341, 1350, 1351,\n",
       "        1361, 1514, 1515, 1516, 1517, 1518, 1519, 1520, 1524, 1525, 1526,\n",
       "        1527, 1528, 1529, 1535, 1536, 1537, 1538, 1539, 1545, 1546, 1547,\n",
       "        1548, 1556, 1557, 1558, 1566, 1567, 1577, 1726, 1727, 1728, 1729,\n",
       "        1730, 1731, 1732, 1737, 1738, 1739, 1740, 1741, 1742, 1748, 1749,\n",
       "        1750, 1751, 1752, 1759, 1760, 1761, 1762, 1770, 1771, 1772, 1781,\n",
       "        1782, 1792, 1945, 1946, 1947, 1948, 1949, 1950, 1955, 1956, 1957,\n",
       "        1958, 1959, 1966, 1967, 1968, 1969, 1976, 1977, 1978, 1987, 1988,\n",
       "        1997, 2158, 2159, 2160, 2161, 2162, 2169, 2170, 2171, 2172, 2180,\n",
       "        2181, 2182, 2191, 2192, 2202, 2376, 2377, 2378, 2379, 2380, 2386,\n",
       "        2387, 2388, 2389, 2397, 2398, 2399, 2407, 2408, 2418, 2589, 2590,\n",
       "        2591, 2592, 2593, 2600, 2601, 2602, 2603, 2611, 2612, 2613, 2622,\n",
       "        2623, 2633, 2807, 2808, 2809, 2810, 2817, 2818, 2819, 2828, 2829,\n",
       "        2838, 3021, 3022, 3023, 3032, 3033, 3043, 3238, 3239, 3240, 3248,\n",
       "        3249, 3259, 3452, 3453, 3454, 3463, 3464, 3474, 3669, 3670, 3679,\n",
       "        3884, 4100, 4315]))"
      ]
     },
     "execution_count": 88,
     "metadata": {},
     "output_type": "execute_result"
    }
   ],
   "source": [
    "SYM = check_syms_in_cell(SUPERCELL, MAT.all_matrixes)\n",
    "matrixes_ZnS = get_matrixes_for_specific_point_group(SYM)\n",
    "%time new_cell, new_cell_indexes = reduce_cell_by_symmetry(SUPERCELL, matrixes_ZnS)\n",
    "\n",
    "new_cell,new_cell_indexes  "
   ]
  },
  {
   "cell_type": "code",
   "execution_count": 36,
   "metadata": {},
   "outputs": [
    {
     "data": {
      "text/plain": [
       "476"
      ]
     },
     "execution_count": 36,
     "metadata": {},
     "output_type": "execute_result"
    }
   ],
   "source": [
    "len(new_cell)"
   ]
  },
  {
   "cell_type": "code",
   "execution_count": 66,
   "metadata": {
    "scrolled": true
   },
   "outputs": [
    {
     "data": {
      "text/plain": [
       "array([[-1.  , -1.  , -1.  ],\n",
       "       [-1.  , -1.  ,  0.  ],\n",
       "       [-1.  , -1.  ,  1.  ],\n",
       "       [-1.  , -0.5 , -0.5 ],\n",
       "       [-1.  , -0.5 ,  0.5 ],\n",
       "       [-1.  ,  0.  , -1.  ],\n",
       "       [-1.  ,  0.  ,  0.  ],\n",
       "       [-1.  ,  0.  ,  1.  ],\n",
       "       [-1.  ,  0.5 , -0.5 ],\n",
       "       [-1.  ,  0.5 ,  0.5 ],\n",
       "       [-1.  ,  1.  , -1.  ],\n",
       "       [-1.  ,  1.  ,  0.  ],\n",
       "       [-1.  ,  1.  ,  1.  ],\n",
       "       [-0.75, -0.75, -0.75],\n",
       "       [-0.75, -0.75,  0.25],\n",
       "       [-0.75, -0.25, -0.25],\n",
       "       [-0.75, -0.25,  0.75],\n",
       "       [-0.75,  0.25, -0.75],\n",
       "       [-0.75,  0.25,  0.25],\n",
       "       [-0.75,  0.75, -0.25],\n",
       "       [-0.75,  0.75,  0.75],\n",
       "       [-0.5 , -1.  , -0.5 ],\n",
       "       [-0.5 , -1.  ,  0.5 ],\n",
       "       [-0.5 , -0.5 , -1.  ],\n",
       "       [-0.5 , -0.5 ,  0.  ],\n",
       "       [-0.5 , -0.5 ,  1.  ],\n",
       "       [-0.5 ,  0.  , -0.5 ],\n",
       "       [-0.5 ,  0.  ,  0.5 ],\n",
       "       [-0.5 ,  0.5 , -1.  ],\n",
       "       [-0.5 ,  0.5 ,  0.  ],\n",
       "       [-0.5 ,  0.5 ,  1.  ],\n",
       "       [-0.5 ,  1.  , -0.5 ],\n",
       "       [-0.5 ,  1.  ,  0.5 ],\n",
       "       [-0.25, -0.75, -0.25],\n",
       "       [-0.25, -0.75,  0.75],\n",
       "       [-0.25, -0.25, -0.75],\n",
       "       [-0.25, -0.25,  0.25],\n",
       "       [-0.25,  0.25, -0.25],\n",
       "       [-0.25,  0.25,  0.75],\n",
       "       [-0.25,  0.75, -0.75],\n",
       "       [-0.25,  0.75,  0.25],\n",
       "       [ 0.  , -1.  , -1.  ],\n",
       "       [ 0.  , -1.  ,  0.  ],\n",
       "       [ 0.  , -1.  ,  1.  ],\n",
       "       [ 0.  , -0.5 , -0.5 ],\n",
       "       [ 0.  , -0.5 ,  0.5 ],\n",
       "       [ 0.  ,  0.  , -1.  ],\n",
       "       [ 0.  ,  0.  ,  0.  ],\n",
       "       [ 0.  ,  0.  ,  1.  ],\n",
       "       [ 0.  ,  0.5 , -0.5 ],\n",
       "       [ 0.  ,  0.5 ,  0.5 ],\n",
       "       [ 0.  ,  1.  , -1.  ],\n",
       "       [ 0.  ,  1.  ,  0.  ],\n",
       "       [ 0.  ,  1.  ,  1.  ],\n",
       "       [ 0.25, -0.75, -0.75],\n",
       "       [ 0.25, -0.75,  0.25],\n",
       "       [ 0.25, -0.25, -0.25],\n",
       "       [ 0.25, -0.25,  0.75],\n",
       "       [ 0.25,  0.25, -0.75],\n",
       "       [ 0.25,  0.25,  0.25],\n",
       "       [ 0.25,  0.75, -0.25],\n",
       "       [ 0.25,  0.75,  0.75],\n",
       "       [ 0.5 , -1.  , -0.5 ],\n",
       "       [ 0.5 , -1.  ,  0.5 ],\n",
       "       [ 0.5 , -0.5 , -1.  ],\n",
       "       [ 0.5 , -0.5 ,  0.  ],\n",
       "       [ 0.5 , -0.5 ,  1.  ],\n",
       "       [ 0.5 ,  0.  , -0.5 ],\n",
       "       [ 0.5 ,  0.  ,  0.5 ],\n",
       "       [ 0.5 ,  0.5 , -1.  ],\n",
       "       [ 0.5 ,  0.5 ,  0.  ],\n",
       "       [ 0.5 ,  0.5 ,  1.  ],\n",
       "       [ 0.5 ,  1.  , -0.5 ],\n",
       "       [ 0.5 ,  1.  ,  0.5 ],\n",
       "       [ 0.75, -0.75, -0.25],\n",
       "       [ 0.75, -0.75,  0.75],\n",
       "       [ 0.75, -0.25, -0.75],\n",
       "       [ 0.75, -0.25,  0.25],\n",
       "       [ 0.75,  0.25, -0.25],\n",
       "       [ 0.75,  0.25,  0.75],\n",
       "       [ 0.75,  0.75, -0.75],\n",
       "       [ 0.75,  0.75,  0.25],\n",
       "       [ 1.  , -1.  , -1.  ],\n",
       "       [ 1.  , -1.  ,  0.  ],\n",
       "       [ 1.  , -1.  ,  1.  ],\n",
       "       [ 1.  , -0.5 , -0.5 ],\n",
       "       [ 1.  , -0.5 ,  0.5 ],\n",
       "       [ 1.  ,  0.  , -1.  ],\n",
       "       [ 1.  ,  0.  ,  0.  ],\n",
       "       [ 1.  ,  0.  ,  1.  ],\n",
       "       [ 1.  ,  0.5 , -0.5 ],\n",
       "       [ 1.  ,  0.5 ,  0.5 ],\n",
       "       [ 1.  ,  1.  , -1.  ],\n",
       "       [ 1.  ,  1.  ,  0.  ],\n",
       "       [ 1.  ,  1.  ,  1.  ]])"
      ]
     },
     "execution_count": 66,
     "metadata": {},
     "output_type": "execute_result"
    }
   ],
   "source": [
    "SUPERCELL"
   ]
  },
  {
   "cell_type": "code",
   "execution_count": null,
   "metadata": {},
   "outputs": [],
   "source": []
  },
  {
   "cell_type": "code",
   "execution_count": 76,
   "metadata": {},
   "outputs": [
    {
     "ename": "TypeError",
     "evalue": "'Hashable' object is not iterable",
     "output_type": "error",
     "traceback": [
      "\u001b[0;31m---------------------------------------------------------------------------\u001b[0m",
      "\u001b[0;31mTypeError\u001b[0m                                 Traceback (most recent call last)",
      "\u001b[0;32m<ipython-input-76-4188ebe90238>\u001b[0m in \u001b[0;36m<module>\u001b[0;34m\u001b[0m\n\u001b[1;32m     36\u001b[0m \u001b[0mhsh\u001b[0m \u001b[0;34m*\u001b[0m \u001b[0mnp\u001b[0m\u001b[0;34m.\u001b[0m\u001b[0marray\u001b[0m\u001b[0;34m(\u001b[0m\u001b[0;34m[\u001b[0m\u001b[0;34m[\u001b[0m\u001b[0;36m0\u001b[0m\u001b[0;34m,\u001b[0m\u001b[0;34m-\u001b[0m\u001b[0;36m1\u001b[0m\u001b[0;34m,\u001b[0m\u001b[0;36m0\u001b[0m\u001b[0;34m]\u001b[0m\u001b[0;34m,\u001b[0m \u001b[0;34m[\u001b[0m\u001b[0;36m1\u001b[0m\u001b[0;34m,\u001b[0m\u001b[0;36m0\u001b[0m\u001b[0;34m,\u001b[0m\u001b[0;36m0\u001b[0m\u001b[0;34m]\u001b[0m\u001b[0;34m,\u001b[0m \u001b[0;34m[\u001b[0m\u001b[0;36m0\u001b[0m\u001b[0;34m,\u001b[0m\u001b[0;36m0\u001b[0m\u001b[0;34m,\u001b[0m\u001b[0;34m-\u001b[0m\u001b[0;36m1\u001b[0m\u001b[0;34m]\u001b[0m\u001b[0;34m]\u001b[0m\u001b[0;34m)\u001b[0m\u001b[0;34m\u001b[0m\u001b[0;34m\u001b[0m\u001b[0m\n\u001b[1;32m     37\u001b[0m \u001b[0;34m\u001b[0m\u001b[0m\n\u001b[0;32m---> 38\u001b[0;31m \u001b[0mlist\u001b[0m\u001b[0;34m(\u001b[0m\u001b[0mget_all_transformed_points_hash\u001b[0m\u001b[0;34m(\u001b[0m\u001b[0mnp\u001b[0m\u001b[0;34m.\u001b[0m\u001b[0marray\u001b[0m\u001b[0;34m(\u001b[0m\u001b[0;34m[\u001b[0m\u001b[0;34m[\u001b[0m\u001b[0;36m0\u001b[0m\u001b[0;34m,\u001b[0m\u001b[0;34m-\u001b[0m\u001b[0;36m1\u001b[0m\u001b[0;34m,\u001b[0m\u001b[0;36m0\u001b[0m\u001b[0;34m]\u001b[0m\u001b[0;34m,\u001b[0m \u001b[0;34m[\u001b[0m\u001b[0;36m1\u001b[0m\u001b[0;34m,\u001b[0m\u001b[0;36m0\u001b[0m\u001b[0;34m,\u001b[0m\u001b[0;36m0\u001b[0m\u001b[0;34m]\u001b[0m\u001b[0;34m,\u001b[0m \u001b[0;34m[\u001b[0m\u001b[0;36m0\u001b[0m\u001b[0;34m,\u001b[0m\u001b[0;36m0\u001b[0m\u001b[0;34m,\u001b[0m\u001b[0;34m-\u001b[0m\u001b[0;36m1\u001b[0m\u001b[0;34m]\u001b[0m\u001b[0;34m]\u001b[0m\u001b[0;34m)\u001b[0m \u001b[0;34m,\u001b[0m \u001b[0mhsh\u001b[0m\u001b[0;34m)\u001b[0m\u001b[0;34m)\u001b[0m\u001b[0;34m\u001b[0m\u001b[0;34m\u001b[0m\u001b[0m\n\u001b[0m",
      "\u001b[0;32m<ipython-input-73-798670f1214b>\u001b[0m in \u001b[0;36mget_all_transformed_points_hash\u001b[0;34m(matrix, base_point)\u001b[0m\n\u001b[1;32m      1\u001b[0m \u001b[0;32mdef\u001b[0m \u001b[0mget_all_transformed_points_hash\u001b[0m\u001b[0;34m(\u001b[0m\u001b[0mmatrix\u001b[0m\u001b[0;34m,\u001b[0m \u001b[0mbase_point\u001b[0m\u001b[0;34m)\u001b[0m\u001b[0;34m:\u001b[0m\u001b[0;34m\u001b[0m\u001b[0;34m\u001b[0m\u001b[0m\n\u001b[1;32m      2\u001b[0m     \u001b[0mtransformed_point\u001b[0m \u001b[0;34m=\u001b[0m \u001b[0mbase_point\u001b[0m \u001b[0;34m*\u001b[0m \u001b[0mmatrix\u001b[0m\u001b[0;34m\u001b[0m\u001b[0;34m\u001b[0m\u001b[0m\n\u001b[0;32m----> 3\u001b[0;31m     \u001b[0;32mwhile\u001b[0m \u001b[0;32mnot\u001b[0m \u001b[0mcompare_points\u001b[0m\u001b[0;34m(\u001b[0m\u001b[0mtransformed_point\u001b[0m\u001b[0;34m,\u001b[0m \u001b[0mbase_point\u001b[0m\u001b[0;34m)\u001b[0m\u001b[0;34m:\u001b[0m\u001b[0;34m\u001b[0m\u001b[0;34m\u001b[0m\u001b[0m\n\u001b[0m\u001b[1;32m      4\u001b[0m         \u001b[0;32myield\u001b[0m \u001b[0mtransformed_point\u001b[0m\u001b[0;34m\u001b[0m\u001b[0;34m\u001b[0m\u001b[0m\n\u001b[1;32m      5\u001b[0m         \u001b[0mtransformed_point\u001b[0m \u001b[0;34m=\u001b[0m \u001b[0mtransformed_point\u001b[0m \u001b[0;34m*\u001b[0m \u001b[0mmatrix\u001b[0m\u001b[0;34m\u001b[0m\u001b[0;34m\u001b[0m\u001b[0m\n",
      "\u001b[0;32m<ipython-input-48-2ec60976236e>\u001b[0m in \u001b[0;36mcompare_points\u001b[0;34m(p1, p2)\u001b[0m\n\u001b[1;32m      1\u001b[0m \u001b[0;32mdef\u001b[0m \u001b[0mcompare_points\u001b[0m\u001b[0;34m(\u001b[0m\u001b[0mp1\u001b[0m\u001b[0;34m,\u001b[0m \u001b[0mp2\u001b[0m\u001b[0;34m)\u001b[0m\u001b[0;34m:\u001b[0m\u001b[0;34m\u001b[0m\u001b[0;34m\u001b[0m\u001b[0m\n\u001b[0;32m----> 2\u001b[0;31m     \u001b[0;32mfor\u001b[0m \u001b[0ma\u001b[0m\u001b[0;34m,\u001b[0m \u001b[0mb\u001b[0m \u001b[0;32min\u001b[0m \u001b[0mzip\u001b[0m\u001b[0;34m(\u001b[0m\u001b[0mp1\u001b[0m\u001b[0;34m,\u001b[0m \u001b[0mp2\u001b[0m\u001b[0;34m)\u001b[0m\u001b[0;34m:\u001b[0m\u001b[0;34m\u001b[0m\u001b[0;34m\u001b[0m\u001b[0m\n\u001b[0m\u001b[1;32m      3\u001b[0m         \u001b[0;32mif\u001b[0m \u001b[0ma\u001b[0m \u001b[0;34m!=\u001b[0m \u001b[0mb\u001b[0m\u001b[0;34m:\u001b[0m\u001b[0;34m\u001b[0m\u001b[0;34m\u001b[0m\u001b[0m\n\u001b[1;32m      4\u001b[0m             \u001b[0;32mreturn\u001b[0m \u001b[0;32mFalse\u001b[0m\u001b[0;34m\u001b[0m\u001b[0;34m\u001b[0m\u001b[0m\n\u001b[1;32m      5\u001b[0m     \u001b[0;32mreturn\u001b[0m \u001b[0;32mTrue\u001b[0m\u001b[0;34m\u001b[0m\u001b[0;34m\u001b[0m\u001b[0m\n",
      "\u001b[0;31mTypeError\u001b[0m: 'Hashable' object is not iterable"
     ]
    }
   ],
   "source": [
    "from hashlib import sha1\n",
    "import numpy as np\n",
    "\n",
    "class Hashable:\n",
    "    def __init__(self, wrapped, tight=False):\n",
    "        self.__tight = tight\n",
    "        self.__wrapped = array(wrapped) if tight else wrapped\n",
    "        self.__hash = int(sha1(wrapped.view(np.uint8)).hexdigest(), 16)\n",
    "\n",
    "    def __eq__(self, other):\n",
    "        return np.all(self.__wrapped == other.__wrapped)\n",
    "\n",
    "    def __hash__(self):\n",
    "        return self.__hash\n",
    "\n",
    "    def unwrap(self):\n",
    "        return np.array(self.__wrapped) if self.__tight else self.__wrapped\n",
    "#         if self.__tight:\n",
    "#             return array(self.__wrapped)\n",
    "#         return self.__wrapped\n",
    "#     def __call__(self):\n",
    "#         return self.__wrapped\n",
    "    \n",
    "    def __mul__(self, other):\n",
    "        return self.__wrapped @ other\n",
    "    \n",
    "#     def __rmul__(self, other):\n",
    "#         return self.__wrapped @ other\n",
    "\n",
    "hsh = Hashable(np.array([1,0,1]))\n",
    "# hsh._Hashable__hash\n",
    "# dd = dict()\n",
    "# dd[hsh] = 1 \n",
    "# dd.keys()\n",
    "# hash(hsh)\n",
    "hsh * np.array([[0,-1,0], [1,0,0], [0,0,-1]]) \n",
    "\n",
    "list(get_all_transformed_points_hash(np.array([[0,-1,0], [1,0,0], [0,0,-1]]) , hsh))"
   ]
  },
  {
   "cell_type": "code",
   "execution_count": 35,
   "metadata": {},
   "outputs": [],
   "source": [
    "def sil(num):\n",
    "    if num < 2:\n",
    "        return 1\n",
    "    prod = 1\n",
    "    for i in range(2, num + 1):\n",
    "        prod *= i\n",
    "    return prod    "
   ]
  },
  {
   "cell_type": "code",
   "execution_count": 58,
   "metadata": {},
   "outputs": [
    {
     "data": {
      "text/plain": [
       "(113050, 37242765)"
      ]
     },
     "execution_count": 58,
     "metadata": {},
     "output_type": "execute_result"
    }
   ],
   "source": [
    "def NchooseK(n, k):\n",
    "    for ik in range(1, k):\n",
    "        n *= n - ik\n",
    "    return n // sil(k)\n",
    "\n",
    "vacs = 2\n",
    "\n",
    "NchooseK(476,vacs), NchooseK(8631,vacs)"
   ]
  },
  {
   "cell_type": "code",
   "execution_count": 8,
   "metadata": {},
   "outputs": [],
   "source": [
    "def get_all_transformed_points_hash(matrix, base_point):\n",
    "    transformed_point = base_point * matrix\n",
    "    while not compare_points(transformed_point, base_point):\n",
    "        yield transformed_point\n",
    "        transformed_point = transformed_point * matrix"
   ]
  },
  {
   "cell_type": "code",
   "execution_count": 53,
   "metadata": {},
   "outputs": [
    {
     "ename": "ValueError",
     "evalue": "matmul: Input operand 1 does not have enough dimensions (has 0, gufunc core with signature (n?,k),(k,m?)->(n?,m?) requires 1)",
     "output_type": "error",
     "traceback": [
      "\u001b[0;31m---------------------------------------------------------------------------\u001b[0m",
      "\u001b[0;31mValueError\u001b[0m                                Traceback (most recent call last)",
      "\u001b[0;32m<ipython-input-53-0ddb7c2c49e9>\u001b[0m in \u001b[0;36m<module>\u001b[0;34m\u001b[0m\n\u001b[1;32m     11\u001b[0m \u001b[0;31m#     return [point for point, v in cell_dict.items() if v]\u001b[0m\u001b[0;34m\u001b[0m\u001b[0;34m\u001b[0m\u001b[0;34m\u001b[0m\u001b[0m\n\u001b[1;32m     12\u001b[0m \u001b[0;34m\u001b[0m\u001b[0m\n\u001b[0;32m---> 13\u001b[0;31m \u001b[0mget_ipython\u001b[0m\u001b[0;34m(\u001b[0m\u001b[0;34m)\u001b[0m\u001b[0;34m.\u001b[0m\u001b[0mrun_line_magic\u001b[0m\u001b[0;34m(\u001b[0m\u001b[0;34m'timeit'\u001b[0m\u001b[0;34m,\u001b[0m \u001b[0;34m'-n 10 reduce_cell_by_symmetry(SUPERCELL, matrixes_ZnS)'\u001b[0m\u001b[0;34m)\u001b[0m\u001b[0;34m\u001b[0m\u001b[0;34m\u001b[0m\u001b[0m\n\u001b[0m",
      "\u001b[0;32m/usr/lib/python3.8/site-packages/IPython/core/interactiveshell.py\u001b[0m in \u001b[0;36mrun_line_magic\u001b[0;34m(self, magic_name, line, _stack_depth)\u001b[0m\n\u001b[1;32m   2315\u001b[0m                 \u001b[0mkwargs\u001b[0m\u001b[0;34m[\u001b[0m\u001b[0;34m'local_ns'\u001b[0m\u001b[0;34m]\u001b[0m \u001b[0;34m=\u001b[0m \u001b[0msys\u001b[0m\u001b[0;34m.\u001b[0m\u001b[0m_getframe\u001b[0m\u001b[0;34m(\u001b[0m\u001b[0mstack_depth\u001b[0m\u001b[0;34m)\u001b[0m\u001b[0;34m.\u001b[0m\u001b[0mf_locals\u001b[0m\u001b[0;34m\u001b[0m\u001b[0;34m\u001b[0m\u001b[0m\n\u001b[1;32m   2316\u001b[0m             \u001b[0;32mwith\u001b[0m \u001b[0mself\u001b[0m\u001b[0;34m.\u001b[0m\u001b[0mbuiltin_trap\u001b[0m\u001b[0;34m:\u001b[0m\u001b[0;34m\u001b[0m\u001b[0;34m\u001b[0m\u001b[0m\n\u001b[0;32m-> 2317\u001b[0;31m                 \u001b[0mresult\u001b[0m \u001b[0;34m=\u001b[0m \u001b[0mfn\u001b[0m\u001b[0;34m(\u001b[0m\u001b[0;34m*\u001b[0m\u001b[0margs\u001b[0m\u001b[0;34m,\u001b[0m \u001b[0;34m**\u001b[0m\u001b[0mkwargs\u001b[0m\u001b[0;34m)\u001b[0m\u001b[0;34m\u001b[0m\u001b[0;34m\u001b[0m\u001b[0m\n\u001b[0m\u001b[1;32m   2318\u001b[0m             \u001b[0;32mreturn\u001b[0m \u001b[0mresult\u001b[0m\u001b[0;34m\u001b[0m\u001b[0;34m\u001b[0m\u001b[0m\n\u001b[1;32m   2319\u001b[0m \u001b[0;34m\u001b[0m\u001b[0m\n",
      "\u001b[0;32m</usr/lib/python3.8/site-packages/decorator.py:decorator-gen-60>\u001b[0m in \u001b[0;36mtimeit\u001b[0;34m(self, line, cell, local_ns)\u001b[0m\n",
      "\u001b[0;32m/usr/lib/python3.8/site-packages/IPython/core/magic.py\u001b[0m in \u001b[0;36m<lambda>\u001b[0;34m(f, *a, **k)\u001b[0m\n\u001b[1;32m    185\u001b[0m     \u001b[0;31m# but it's overkill for just that one bit of state.\u001b[0m\u001b[0;34m\u001b[0m\u001b[0;34m\u001b[0m\u001b[0;34m\u001b[0m\u001b[0m\n\u001b[1;32m    186\u001b[0m     \u001b[0;32mdef\u001b[0m \u001b[0mmagic_deco\u001b[0m\u001b[0;34m(\u001b[0m\u001b[0marg\u001b[0m\u001b[0;34m)\u001b[0m\u001b[0;34m:\u001b[0m\u001b[0;34m\u001b[0m\u001b[0;34m\u001b[0m\u001b[0m\n\u001b[0;32m--> 187\u001b[0;31m         \u001b[0mcall\u001b[0m \u001b[0;34m=\u001b[0m \u001b[0;32mlambda\u001b[0m \u001b[0mf\u001b[0m\u001b[0;34m,\u001b[0m \u001b[0;34m*\u001b[0m\u001b[0ma\u001b[0m\u001b[0;34m,\u001b[0m \u001b[0;34m**\u001b[0m\u001b[0mk\u001b[0m\u001b[0;34m:\u001b[0m \u001b[0mf\u001b[0m\u001b[0;34m(\u001b[0m\u001b[0;34m*\u001b[0m\u001b[0ma\u001b[0m\u001b[0;34m,\u001b[0m \u001b[0;34m**\u001b[0m\u001b[0mk\u001b[0m\u001b[0;34m)\u001b[0m\u001b[0;34m\u001b[0m\u001b[0;34m\u001b[0m\u001b[0m\n\u001b[0m\u001b[1;32m    188\u001b[0m \u001b[0;34m\u001b[0m\u001b[0m\n\u001b[1;32m    189\u001b[0m         \u001b[0;32mif\u001b[0m \u001b[0mcallable\u001b[0m\u001b[0;34m(\u001b[0m\u001b[0marg\u001b[0m\u001b[0;34m)\u001b[0m\u001b[0;34m:\u001b[0m\u001b[0;34m\u001b[0m\u001b[0;34m\u001b[0m\u001b[0m\n",
      "\u001b[0;32m/usr/lib/python3.8/site-packages/IPython/core/magics/execution.py\u001b[0m in \u001b[0;36mtimeit\u001b[0;34m(self, line, cell, local_ns)\u001b[0m\n\u001b[1;32m   1162\u001b[0m                     \u001b[0;32mbreak\u001b[0m\u001b[0;34m\u001b[0m\u001b[0;34m\u001b[0m\u001b[0m\n\u001b[1;32m   1163\u001b[0m \u001b[0;34m\u001b[0m\u001b[0m\n\u001b[0;32m-> 1164\u001b[0;31m         \u001b[0mall_runs\u001b[0m \u001b[0;34m=\u001b[0m \u001b[0mtimer\u001b[0m\u001b[0;34m.\u001b[0m\u001b[0mrepeat\u001b[0m\u001b[0;34m(\u001b[0m\u001b[0mrepeat\u001b[0m\u001b[0;34m,\u001b[0m \u001b[0mnumber\u001b[0m\u001b[0;34m)\u001b[0m\u001b[0;34m\u001b[0m\u001b[0;34m\u001b[0m\u001b[0m\n\u001b[0m\u001b[1;32m   1165\u001b[0m         \u001b[0mbest\u001b[0m \u001b[0;34m=\u001b[0m \u001b[0mmin\u001b[0m\u001b[0;34m(\u001b[0m\u001b[0mall_runs\u001b[0m\u001b[0;34m)\u001b[0m \u001b[0;34m/\u001b[0m \u001b[0mnumber\u001b[0m\u001b[0;34m\u001b[0m\u001b[0;34m\u001b[0m\u001b[0m\n\u001b[1;32m   1166\u001b[0m         \u001b[0mworst\u001b[0m \u001b[0;34m=\u001b[0m \u001b[0mmax\u001b[0m\u001b[0;34m(\u001b[0m\u001b[0mall_runs\u001b[0m\u001b[0;34m)\u001b[0m \u001b[0;34m/\u001b[0m \u001b[0mnumber\u001b[0m\u001b[0;34m\u001b[0m\u001b[0;34m\u001b[0m\u001b[0m\n",
      "\u001b[0;32m/usr/lib/python3.8/timeit.py\u001b[0m in \u001b[0;36mrepeat\u001b[0;34m(self, repeat, number)\u001b[0m\n\u001b[1;32m    202\u001b[0m         \u001b[0mr\u001b[0m \u001b[0;34m=\u001b[0m \u001b[0;34m[\u001b[0m\u001b[0;34m]\u001b[0m\u001b[0;34m\u001b[0m\u001b[0;34m\u001b[0m\u001b[0m\n\u001b[1;32m    203\u001b[0m         \u001b[0;32mfor\u001b[0m \u001b[0mi\u001b[0m \u001b[0;32min\u001b[0m \u001b[0mrange\u001b[0m\u001b[0;34m(\u001b[0m\u001b[0mrepeat\u001b[0m\u001b[0;34m)\u001b[0m\u001b[0;34m:\u001b[0m\u001b[0;34m\u001b[0m\u001b[0;34m\u001b[0m\u001b[0m\n\u001b[0;32m--> 204\u001b[0;31m             \u001b[0mt\u001b[0m \u001b[0;34m=\u001b[0m \u001b[0mself\u001b[0m\u001b[0;34m.\u001b[0m\u001b[0mtimeit\u001b[0m\u001b[0;34m(\u001b[0m\u001b[0mnumber\u001b[0m\u001b[0;34m)\u001b[0m\u001b[0;34m\u001b[0m\u001b[0;34m\u001b[0m\u001b[0m\n\u001b[0m\u001b[1;32m    205\u001b[0m             \u001b[0mr\u001b[0m\u001b[0;34m.\u001b[0m\u001b[0mappend\u001b[0m\u001b[0;34m(\u001b[0m\u001b[0mt\u001b[0m\u001b[0;34m)\u001b[0m\u001b[0;34m\u001b[0m\u001b[0;34m\u001b[0m\u001b[0m\n\u001b[1;32m    206\u001b[0m         \u001b[0;32mreturn\u001b[0m \u001b[0mr\u001b[0m\u001b[0;34m\u001b[0m\u001b[0;34m\u001b[0m\u001b[0m\n",
      "\u001b[0;32m/usr/lib/python3.8/site-packages/IPython/core/magics/execution.py\u001b[0m in \u001b[0;36mtimeit\u001b[0;34m(self, number)\u001b[0m\n\u001b[1;32m    167\u001b[0m         \u001b[0mgc\u001b[0m\u001b[0;34m.\u001b[0m\u001b[0mdisable\u001b[0m\u001b[0;34m(\u001b[0m\u001b[0;34m)\u001b[0m\u001b[0;34m\u001b[0m\u001b[0;34m\u001b[0m\u001b[0m\n\u001b[1;32m    168\u001b[0m         \u001b[0;32mtry\u001b[0m\u001b[0;34m:\u001b[0m\u001b[0;34m\u001b[0m\u001b[0;34m\u001b[0m\u001b[0m\n\u001b[0;32m--> 169\u001b[0;31m             \u001b[0mtiming\u001b[0m \u001b[0;34m=\u001b[0m \u001b[0mself\u001b[0m\u001b[0;34m.\u001b[0m\u001b[0minner\u001b[0m\u001b[0;34m(\u001b[0m\u001b[0mit\u001b[0m\u001b[0;34m,\u001b[0m \u001b[0mself\u001b[0m\u001b[0;34m.\u001b[0m\u001b[0mtimer\u001b[0m\u001b[0;34m)\u001b[0m\u001b[0;34m\u001b[0m\u001b[0;34m\u001b[0m\u001b[0m\n\u001b[0m\u001b[1;32m    170\u001b[0m         \u001b[0;32mfinally\u001b[0m\u001b[0;34m:\u001b[0m\u001b[0;34m\u001b[0m\u001b[0;34m\u001b[0m\u001b[0m\n\u001b[1;32m    171\u001b[0m             \u001b[0;32mif\u001b[0m \u001b[0mgcold\u001b[0m\u001b[0;34m:\u001b[0m\u001b[0;34m\u001b[0m\u001b[0;34m\u001b[0m\u001b[0m\n",
      "\u001b[0;32m<magic-timeit>\u001b[0m in \u001b[0;36minner\u001b[0;34m(_it, _timer)\u001b[0m\n",
      "\u001b[0;32m<ipython-input-53-0ddb7c2c49e9>\u001b[0m in \u001b[0;36mreduce_cell_by_symmetry\u001b[0;34m(cell, matrixes)\u001b[0m\n\u001b[1;32m      6\u001b[0m         \u001b[0;32mfor\u001b[0m \u001b[0mbase_point\u001b[0m \u001b[0;32min\u001b[0m \u001b[0mcell_copy\u001b[0m\u001b[0;34m:\u001b[0m\u001b[0;34m\u001b[0m\u001b[0;34m\u001b[0m\u001b[0m\n\u001b[1;32m      7\u001b[0m             \u001b[0;32mif\u001b[0m \u001b[0mcell_dict\u001b[0m\u001b[0;34m[\u001b[0m\u001b[0mbase_point\u001b[0m\u001b[0;34m]\u001b[0m\u001b[0;34m:\u001b[0m\u001b[0;34m\u001b[0m\u001b[0;34m\u001b[0m\u001b[0m\n\u001b[0;32m----> 8\u001b[0;31m                 \u001b[0;32mfor\u001b[0m \u001b[0mpoint\u001b[0m \u001b[0;32min\u001b[0m \u001b[0mget_all_transformed_points\u001b[0m\u001b[0;34m(\u001b[0m\u001b[0mmatrix\u001b[0m\u001b[0;34m,\u001b[0m \u001b[0mbase_point\u001b[0m\u001b[0;34m)\u001b[0m\u001b[0;34m:\u001b[0m\u001b[0;34m\u001b[0m\u001b[0;34m\u001b[0m\u001b[0m\n\u001b[0m\u001b[1;32m      9\u001b[0m                     \u001b[0mcell_dict\u001b[0m\u001b[0;34m[\u001b[0m\u001b[0mHashable\u001b[0m\u001b[0;34m(\u001b[0m\u001b[0mpoint\u001b[0m\u001b[0;34m)\u001b[0m\u001b[0;34m]\u001b[0m \u001b[0;34m=\u001b[0m \u001b[0;32mFalse\u001b[0m\u001b[0;34m\u001b[0m\u001b[0;34m\u001b[0m\u001b[0m\n\u001b[1;32m     10\u001b[0m     \u001b[0;32mreturn\u001b[0m \u001b[0mnp\u001b[0m\u001b[0;34m.\u001b[0m\u001b[0marray\u001b[0m\u001b[0;34m(\u001b[0m\u001b[0;34m[\u001b[0m\u001b[0mpoint\u001b[0m \u001b[0;32mfor\u001b[0m \u001b[0mpoint\u001b[0m\u001b[0;34m,\u001b[0m \u001b[0mv\u001b[0m \u001b[0;32min\u001b[0m \u001b[0mcell_dict\u001b[0m\u001b[0;34m.\u001b[0m\u001b[0mitems\u001b[0m\u001b[0;34m(\u001b[0m\u001b[0;34m)\u001b[0m \u001b[0;32mif\u001b[0m \u001b[0mv\u001b[0m\u001b[0;34m]\u001b[0m\u001b[0;34m)\u001b[0m\u001b[0;34m\u001b[0m\u001b[0;34m\u001b[0m\u001b[0m\n",
      "\u001b[0;32m<ipython-input-49-2c8ac3e92f9b>\u001b[0m in \u001b[0;36mget_all_transformed_points\u001b[0;34m(matrix, base_point)\u001b[0m\n\u001b[1;32m      1\u001b[0m \u001b[0;32mdef\u001b[0m \u001b[0mget_all_transformed_points\u001b[0m\u001b[0;34m(\u001b[0m\u001b[0mmatrix\u001b[0m\u001b[0;34m,\u001b[0m \u001b[0mbase_point\u001b[0m\u001b[0;34m)\u001b[0m\u001b[0;34m:\u001b[0m\u001b[0;34m\u001b[0m\u001b[0;34m\u001b[0m\u001b[0m\n\u001b[0;32m----> 2\u001b[0;31m     \u001b[0mtransformed_point\u001b[0m \u001b[0;34m=\u001b[0m \u001b[0mmatrix\u001b[0m \u001b[0;34m@\u001b[0m \u001b[0mbase_point\u001b[0m\u001b[0;34m\u001b[0m\u001b[0;34m\u001b[0m\u001b[0m\n\u001b[0m\u001b[1;32m      3\u001b[0m     \u001b[0;32mwhile\u001b[0m \u001b[0;32mnot\u001b[0m \u001b[0mcompare_points\u001b[0m\u001b[0;34m(\u001b[0m\u001b[0mtransformed_point\u001b[0m\u001b[0;34m,\u001b[0m \u001b[0mbase_point\u001b[0m\u001b[0;34m)\u001b[0m\u001b[0;34m:\u001b[0m\u001b[0;34m\u001b[0m\u001b[0;34m\u001b[0m\u001b[0m\n\u001b[1;32m      4\u001b[0m         \u001b[0;32myield\u001b[0m \u001b[0mtransformed_point\u001b[0m\u001b[0;34m\u001b[0m\u001b[0;34m\u001b[0m\u001b[0m\n\u001b[1;32m      5\u001b[0m         \u001b[0mtransformed_point\u001b[0m \u001b[0;34m=\u001b[0m \u001b[0mmatrix\u001b[0m \u001b[0;34m@\u001b[0m \u001b[0mtransformed_point\u001b[0m\u001b[0;34m\u001b[0m\u001b[0;34m\u001b[0m\u001b[0m\n",
      "\u001b[0;31mValueError\u001b[0m: matmul: Input operand 1 does not have enough dimensions (has 0, gufunc core with signature (n?,k),(k,m?)->(n?,m?) requires 1)"
     ]
    }
   ],
   "source": [
    "# @profiler(\"time\")\n",
    "def reduce_cell_by_symmetry(cell, matrixes):\n",
    "    cell_copy = [Hashable(point) for point in cell]\n",
    "    cell_dict = {Hashable(point): True for point in cell}\n",
    "    for matrix in matrixes:\n",
    "        for base_point in cell_copy:\n",
    "            if cell_dict[base_point]:\n",
    "                for point in get_all_transformed_points(matrix, base_point):\n",
    "                    cell_dict[Hashable(point)] = False\n",
    "    return np.array([point for point, v in cell_dict.items() if v])\n",
    "#     return [point for point, v in cell_dict.items() if v]\n",
    "\n",
    "%timeit -n 10 reduce_cell_by_symmetry(SUPERCELL, matrixes_ZnS)\n"
   ]
  },
  {
   "cell_type": "code",
   "execution_count": 2,
   "metadata": {},
   "outputs": [],
   "source": [
    "Matrixes = generateSymetryBase()\n",
    "\n",
    "oski1 = [Matrixes[\"m\"][os] for os in Matrixes[\"m\"]][3:] \n",
    "oski2 =  [Matrixes[\"-4\"][os] for os in Matrixes[\"-4\"]] + [Matrixes[\"3\"][os] for os in Matrixes[\"3\"]][1:]\n",
    "oski = oski1 + oski2"
   ]
  },
  {
   "cell_type": "code",
   "execution_count": 3,
   "metadata": {},
   "outputs": [],
   "source": [
    "def makeCellWithVacancies(cell,indexes):\n",
    "    indexes = set(indexes)\n",
    "    cellVac = []\n",
    "    Vac = []\n",
    "    for nr, p in enumerate(cell):\n",
    "        if nr not in indexes:\n",
    "            cellVac.append(p)\n",
    "        else:\n",
    "            Vac.append(p)\n",
    "    return np.array(cellVac)#, np.array(Vac)"
   ]
  },
  {
   "cell_type": "code",
   "execution_count": 8,
   "metadata": {
    "scrolled": true
   },
   "outputs": [
    {
     "name": "stdout",
     "output_type": "stream",
     "text": [
      "1\n",
      "Wall time: 11 ms\n",
      "0.277778\n",
      "\n"
     ]
    }
   ],
   "source": [
    "def usunkoor(koorZEW, oski):\n",
    "    koorWEW = koorZEW.copy()\n",
    "    for os in oski:\n",
    "        j = 1\n",
    "        while j < len(koorWEW):            \n",
    "            for punktdous in listadous(os, koorWEW[j]):                \n",
    "                i = findindex(punktdous, koorWEW.T[:,j:])                \n",
    "                if i + 1 and porownajPunkty(koorWEW[i+j],punktdous):\n",
    "                    koorWEW = np.delete(koorWEW, i+j, 0)\n",
    "            j += 1\n",
    "    return koorWEW\n",
    "\n",
    "# kom = makeCellWithVacancies(SUPERCELL,(0,))\n",
    "# print(kom)\n",
    "# for n in range(2,15):\n",
    "SUPERCELL = supercell(CELL, size = 1)\n",
    "print(1)\n",
    "%time lol = usunkoor(SUPERCELL, oski)\n",
    "#     print(len(lol),len(SUPERCELL))\n",
    "#     print()\n",
    "print(round(len(lol)/len(SUPERCELL),6))\n",
    "print()\n",
    "# for el in lol:\n",
    "#     print(el)"
   ]
  },
  {
   "cell_type": "code",
   "execution_count": 5,
   "metadata": {},
   "outputs": [
    {
     "name": "stdout",
     "output_type": "stream",
     "text": [
      "Wall time: 35 ms\n",
      "Wall time: 34 ms\n"
     ]
    },
    {
     "data": {
      "text/plain": [
       "array([[-1.  , -1.  , -1.  ],\n",
       "       [-1.  , -1.  ,  0.  ],\n",
       "       [-1.  , -1.  ,  1.  ],\n",
       "       [-1.  , -0.5 , -0.5 ],\n",
       "       [-1.  , -0.5 ,  0.5 ],\n",
       "       [-1.  ,  0.  ,  0.  ],\n",
       "       [-1.  ,  1.  ,  1.  ],\n",
       "       [-0.75, -0.75, -0.75],\n",
       "       [-0.75, -0.75,  0.25],\n",
       "       [-0.75, -0.25, -0.25],\n",
       "       [-0.5 , -0.5 ,  0.  ],\n",
       "       [-0.25, -0.25,  0.25],\n",
       "       [ 0.  ,  0.  ,  0.  ]])"
      ]
     },
     "execution_count": 5,
     "metadata": {},
     "output_type": "execute_result"
    }
   ],
   "source": [
    "SUPERCELL = supercell(CELL, size = 2)\n",
    "%time usunkoor(SUPERCELL, oski) "
   ]
  },
  {
   "cell_type": "code",
   "execution_count": null,
   "metadata": {},
   "outputs": [],
   "source": [
    "%timeit usunkoor_mod(SUPERCELL, sorted(lol2)[0])"
   ]
  }
 ],
 "metadata": {
  "kernelspec": {
   "display_name": "Python 3",
   "language": "python",
   "name": "python3"
  },
  "language_info": {
   "codemirror_mode": {
    "name": "ipython",
    "version": 3
   },
   "file_extension": ".py",
   "mimetype": "text/x-python",
   "name": "python",
   "nbconvert_exporter": "python",
   "pygments_lexer": "ipython3",
   "version": "3.8.1"
  }
 },
 "nbformat": 4,
 "nbformat_minor": 4
}
