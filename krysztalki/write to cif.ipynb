{
 "cells": [
  {
   "cell_type": "code",
   "execution_count": null,
   "metadata": {},
   "outputs": [],
   "source": [
    " \n",
    "   Sb47       1.0     0.916500      0.343000      0.500000     Biso  1.000000 Sb\n",
    "   Sb48       1.0     0.583500      0.657000      0.500000     Biso  1.000000 Sb\n",
    "\n",
    "for number, atom in enumerate(zbior):\n",
    "    f.write(f'   {atom.name,number}       1.0     {xk:.6f}      {yk:.6f}      {zk:.6f}     Biso  1.000000 {atom.name}')"
   ]
  },
  {
   "cell_type": "code",
   "execution_count": null,
   "metadata": {},
   "outputs": [],
   "source": [
    "def write_to_cif(filename= \"abc.cif\"):\n",
    "    phase_name = ''\n",
    "    cell_length_a = 18.06939\n",
    "    cell_length_b = 9.03470\n",
    "    cell_length_c = 9.03470\n",
    "    cell_angle_alpha = 90\n",
    "    cell_angle_beta = 90\n",
    "    cell_angle_gamma = 90\n",
    "    symmetry_space_group_name_HM = 'P 1'\n",
    "    symmetry_Int_Tables_number = 1\n",
    "    with open(filename,\"w\") as f:\n",
    "        f.write(\"#======================================================================\\n\\n\")\n",
    "        f.write(\"# CRYSTAL DATA\\n\\n\")\n",
    "        f.write(\"#----------------------------------------------------------------------\\n\\n\")      \n",
    "        f.write(\"data_VESTA_phase_1\\n\\n\") #????\n",
    "        f.write(f\"_pd_phase_name                         '{phase_name}'\\n\")\n",
    "        f.write(f'_cell_length_a                         {cell_length_a}\\n')\n",
    "        f.write(f'_cell_length_b                         {cell_length_b}\\n')\n",
    "        f.write(f'_cell_length_c                         {cell_length_c}\\n')\n",
    "        f.write(f'_cell_angle_alpha                      {cell_angle_alpha}\\n')\n",
    "        f.write(f'_cell_angle_beta                       {cell_angle_beta}\\n')\n",
    "        f.write(f'_cell_angle_gamma                      {cell_angle_gamma}\\n')\n",
    "        f.write(f\"_symmetry_space_group_name_H-M         '{symmetry_space_group_name_HM}'\\n\")\n",
    "        f.write(f'_symmetry_Int_Tables_number            {symmetry_Int_Tables_number}\\n\\n')\n",
    "        f.write(f'loop_\\n')\n",
    "        f.write(f'_symmetry_equiv_pos_as_xyz\\n')\n",
    "        f.write(f\"   'x, y, z'\\n\\n\")\n",
    "        f.write(f'loop_\\n')\n",
    "        f.write(f'   _atom_site_label\\n')\n",
    "        f.write(f'   _atom_site_occupancy\\n')\n",
    "        f.write(f'   _atom_site_fract_x\\n')\n",
    "        f.write(f'   _atom_site_fract_y\\n')\n",
    "        f.write(f'   _atom_site_fract_z\\n')\n",
    "        f.write(f'   _atom_site_adp_type\\n')\n",
    "        f.write(f'   _atom_site_B_iso_or_equiv\\n')\n",
    "        f.write(f'   _atom_site_type_symbol\\n')\n",
    "        \n",
    "        for number, atom in enumerate(zbior):\n",
    "            f.write(f'   {name,number}       1.0     {xk}      {yk}      {zk}     Biso  1.000000 {name}')\n",
    "        #f.write(f'')"
   ]
  },
  {
   "cell_type": "code",
   "execution_count": 7,
   "metadata": {},
   "outputs": [],
   "source": [
    "write_to_cif()"
   ]
  }
 ],
 "metadata": {
  "kernelspec": {
   "display_name": "Python 3",
   "language": "python",
   "name": "python3"
  },
  "language_info": {
   "codemirror_mode": {
    "name": "ipython",
    "version": 3
   },
   "file_extension": ".py",
   "mimetype": "text/x-python",
   "name": "python",
   "nbconvert_exporter": "python",
   "pygments_lexer": "ipython3",
   "version": "3.7.2"
  }
 },
 "nbformat": 4,
 "nbformat_minor": 2
}
