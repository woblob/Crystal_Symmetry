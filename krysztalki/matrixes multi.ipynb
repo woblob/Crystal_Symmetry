{
 "cells": [
  {
   "cell_type": "code",
   "execution_count": 1,
   "metadata": {},
   "outputs": [],
   "source": [
    "# from numba import jit\n",
    "from MMfunc import *\n",
    "from Profiling import profile"
   ]
  },
  {
   "cell_type": "code",
   "execution_count": 2,
   "metadata": {},
   "outputs": [],
   "source": [
    "Matrixes = generateSymetryBase()"
   ]
  },
  {
   "cell_type": "code",
   "execution_count": 3,
   "metadata": {
    "scrolled": false
   },
   "outputs": [],
   "source": [
    "'''Sfaleryt'''\n",
    "koordynaty = np.array([[0,0,0],[0,0,1],[0,1,0],[1,1,0],[1,0,0],[1,1,1],[1,0,1],[0,1,1],\n",
    "              [0.5,0.5,0],[0.5,0,0.5],[0,0.5,0.5],[0.5,0.5,1],[0.5,1,0.5],[1,0.5,0.5],\n",
    "             [0.75,0.25,0.25],[0.25,0.75,0.25],[0.25,0.25,0.75],[0.75,0.75,0.75]])\n",
    "\n",
    "koordynatyprob = np.array([[0,0,0],[0,0,1],[0,1,0],[1,1,0],[1,0,0],[1,1,1],[1,0,1],[0,1,1]])\n",
    "# print(koordynaty)"
   ]
  },
  {
   "cell_type": "code",
   "execution_count": 4,
   "metadata": {},
   "outputs": [],
   "source": [
    "oski1 = [Matrixes[\"m\"][os] for os in Matrixes[\"m\"]][3:] \n",
    "oski2 =  [Matrixes[\"-4\"][os] for os in Matrixes[\"-4\"]] + [Matrixes[\"3\"][os] for os in Matrixes[\"3\"]][1:]\n",
    "oski = oski1 + oski2\n",
    "\n",
    "komorka = supercell(koordynaty, size = 2)\n",
    "mojalista1 = usunkoor(komorka, oski) \n",
    "# print(komorka)\n",
    "# print(len(mojalista1))\n",
    "# for nr,el in enumerate(komorka):\n",
    "#     print(nr,el)\n",
    "# %timeit usunkoor(komorka, oski+ oski2)"
   ]
  },
  {
   "cell_type": "code",
   "execution_count": null,
   "metadata": {},
   "outputs": [],
   "source": [
    "#bez uwzglednienia usunkoor\n",
    "n = 0\n",
    "mylist = []\n",
    "while n < len(komorka):      \n",
    "    komorkabez = np.append(komorka[:n],komorka[n+1:],axis = 0)\n",
    "#     print(n, komorka[n])\n",
    "\n",
    "    mozliwosci = findAntiSym_MOD(Matrixes, komorkabez, komorka[n])\n",
    "    # print(findAntiSym_MOD  (Matrixes, komorkabez, komorka[n]),end='\\n\\n')\n",
    "    SYM = findSym_Base_mod2(Matrixes, komorkabez, mozliwosci)\n",
    "    \n",
    "    try:\n",
    "        if SYM[0][0] == '3':\n",
    "            mylist.append(SYM)\n",
    "    except:\n",
    "        pass\n",
    "    n += 1"
   ]
  },
  {
   "cell_type": "code",
   "execution_count": 6,
   "metadata": {},
   "outputs": [
    {
     "name": "stdout",
     "output_type": "stream",
     "text": [
      "[('3', '-111'), ('m', '0-11'), ('m', '110')]\n",
      "[('3', '-111'), ('m', '0-11'), ('m', '110')]\n",
      "[('3', '-111'), ('m', '0-11'), ('m', '110')]\n",
      "[('3', '-111'), ('m', '0-11'), ('m', '110')]\n",
      "[('3', '1-11'), ('m', '-101'), ('m', '011'), ('m', '110')]\n",
      "[('3', '1-11'), ('m', '-101'), ('m', '011'), ('m', '110')]\n",
      "[('3', '1-11'), ('m', '-101'), ('m', '011'), ('m', '110')]\n",
      "[('3', '1-11'), ('m', '-101'), ('m', '011'), ('m', '110')]\n",
      "[('3', '11-1'), ('m', '-110'), ('m', '011')]\n",
      "[('3', '11-1'), ('m', '-110'), ('m', '011')]\n",
      "[('3', '11-1'), ('m', '-110'), ('m', '011')]\n",
      "[('3', '11-1'), ('m', '-110'), ('m', '011')]\n",
      "[('3', '111'), ('m', '0-11'), ('m', '-110'), ('m', '-101')]\n",
      "[('3', '111'), ('m', '0-11'), ('m', '-110'), ('m', '-101')]\n",
      "[('3', '111'), ('m', '0-11'), ('m', '-110'), ('m', '-101')]\n",
      "[('3', '111'), ('m', '0-11'), ('m', '-110'), ('m', '-101')]\n"
     ]
    }
   ],
   "source": [
    "for sym in sorted(mylist):\n",
    "    print(sym)"
   ]
  },
  {
   "cell_type": "code",
   "execution_count": 17,
   "metadata": {},
   "outputs": [
    {
     "name": "stdout",
     "output_type": "stream",
     "text": [
      "[('3', '111'), ('m', '0-11'), ('m', '-110'), ('m', '-101')]\n"
     ]
    }
   ],
   "source": [
    "SYM = findSym_Base_mod2(Matrixes, komorkabez, mozliwosci)"
   ]
  },
  {
   "cell_type": "code",
   "execution_count": null,
   "metadata": {},
   "outputs": [],
   "source": [
    "class Atom():\n",
    "    numer = 0\n",
    "    def __init__(self, name, position):\n",
    "        self.name = name\n",
    "        self.position = position\n",
    "        Atom.numer += 1\n",
    "        self.numer = numer"
   ]
  }
 ],
 "metadata": {
  "kernelspec": {
   "display_name": "Python 3",
   "language": "python",
   "name": "python3"
  },
  "language_info": {
   "codemirror_mode": {
    "name": "ipython",
    "version": 3
   },
   "file_extension": ".py",
   "mimetype": "text/x-python",
   "name": "python",
   "nbconvert_exporter": "python",
   "pygments_lexer": "ipython3",
   "version": "3.7.2"
  }
 },
 "nbformat": 4,
 "nbformat_minor": 2
}
