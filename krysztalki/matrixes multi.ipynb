{
 "cells": [
  {
   "cell_type": "code",
   "execution_count": 2,
   "metadata": {},
   "outputs": [],
   "source": [
    "from MMfunc import *\n",
    "from Profiling import profile\n",
    "# import numpy as np\n",
    "# import bisect\n",
    "# from num/ba import jit"
   ]
  },
  {
   "cell_type": "code",
   "execution_count": 3,
   "metadata": {},
   "outputs": [],
   "source": [
    "Matrixes = generateSymetryBase()"
   ]
  },
  {
   "cell_type": "code",
   "execution_count": 4,
   "metadata": {
    "scrolled": false
   },
   "outputs": [],
   "source": [
    "'''Sfaleryt'''\n",
    "koordynaty = np.array([[0,0,0],[0,0,1],[0,1,0],[1,1,0],[1,0,0],[1,1,1],[1,0,1],[0,1,1],\n",
    "              [0.5,0.5,0],[0.5,0,0.5],[0,0.5,0.5],[0.5,0.5,1],[0.5,1,0.5],[1,0.5,0.5],\n",
    "             [0.75,0.25,0.25],[0.25,0.75,0.25],[0.25,0.25,0.75],[0.75,0.75,0.75]])\n",
    "\n",
    "koordynatyprob = np.array([[0,0,0],[0,0,1],[0,1,0],[1,1,0],[1,0,0],[1,1,1],[1,0,1],[0,1,1]])\n",
    "# print(koordynaty)\n",
    "\n",
    "'''slownik_operacji_minus43m = {\"-4\":Matrixes[\"-4\"],\n",
    "                             \"-3\":Matrixes[\"3\"][1:]}\n",
    "print(slownik_operacji_minus43m)\n",
    "#print(koordynaty)'''\n",
    "None"
   ]
  },
  {
   "cell_type": "code",
   "execution_count": 5,
   "metadata": {},
   "outputs": [],
   "source": [
    "oski = [Matrixes[\"m\"][os] for os in Matrixes[\"m\"]][3:] \n",
    "oski2 =  [Matrixes[\"-4\"][os] for os in Matrixes[\"-4\"]] + [Matrixes[\"3\"][os] for os in Matrixes[\"3\"]][1:]\n",
    "\n",
    "komorka = supercell(koordynaty, size = 2)\n",
    "mojalista1 = usunkoor(komorka, oski + oski2) \n",
    "# print(komorka)\n",
    "# print(len(mojalista1))\n",
    "# for nr,el in enumerate(komorka):\n",
    "#     print(nr,el)\n",
    "# %timeit usunkoor(komorka, oski+ oski2)"
   ]
  },
  {
   "cell_type": "code",
   "execution_count": 54,
   "metadata": {},
   "outputs": [
    {
     "name": "stdout",
     "output_type": "stream",
     "text": [
      "14 [-0.75 -0.75  0.75]\n",
      "\n",
      "[('-6', '001'), ('-3', '11-1'), ('-3', '001'), ('3', '11-1'), ('3', '001'), ('2', '0-11'), ('2', '-101'), ('2', '-110'), ('2', '011'), ('2', '101'), ('2', '110'), ('m', '-110'), ('m', '011'), ('m', '001'), ('m', '010'), ('m', '100'), ('c', '000')]\n",
      "\n",
      "[('3', '11-1'), ('m', '-110'), ('m', '011')]\n",
      "\n"
     ]
    }
   ],
   "source": [
    "#bez uwzglednienia usunkoor\n",
    "n = 14\n",
    "#while n < len(komorka):      \n",
    "komorkabez = np.append(komorka[:n],komorka[n+1:],axis = 0)\n",
    "print(n, komorka[n],end='\\n\\n')\n",
    "\n",
    "mozliwosci = findAntiSym_MOD(komorkabez, komorka[n])\n",
    "print(mozliwosci,end='\\n\\n')\n",
    "\n",
    "print(findSym_Base_mod2(komorkabez, makelist()),end='\\n\\n')"
   ]
  },
  {
   "cell_type": "code",
   "execution_count": 13,
   "metadata": {},
   "outputs": [
    {
     "name": "stdout",
     "output_type": "stream",
     "text": [
      "6.36 ms ± 21.8 µs per loop (mean ± std. dev. of 7 runs, 100 loops each)\n",
      "73.9 ms ± 155 µs per loop (mean ± std. dev. of 7 runs, 10 loops each)\n"
     ]
    }
   ],
   "source": [
    "%timeit findAntiSym_MOD(komorkabez, komorka[n])\n",
    "%timeit findSym_Base_mod2(komorkabez, mozliwosci)"
   ]
  },
  {
   "cell_type": "code",
   "execution_count": null,
   "metadata": {},
   "outputs": [],
   "source": [
    "fdhfhf"
   ]
  },
  {
   "cell_type": "code",
   "execution_count": 8,
   "metadata": {},
   "outputs": [
    {
     "data": {
      "text/plain": [
       "array([-0.3660254,  1.3660254, -1.       ])"
      ]
     },
     "execution_count": 8,
     "metadata": {},
     "output_type": "execute_result"
    }
   ],
   "source": [
    "os = [0,0]\n",
    "os[0] = Matrixes[\"3\"][\"001\"]\n",
    "os[1] = Matrixes[\"-4\"][\"010\"]\n",
    "np.dot(np.array([-1,-1,-1]),os[0])"
   ]
  },
  {
   "cell_type": "code",
   "execution_count": null,
   "metadata": {},
   "outputs": [],
   "source": [
    "os = [0]*5\n",
    "os[0] = Matrixes[\"-4\"][\"001\"]\n",
    "os[1] = Matrixes[\"2\"][\"010\"]\n",
    "os[2] = np.dot(os[0],os[1])\n",
    "os[3] = np.dot(os[0],os[2])\n",
    "os[4] = np.dot(os[0],os[3])\n",
    "\n",
    "\n",
    "'''print(\"-4 001\",os[0],sep='\\n',end='\\n\\n')\n",
    "print(\"2 010\",os[1],sep='\\n',end='\\n\\n')\n",
    "print(\"m -110\",os[2],sep='\\n',end='\\n\\n')\n",
    "print('2 100',os[3],sep='\\n',end='\\n\\n')'''\n",
    "print('m 110',os[4],sep='\\n',end='\\n\\n')"
   ]
  },
  {
   "cell_type": "code",
   "execution_count": null,
   "metadata": {},
   "outputs": [],
   "source": [
    "\"\"\"Az4Ay4\"\"\" \n",
    "os = [Matrixes[\"-4\"][\"001\"],Matrixes[\"-4\"][\"010\"]]\n",
    "os1 = [Matrixes[\"4\"][\"001\"],Matrixes[\"4\"][\"010\"],Matrixes[\"c\"][\"000\"]]\n",
    "os2 = [Matrixes[\"2\"][\"001\"],Matrixes[\"2\"][\"010\"],Matrixes[\"c\"][\"000\"]]\n",
    "\n",
    "lolo = makeithappen(os1)\n",
    "\n",
    "np.linalg.inv()\n",
    "print(len(lolo))\n",
    "for punkt in lolo:\n",
    "    print(punkt,end='\\n\\n')"
   ]
  },
  {
   "cell_type": "code",
   "execution_count": null,
   "metadata": {},
   "outputs": [],
   "source": [
    "np.linalg.inv(lolo[numer])"
   ]
  },
  {
   "cell_type": "code",
   "execution_count": null,
   "metadata": {},
   "outputs": [],
   "source": [
    "numer = 4\n",
    "print(np.dot(lolo[numer],lolo[numer]))\n",
    "print(listadous(lolo[numer], np.array([1,1,0]),4))"
   ]
  },
  {
   "cell_type": "code",
   "execution_count": null,
   "metadata": {
    "scrolled": true
   },
   "outputs": [],
   "source": [
    "    \n",
    "    \n",
    "for nr, oska in enumerate(os[2:]):\n",
    "    os[nr+2] = np.dot(os[0],os[nr+1])\n",
    "    if os[nr+2] in os[:nr+1]:\n",
    "        pass\n",
    "    \n",
    "        \n",
    "        \n",
    "for oska in os:\n",
    "    print(oska,end='\\n\\n')\n",
    "'''print(\"-4 001\",os[0],sep='\\n',end='\\n\\n')\n",
    "print(\"-4 010\",os[1],sep='\\n',end='\\n\\n')\n",
    "print(\"3 -111\",os[2],sep='\\n',end='\\n\\n')\n",
    "print('3 111',os[3],sep='\\n',end='\\n\\n')\n",
    "print('m -101',os[4],sep='\\n',end='\\n\\n')\n",
    "print(\"m 011\",os[5],sep='\\n',end='\\n\\n')\n",
    "print(\"-4 010\",os[6],sep='\\n',end='\\n\\n')\n",
    "print(\"3 -111\",os[7],sep='\\n',end='\\n\\n')'''\n",
    "None"
   ]
  },
  {
   "cell_type": "code",
   "execution_count": 31,
   "metadata": {},
   "outputs": [
    {
     "data": {
      "image/png": "[encoded data removed]",
      "text/plain": [
       "<Figure size 432x288 with 1 Axes>"
      ]
     },
     "metadata": {
      "needs_background": "light"
     },
     "output_type": "display_data"
    }
   ],
   "source": [
    "from mpl_toolkits.mplot3d import Axes3D  \n",
    "import matplotlib.pyplot as plt\n",
    "import numpy as np\n",
    "\n",
    "fig = plt.figure()\n",
    "ax = fig.add_subplot(111, projection='3d')\n",
    "\n",
    "#for c, m in [('r', 'o'), ('b', '^')]:\n",
    "mojalista2 = komorka.T\n",
    "xs = mojalista2[0]\n",
    "ys = mojalista2[1]\n",
    "zs = mojalista2[2]\n",
    "ax.scatter(xs, ys, zs)#, c=c, marker=m)\n",
    "\n",
    "ax.set_xlabel('X Label')\n",
    "ax.set_ylabel('Y Label')\n",
    "ax.set_zlabel('Z Label')\n",
    "\n",
    "plt.show()"
   ]
  },
  {
   "cell_type": "code",
   "execution_count": 275,
   "metadata": {},
   "outputs": [
    {
     "data": {
      "text/plain": [
       "array([[-1.  , -1.  , -1.  ],\n",
       "       [-1.  ,  1.  ,  1.  ],\n",
       "       [-0.75, -0.75, -0.25],\n",
       "       [-0.75,  0.75,  0.25],\n",
       "       [-0.5 , -0.5 , -1.  ],\n",
       "       [-0.5 ,  1.  ,  0.5 ],\n",
       "       [-0.25,  0.25, -0.75],\n",
       "       [-0.25,  0.25,  0.25],\n",
       "       [-0.25,  0.75,  0.75],\n",
       "       [ 0.  , -1.  , -1.  ],\n",
       "       [ 0.  , -0.5 ,  0.5 ],\n",
       "       [ 0.  ,  0.  ,  1.  ],\n",
       "       [ 0.  ,  1.  ,  1.  ],\n",
       "       [ 0.25, -0.75,  0.75],\n",
       "       [ 0.5 , -0.5 , -1.  ],\n",
       "       [ 0.5 ,  0.5 ,  1.  ],\n",
       "       [ 0.75,  0.25,  0.25],\n",
       "       [ 1.  ,  0.  ,  1.  ],\n",
       "       [ 1.  ,  1.  ,  1.  ]])"
      ]
     },
     "execution_count": 275,
     "metadata": {},
     "output_type": "execute_result"
    }
   ],
   "source": [
    "def usunkoormod(koorZEW, oski):\n",
    "    koorWEW = koorZEW.copy()\n",
    "    koorWEWT = koorWEW.T\n",
    "    for os in oski:\n",
    "        j = 0\n",
    "        while j < len(koorWEW):            \n",
    "            for punktdous in listadous2(os, koorWEW[j]):                \n",
    "                i = findindex(punktdous, koorWEWT[:,j+1:])\n",
    "                if i + 1:\n",
    "#                     print(punktdous,\"dous\")\n",
    "#                     print(koorWEWT[:,i+j],\"usuwany\")\n",
    "                    koorWEWT = np.delete(koorWEWT, i+j, 1)\n",
    "                    koorWEW = np.delete(koorWEW, i+j, 0)\n",
    "            j += 1\n",
    "    return koorWEW\n",
    "usunkoormod(komorka, oski + oski2) "
   ]
  },
  {
   "cell_type": "code",
   "execution_count": 257,
   "metadata": {},
   "outputs": [
    {
     "name": "stdout",
     "output_type": "stream",
     "text": [
      "35.1 ms ± 208 µs per loop (mean ± std. dev. of 7 runs, 10 loops each)\n"
     ]
    }
   ],
   "source": [
    "def usunkoor(koorZEW, oski):\n",
    "    koorWEW = koorZEW.copy().tolist() # sprawdzic\n",
    "    for os in oski:\n",
    "        j = 0 \n",
    "        while j < len(koorWEW):            \n",
    "            for punktdous in listadous2(os, koorWEW[j]):#,myswitch(\"m\")):\n",
    "                try:\n",
    "                    i = koorWEW[j+1:].index(punktdous.tolist())\n",
    "                    del koorWEW[i+j+1]      \n",
    "                except:\n",
    "                    pass            \n",
    "            j += 1\n",
    "    return np.array(koorWEW)#np.unique(koorWEW,axis = 0) \n",
    "%timeit usunkoor(komorka, oski + oski2) "
   ]
  },
  {
   "cell_type": "code",
   "execution_count": 256,
   "metadata": {},
   "outputs": [
    {
     "name": "stdout",
     "output_type": "stream",
     "text": [
      "35 ms ± 369 µs per loop (mean ± std. dev. of 7 runs, 10 loops each)\n",
      "82.4 ms ± 578 µs per loop (mean ± std. dev. of 7 runs, 10 loops each)\n"
     ]
    }
   ],
   "source": [
    "%timeit usunkoor(komorka, oski + oski2) \n",
    "%timeit usunkoormod(komorka, oski + oski2) "
   ]
  },
  {
   "cell_type": "code",
   "execution_count": 8,
   "metadata": {},
   "outputs": [
    {
     "name": "stdout",
     "output_type": "stream",
     "text": [
      "6.52 µs ± 40.9 ns per loop (mean ± std. dev. of 7 runs, 100000 loops each)\n"
     ]
    }
   ],
   "source": [
    "komorkal = komorka.tolist()\n",
    "%timeit komorkal.index(np.array([1,1,0]).tolist())"
   ]
  }
 ],
 "metadata": {
  "kernelspec": {
   "display_name": "Python 3",
   "language": "python",
   "name": "python3"
  },
  "language_info": {
   "codemirror_mode": {
    "name": "ipython",
    "version": 3
   },
   "file_extension": ".py",
   "mimetype": "text/x-python",
   "name": "python",
   "nbconvert_exporter": "python",
   "pygments_lexer": "ipython3",
   "version": "3.7.2"
  }
 },
 "nbformat": 4,
 "nbformat_minor": 2
}
